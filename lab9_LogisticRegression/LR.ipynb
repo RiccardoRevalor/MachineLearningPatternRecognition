{
 "cells": [
  {
   "cell_type": "markdown",
   "id": "ce94834b",
   "metadata": {},
   "source": [
    "# Logistic Regression\n",
    "\n",
    "## Numerical Optimization\n",
    "The Logistic Regression model is obtained by **minimizing the average cross-entropy between the model predictions and the observed labels**. As we have seen, this corresponds also to a **Maximum Likelihood solution for the observed labels**, or to **minimizing the average Logistic Loss function.** See the next section for all the theory related to Logistic Regression, here we just report the final formulas for the three objective functions:\n",
    "- log-likelihood: $l(\\mathbf{w}, b) = \\sum_{i=1}^{n} \\left[c_i \\log y_i + (1 - c_i) \\log(1 - y_i)\\right] \\rightarrow$ GOAL: maximize $l(\\mathbf{w}, b)$ wrt $\\mathbf{w}, b$.\n",
    "\n",
    "- average cross-entroy: $\\mathcal{J}(\\mathbf{w}, b) = -l(\\mathbf{w}, b) = - \\sum_{i=1}^{n} \\left[c_i \\log y_i + (1 - c_i) \\log(1 - y_i)\\right] \\rightarrow$ GOAL: minimize $\\mathcal{J}(\\mathbf{w}, b)$ wrt $\\mathbf{w}, b$.\n",
    "\n",
    "- average Logistic Loss function: $\\mathcal{J}(\\mathbf{w}, b) = \\sum_{i=1}^{n} \\log(1 + e^{-z_i(\\mathbf{w}^T \\mathbf{x}_i + b)})  \\rightarrow$ GOAL: minimize $\\mathcal{J}(\\mathbf{w}, b)$ wrt $\\mathbf{w}, b$.\n",
    "\n",
    "While for Gaussian models closed form expressions are available for the\n",
    "ML solutions, this is not the case for Logistic Regression. This means, **we can't just solve system of equations to find the optimal parameters**. This is because the **sigmoid** function involved in binary Logistic regression (and the **softmax** function involved in multiclass Logistic regression) make the loss function nonlinear and non-convex in general<br>\n",
    "Therefore, we turn to numerical optimization\n",
    "to find the maximizer of the class likelihoods, or, equivalently, the minimizer of the average cross-entropy or average Logistic Loss function. <br>\n",
    "Numerical optimization algorithms look for the minimum of a function $f(x)$ with respect to the argument\n",
    "$x$. Here we briefly explain two methods, the second one will be the one adopted by us:\n",
    "### 1) Gradient Descent (GD)\n",
    "with this iterative method, at each iteration $t$ we compute $x_{t+1}$ from $x_{t}$:\n",
    "- we compute the gradient $\\nabla f(x_t)$ of the loss function with respect to the current parameters $x_t$.\n",
    "- we then update the parameters by moving in the **opposite direction of the gradient** (this is done by multiplying the gradient by $-1$), scaled by a learning rate (also called step) $\\alpha_t$:\n",
    "\n",
    "$$\n",
    "x_{t+1} = x_t - \\alpha_t \\nabla f(x_t)\n",
    "$$\n",
    "\n",
    "Under the assumptions that the step becomes lower when iterations pass $\\left( \\alpha_t \\rightarrow 0 \\right)$ and that the whole sum of all the steps at each iteration is unbounded $\\left( \\sum_{t=1}^{\\infty} \\alpha_t \\rightarrow \\infty \\right)$, we are certain that the algorithm converges to a **local minimum** of $f$.\n",
    "#### Pros of GD\n",
    "- Easy to implement  \n",
    "- Low memory usage\n",
    "\n",
    "#### Cons of GD\n",
    "- Can be **very slow to converge**  \n",
    "- Sensitive to choice of learning rate  \n",
    "- Struggles with ill-conditioned loss surfaces\n",
    "\n",
    "### 2) L-BFGS (Limited-memory Broyden–Fletcher–Goldfarb–Shanno)\n",
    "L-BFGS is a more advanced optimization algorithm that uses an **approximate second-order method**. Instead of relying solely on the gradient, it also uses curvature information so second order information, such as the Hessian of the function, from previous iterations to guide the search more efficiently. <br>\n",
    "\n",
    "#### Pros of L-BFGS\n",
    "- Much **faster convergence** than gradient descent  \n",
    "- No need to compute or store the full Hessian (which would be $\\mathcal{O}(d^2)$)\n",
    "\n",
    "#### Cons of L-BFGS\n",
    "- Slightly more complex and higher per-iteration cost ($\\mathcal{O}(md)$, whereas GD has just $\\mathcal{O}(d)$)\n",
    "\n",
    "\n",
    "This second algorithm is the one we''l use and is implemented in `scipy` (requires importing `scipy.optimize`). We will use the `scipy.optimize.fmin_l_bfgs_b` interface to the numerical solver.\n",
    "\n",
    "`scipy.optimize.fmin_l_bfgs_b` requires at least 2 arguments (check the documentation for more details):\n",
    "\n",
    "* `func`: the function we want to minimize.\n",
    "* `x0`: the starting value for the algorithm.\n",
    "\n",
    "The L-BFGS algorithm requires computing the objective function and its gradient. To pass the gradient we have different options:\n",
    "\n",
    "* Through `func`: `func` should return a tuple `(f(x), \\nabla_x f(x))`.\n",
    "* Through the optional parameter `fprime`: `fprime` is a function computing the gradient. In this case, `func` should only return the objective value $f(x)$.\n",
    "* Let the implementation compute an approximated gradient: pass `approx_grad = True`. In this case, `func` should only return the objective value $f(x)$.\n",
    "\n",
    "The last option does not require writing a function that computes the gradient, as an approximation of the gradient is automatically obtained through finite differences. While this has the advantage that we do not need to derive and implement the gradient, it has two drawbacks:\n",
    "\n",
    "* The gradient computed through finite differences may not be accurate enough.\n",
    "* The computations are much more expensive, since we need to evaluate the objective function a number of times at least $D$, where $D$ is the size of $x$, at each iteration, and if we want a more accurate approximation of the gradient we may need to evaluate $f$ many more times.\n",
    "\n"
   ]
  },
  {
   "cell_type": "markdown",
   "id": "3851cbf6",
   "metadata": {},
   "source": [
    "As an example, we now try to apply the L-BFGS to the function:\n",
    "$$\n",
    "f(y, z) = (y + 3)^2 + \\sin(y) + (z + 1)^2\n",
    "$$"
   ]
  },
  {
   "cell_type": "code",
   "execution_count": 1,
   "id": "21fcc876",
   "metadata": {},
   "outputs": [],
   "source": [
    "import numpy as np\n",
    "import scipy.optimize as opt"
   ]
  },
  {
   "cell_type": "code",
   "execution_count": 4,
   "id": "37b17704",
   "metadata": {},
   "outputs": [
    {
     "name": "stdout",
     "output_type": "stream",
     "text": [
      "Mimimum of f(y,z) is at x_min = [-2.57747138 -0.99999927]\n",
      "f(y_min,z_min) = f(x_min) = -0.3561430123647649\n",
      "Optimization info: {'grad': array([-1.49324998e-06,  1.46549439e-06]), 'task': 'CONVERGENCE: NORM_OF_PROJECTED_GRADIENT_<=_PGTOL', 'funcalls': 21, 'nit': 6, 'warnflag': 0}\n"
     ]
    }
   ],
   "source": [
    "#implementation of function f(y,z)\n",
    "def f(x):\n",
    "    #x is an numpy array of shape (2,)\n",
    "    #x[0] is y and x[1] is z\n",
    "    #te function returns the value of f(y,z) = (y+3)^2 + sin(y) + (z+1)^2\n",
    "    y = x[0]\n",
    "    z = x[1]\n",
    "\n",
    "    return (y+3)**2 + np.sin(y) + (z+1)**2\n",
    "\n",
    "\n",
    "#Now we call scipy.optimize.fmin_l_bfgs_b passing the function f and the initial x0 which is a numpy array of values [0,0] and approx_grad = True\n",
    "x_0 = np.array([0, 0])\n",
    "\n",
    "#x_min is the minimum point of the function f\n",
    "#f_min is the value of the function f at the minimum point x_min\n",
    "#d is a dictionary with information about the optimization process\n",
    "x_min, f_min, d = opt.fmin_l_bfgs_b(f, x_0, approx_grad=True)\n",
    "\n",
    "print(f\"Mimimum of f(y,z) is at x_min = {x_min}\")\n",
    "print(f\"f(y_min,z_min) = f(x_min) = {f_min}\")\n",
    "print(f\"Optimization info: {d}\")"
   ]
  }
 ],
 "metadata": {
  "kernelspec": {
   "display_name": "Python 3",
   "language": "python",
   "name": "python3"
  },
  "language_info": {
   "codemirror_mode": {
    "name": "ipython",
    "version": 3
   },
   "file_extension": ".py",
   "mimetype": "text/x-python",
   "name": "python",
   "nbconvert_exporter": "python",
   "pygments_lexer": "ipython3",
   "version": "3.9.13"
  }
 },
 "nbformat": 4,
 "nbformat_minor": 5
}
