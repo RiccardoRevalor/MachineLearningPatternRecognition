{
 "cells": [
  {
   "cell_type": "markdown",
   "id": "1af30a4f",
   "metadata": {},
   "source": [
    "# Gaussian Mixture Models (GMM)"
   ]
  },
  {
   "cell_type": "code",
   "execution_count": 41,
   "id": "00dd7d74",
   "metadata": {},
   "outputs": [],
   "source": [
    "import numpy as np\n",
    "from logpdf_loglikelihood_GAU import logpdf_GAU_ND #for single density of a gaussian component\n",
    "from scipy.special import logsumexp #for marginalizing the joints to retrieve the GMM log density\n",
    "from mean_covariance import vrow, vcol, compute_mu_C #for computing the mean and covariance of a Gaussian component"
   ]
  },
  {
   "cell_type": "code",
   "execution_count": 42,
   "id": "7ef4e1f9",
   "metadata": {},
   "outputs": [],
   "source": [
    "def logpdf_GMM(X, gmm):\n",
    "    \"\"\"\n",
    "    Compute log density of data points X under a Gaussian Mixture Model (GMM).\n",
    "    Parameters\n",
    "    -X: matrix of size (D, N) where D is the number of features and N is the number of data points.\n",
    "    -gmm: list of gaussian components. Each one is a tuple of (weight, mean, covariance).\n",
    "           weight: scalar\n",
    "           mean: vector of size (D,)\n",
    "           covariance: matrix of size (D, D)\n",
    "        Example: gmm = [(w1, mu1, C1), (w2, mu2, C2), ...]\n",
    "    Returns\n",
    "    -logpdf: vector of size (N,) containing the log density of each data point under the GMM.\n",
    "    \"\"\"\n",
    "\n",
    "    #1. create matrix S of shape (K, N), where N = number of samples and K = number of components\n",
    "    K = len(gmm)  # number of components\n",
    "    N = X.shape[1]\n",
    "    S = np.zeros((K, N))\n",
    "\n",
    "    #iterate over components, for each componente take mean, covariance and compute log density of the Gaussian\n",
    "    for k in range(K):\n",
    "        weight, mean, covariance = gmm[k]\n",
    "        S[k, :] = logpdf_GAU_ND(X, mean, covariance) + np.log(weight)\n",
    "    \n",
    "    #these are the log joints, then GMM can be casted as a latent variable model, i.e. we can find the GMM log density marginalizing the joints over the latent variable\n",
    "    #latent variable if the component/cluster\n",
    "    logdens = logsumexp(S, axis=0)  #marginalize joints over the components\n",
    "\n",
    "    return logdens  "
   ]
  },
  {
   "cell_type": "markdown",
   "id": "99100d17",
   "metadata": {},
   "source": [
    "we now test the function to compute the GMM log density over a reference dataset using reference GMM parameters:"
   ]
  },
  {
   "cell_type": "code",
   "execution_count": 43,
   "id": "8a992046",
   "metadata": {},
   "outputs": [],
   "source": [
    "from GMM_load import load_gmm, save_gmm"
   ]
  },
  {
   "cell_type": "code",
   "execution_count": 44,
   "id": "9422b04f",
   "metadata": {},
   "outputs": [
    {
     "name": "stdout",
     "output_type": "stream",
     "text": [
      "Shape of example_X: (4, 1000)\n",
      "GMM log likelihood shape: (1000,)\n",
      "The computed log likelihoods match the solution.\n"
     ]
    }
   ],
   "source": [
    "#load first GMM\n",
    "gmm = load_gmm('./GMM_models/GMM_4D_3G_init.json')\n",
    "example_X = np.load('./Data/GMM_data_4D.npy')\n",
    "\n",
    "print(f'Shape of example_X: {example_X.shape}')\n",
    "\n",
    "GMM_ll = logpdf_GMM(example_X, gmm)\n",
    "print(f'GMM log likelihood shape: {GMM_ll.shape}')\n",
    "\n",
    "#compare\n",
    "GMM_ll_solution = np.load('./GMM_models/ll/GMM_4D_3G_init_ll.npy')\n",
    "\n",
    "#check if the log likelihoods are equal\n",
    "if np.allclose(GMM_ll, GMM_ll_solution):\n",
    "    print(\"The computed log likelihoods match the solution.\")"
   ]
  },
  {
   "cell_type": "code",
   "execution_count": 45,
   "id": "2a9a3251",
   "metadata": {},
   "outputs": [
    {
     "name": "stdout",
     "output_type": "stream",
     "text": [
      "Shape of example_X_1D: (1, 4000)\n",
      "GMM log likelihood shape for 1D data: (4000,)\n",
      "The computed log likelihoods for 1D data match the solution.\n"
     ]
    }
   ],
   "source": [
    "#chek with 1-D Data\n",
    "gmm_1D = load_gmm('./GMM_models/GMM_1D_3G_init.json')\n",
    "example_X_1D = np.load('./Data/GMM_data_1D.npy')\n",
    "print(f'Shape of example_X_1D: {example_X_1D.shape}')\n",
    "GMM_ll_1D = logpdf_GMM(example_X_1D, gmm_1D)\n",
    "print(f'GMM log likelihood shape for 1D data: {GMM_ll_1D.shape}')\n",
    "\n",
    "#compare with 1D solution\n",
    "GMM_ll_1D_solution = np.load('./GMM_models/ll/GMM_1D_3G_init_ll.npy')\n",
    "#check if the log likelihoods are equal\n",
    "if np.allclose(GMM_ll_1D, GMM_ll_1D_solution):\n",
    "    print(\"The computed log likelihoods for 1D data match the solution.\")"
   ]
  },
  {
   "cell_type": "markdown",
   "id": "8d950fc6",
   "metadata": {},
   "source": [
    "# GMM Estimation: E-M Algorithm"
   ]
  },
  {
   "cell_type": "markdown",
   "id": "52950521",
   "metadata": {},
   "source": [
    "1) **E-step**: here we have to minimize the KL divergence, so the ELBO gets higher and equals to objective function of GMM. In practice, in order to make the KL divergence become equal to zero, its minimum, we are required to compute the responsibilities, so the cluster posteriors. So, we compute the **auxiliary function**:\n",
    "    $$\n",
    "    \\text{AUX}(\\theta, \\theta_t) = \\mathbb{E}_{C_1, ..., C_M \\mid \\mathbf{X}_1 = \\mathbf{x}_1, ...., \\mathbf{X}_N = \\mathbf{x}_N, \\theta_t} \\left[ \\log f_{\\mathbf{X}_1, ..., \\mathbf{X}_N, C_1, ..., C_N}(\\mathbf{x}_1, ..., \\mathbf{x}_N, c_1, ..., c_N \\mid \\theta_t)\\right]\n",
    "    $$\n",
    "    Exploiting the *i.i.d* assumption for our samples, and the linearity property of the expectation operator (i.e. an expectation over a sum is equal to the sum of all the single expectations):\n",
    "    $$\n",
    "    \\text{AUX}(\\theta, \\theta_t) = \\sum_{i = 1}^N \\mathbb{E}_{C_1, ..., C_M \\mid \\mathbf{X}_1 = \\mathbf{x}_1, ...., \\mathbf{X}_N = \\mathbf{x}_N, \\theta_t} \\left[ \\log f_{\\mathbf{X}_i, C_i}(\\mathbf{x}_i, c_i \\mid \\theta_t)\\right]\n",
    "    $$\n",
    "    Then we can observe that, since in the expectations we just have the log-joint for the i-th samples, these expectations just depends on the posteriors of the i-th samples:\n",
    "    $$\n",
    "    \\text{AUX}(\\theta, \\theta_t) = \\sum_{i = 1}^N \\mathbb{E}_{C_i \\mid \\mathbf{X}_i = \\mathbf{x}_i, \\theta_t} \\left[ \\log f_{\\mathbf{X}_i, C_i}(\\mathbf{x}_i, c_i \\mid \\theta_t)\\right]\n",
    "    $$\n",
    "    Then, computing the responsibilities, we can write the values of these expectations as:\n",
    "    $$\n",
    "    \\text{AUX}(\\theta, \\theta_t) = \\sum_{i = 1}^N \\sum_{c = 1}^{K} \\gamma_{c, i} \\left[ \\log \\mathcal{N}(\\mathbf{x}_i \\mid \\mu_c, \\mathbf{\\Sigma}_c) + \\log w_c\\right]\n",
    "    $$\n",
    "    So, $\\text{AUX}(\\theta, \\theta_t)$ depends on the cluster posteriors, which we compute in this step like this:\n",
    "    $$\n",
    "    \\gamma_{c, i} = f_{C \\mid \\mathbf{X}}(c \\mid \\mathbf{x}_i, \\mathbf{\\theta}_t) = \\frac{\\mathcal{N}(\\mathbf{x}_i \\mid \\mu_c, \\mathbf{\\Sigma}_c) wc}{\\sum_{c' = 1}^K \\mathcal{N}(\\mathbf{x}_i \\mid \\mu_c', \\mathbf{\\Sigma}_c') wc'}\n",
    "    $$\n",
    "\n",
    "2) **M-step**: in this step we use the cluster labels inferred in the first step, to estimate a new set of model parameters. In practice, we optimize the auxiliary function $\\text{AUX}(\\theta, \\theta_t)$ wrt $\\theta = \\left[ \\mathbf{M}, \\mathbf{S}, \\mathbf{w}\\right]$ and $\\sum_{i = 1}^K w_c = 1$, following a ML approach, and we find:\n",
    "    $$\n",
    "    \\mu_c^{t+1} = \\frac{\\sum_{i = 1}^N \\gamma_{c, i} \\mathbf{x}_i}{\\sum_{i = 1}^N \\gamma_{c, i}}\n",
    "    $$\n",
    "    $$\n",
    "    \\mathbf{\\Sigma}_c^{t+1} = \\frac{\\sum_{i = 1}^N \\gamma_{c, i} \\left( \\mathbf{x}_i - \\mu_c\\right) \\left( \\mathbf{x}_i - \\mu_c\\right)^T}{\\sum_{i = 1}^N \\gamma_{c, i}}\n",
    "    $$\n",
    "    $$\n",
    "    w_c^{t+1} = \\frac{\\sum_{i = 1}^N \\gamma_{c, i}}{\\sum_{c' = 1}^K \\sum_{i = 1}^N \\gamma_{c', i}}\n",
    "    $$\n",
    "    Here we can call $N_c = \\sum_{i = 1}^N \\gamma_{c, i}$ and $N = \\sum_{c' = 1}^K \\sum_{i = 1}^N \\gamma_{c', i}$. Note that when camputing these parameters for cluser $c$ we **always sum all the fractions of the points in the dataset**, thus respecting the **soft margin assignments** approach. <br>\n",
    "    When programming the algorithm, we can build and reuse for all the three estimates these zero, first and second order statistics:\n",
    "    $$\n",
    "    Z_c = \\sum_{i = 1}^N \\gamma_{c, i} \\qquad\n",
    "    \n",
    "    \\mathbf{F}_c = \\sum_{i = 1}^N \\gamma_{c, i} \\mathbf{x}_i \\qquad\n",
    "    \n",
    "    \\mathbf{S}_c = \\sum_{i = 1}^N \\gamma_{c, i} \\mathbf{x}_i \\mathbf{x}_i^T\n",
    "    $$\n",
    "    and rewrite the new three estimates for cluster $c$ this way:\n",
    "    $$\n",
    "    \\mu_c^{t+1} = \\frac{\\mathbf{F}_c}{Z_c}\n",
    "    $$\n",
    "    $$\n",
    "    \\mathbf{\\Sigma}_c^{t+1} = \\frac{\\mathbf{S}_c}{Z_c} - \\mu_c^{(t+1)} {\\mu_c^{(t+1)}}^T\n",
    "    $$\n",
    "    $$\n",
    "    w_c^{t+1} = \\frac{Z_c}{N}\n",
    "    $$"
   ]
  },
  {
   "cell_type": "markdown",
   "id": "ebb4c7a0",
   "metadata": {},
   "source": [
    "E-M in practice:"
   ]
  },
  {
   "cell_type": "code",
   "execution_count": 46,
   "id": "311ec08f",
   "metadata": {},
   "outputs": [],
   "source": [
    "def GMM_EM_iteration(X, gmm_start):\n",
    "   \"\"\"\n",
    "      One single iteration of the EM algorithm for Gaussian Mixture Models (GMM).\n",
    "      Parameters\n",
    "      -X: matrix of size (D, N) where D is the number of features and N is the number of data points.\n",
    "      -gmm_start: list of starter GMM components. Can be obtained with either K-Means or LGB Algorithm.\n",
    "               Each one is a tuple of (weight, mean, covariance).\n",
    "               weight: scalar\n",
    "               mean: vector of size (D,)\n",
    "               covariance: matrix of size (D, D)\n",
    "      -threshold_stop: threshold for stopping the EM algorithm. If the change in log likelihood is less than this value, stop.\n",
    "      Returns\n",
    "      -gmm: list of gaussian components. Each one is a tuple of (weight, mean, covariance).\n",
    "            weight: scalar\n",
    "            mean: vector of size (D,)\n",
    "            covariance: matrix of size (D, D)\n",
    "    \"\"\"\n",
    "    \n",
    "   #1. E-STEP: compute responsibilities\n",
    "   #create matrix S of shape (K, N), where N = number of samples and K = number of components\n",
    "   K = len(gmm_start)  # number of components\n",
    "   N = X.shape[1]\n",
    "   S = np.zeros((K, N))\n",
    "\n",
    "   #iterate over components, for each componente take mean, covariance and compute log density of the Gaussian\n",
    "   for k in range(K):\n",
    "      weight, mean, covariance = gmm_start[k]\n",
    "      S[k, :] = logpdf_GAU_ND(X, mean, covariance) + np.log(weight)\n",
    "\n",
    "\n",
    "   #for each sample, marginalize the log-joints over the components to get the log-marginal\n",
    "   logdens = logsumexp(S, axis=0)  #vector of size (N,)\n",
    "\n",
    "   #compute log-posteriors by removing log-marginal from the log-joints\n",
    "   log_posteriors = S - logdens   #(K, N) - (N,) -> broadcasting -> (K, N) - (N,N) = (K, N) thanks to broadcasting\n",
    "\n",
    "   #compute responsibilities, so cluster posteriors, by exponentiating the log-posteriors\n",
    "   responsibilities = np.exp(log_posteriors) #(K, N)\n",
    "\n",
    "\n",
    "   #2. M-STEP: estimate new GMM parameters\n",
    "   gmm = []\n",
    "   #compute zero, first, and second order statistics from the responsibilities of each cluster\n",
    "   #for each cluster k, do:\n",
    "   for k in range(K):\n",
    "      gamma = responsibilities[k, :]\n",
    "      Z_gamma = np.sum(gamma) #zero order\n",
    "      F_gamma = vcol(np.sum(vrow(gamma) * X, axis = 1)) #first order\n",
    "      S_gamma = (vrow(gamma) * X) @ X.T #second order, (D, N) @ (N, D) = (D, D)\n",
    "\n",
    "      #ESTIMATE NEW PARAMS for the cluster k\n",
    "      mu_k_new = F_gamma / Z_gamma  #col vector (D, 1)\n",
    "      cov_k_new = S_gamma / Z_gamma - vcol(mu_k_new) @ vrow(mu_k_new)  #covariance matrix, (D, D)\n",
    "      weight_k_new = Z_gamma / N #n = sum of reponsibilities for each sample for each cluster k = total number of samples, since responsibilities of each sample sum to 1 being fractions\n",
    "      gmm.append((weight_k_new, mu_k_new, cov_k_new))  #append new params for the cluster k\n",
    "\n",
    "   return gmm  #return the new GMM parameters after one EM iteration\n",
    "\n",
    "\n",
    "\n",
    "def train_GMM_EM(X, gmm_start, threshold_stop=1e-6, max_iter=1000):\n",
    "   \"\"\"\n",
    "   EM algorithm for Gaussian Mixture Models (GMM). \n",
    "   Parameters\n",
    "   -X: matrix of size (D, N) where D is the number of features and N is the number of data points.\n",
    "   -gmm_start: list of starter GMM components. Can be obtained with either K-Means or LGB Algorithm.\n",
    "            Each one is a tuple of (weight, mean, covariance).\n",
    "            weight: scalar\n",
    "            mean: vector of size (D,)\n",
    "            covariance: matrix of size (D, D)\n",
    "   -threshold_stop: threshold for stopping the EM algorithm. If the change in log likelihood is less than this value, stop.\n",
    "   -max_iter: maximum number of iterations for the EM algorithm.\n",
    "   Returns\n",
    "   -gmm: list of gaussian components. Each one is a tuple of (weight, mean, covariance).\n",
    "            weight: scalar\n",
    "            mean: vector of size (D,)\n",
    "            covariance: matrix of size (D, D)\n",
    "   \"\"\"\n",
    "\n",
    "   gmm_old = gmm_start.copy()  \n",
    "   num_iters = 0\n",
    "   while True:\n",
    "      #compute the log likelihood with old GMM params\n",
    "      GMM_ll_old = logpdf_GMM(X, gmm_old).mean()  \n",
    "\n",
    "      #run 1 iter of EM\n",
    "      gmm_new = GMM_EM_iteration(X, gmm_old)\n",
    "\n",
    "      #compute new log likelihood\n",
    "      GMM_ll_new = logpdf_GMM(X, gmm_new).mean()\n",
    "\n",
    "      #for sure GMM_ll_new >= GMM_ll_old\n",
    "      #stop if GMM_ll_new - GMM_ll_old < threshold_stop\n",
    "      if GMM_ll_old > GMM_ll_new:\n",
    "         print(\"Warning: mean GMM log likelihood decreased. This is unexpected.\")\n",
    "         print(f\"GMM_ll_old (mean): {GMM_ll_old}, GMM_ll_new (mean): {GMM_ll_new}\")\n",
    "         \n",
    "      if GMM_ll_new - GMM_ll_old < threshold_stop:\n",
    "         break\n",
    "\n",
    "      num_iters += 1\n",
    "      if num_iters >= max_iter:\n",
    "         print(f\"Reached maximum number of iterations: {max_iter}. Stopping EM.\")\n",
    "         break\n",
    "\n",
    "      #update old GMM params\n",
    "      gmm_old = gmm_new.copy()\n",
    "\n",
    "\n",
    "   return gmm_new, GMM_ll_new  #return the last GMM parameters after EM iterations, plus the final log likelihood\n"
   ]
  },
  {
   "cell_type": "markdown",
   "id": "8105f784",
   "metadata": {},
   "source": [
    "Let's apply the E-M Algorithm to the example data, using example initial params:"
   ]
  },
  {
   "cell_type": "code",
   "execution_count": 47,
   "id": "76be7aa9",
   "metadata": {},
   "outputs": [
    {
     "name": "stdout",
     "output_type": "stream",
     "text": [
      "The computed GMM parameters match the solution.\n"
     ]
    }
   ],
   "source": [
    "example_X = np.load('./Data/GMM_data_4D.npy')\n",
    "gmm_start = load_gmm('./GMM_models/GMM_4D_3G_init.json')\n",
    "threshold_stop = 1e-6\n",
    "gmm_final, _ = train_GMM_EM(example_X, gmm_start, threshold_stop=threshold_stop)\n",
    "\n",
    "\n",
    "#compare with the solution\n",
    "gmm_EM_solution = load_gmm('./GMM_models/GMM_4D_3G_EM.json')\n",
    "\n",
    "#check if the GMM parameters are equal\n",
    "if all(np.isclose(gmm_final[k][0], gmm_EM_solution[k][0]) and np.allclose(gmm_final[k][1], gmm_EM_solution[k][1]) and np.allclose(gmm_final[k][2], gmm_EM_solution[k][2]) for k in range(len(gmm_final))):\n",
    "    print(\"The computed GMM parameters match the solution.\")"
   ]
  },
  {
   "cell_type": "markdown",
   "id": "2b1ce19c",
   "metadata": {},
   "source": [
    "# LBG + E-M"
   ]
  },
  {
   "cell_type": "code",
   "execution_count": 55,
   "id": "c1890b8e",
   "metadata": {},
   "outputs": [],
   "source": [
    "def LBG(gmmToSplit, alpha):\n",
    "    \"\"\"\n",
    "    Apply Linde-Buzo-Gray (LBG) algorithm to split a GMM component into two.\n",
    "    This atomically splits a 1-Component GMM (i.e. a single Gaussian) into two components (i.e. two Gaussians).\n",
    "    Parameters\n",
    "    -gmmToSplit: a GMM with a single component, i.e. a tuple of (weight, mean, covariance).\n",
    "                 weight: scalar\n",
    "                 mean: vector of size (D,)\n",
    "                 covariance: matrix of size (D, D)\n",
    "    -alpha: scalar, the factor by which to scale the displacement vector. It dictates how far the two new components will be displaced from the original component.\n",
    "    \"\"\"\n",
    "\n",
    "    #cov matrices are left like this\n",
    "    weights_new = gmmToSplit[0] / 2  #split the weight in half\n",
    "\n",
    "    #to separate the two components, we displace the mean of the original component along the direction of maximum variance\n",
    "    #so in practice, we compute two means, which are the top of the Gaussian bell, and decide how far apart they have to be from each other\n",
    "    #alpha is a scaling factor that determines how far apart the two new components will be from the original component\n",
    "    #compute displacement vector by taking the leading eigevctor of the covariance matrix\n",
    "    #in practce, we are displacing the 2 components along the direction of maximum variance\n",
    "    #the step we use is the square root of the leading eigenvalue, which is the standard deviation along the leading eigenvector\n",
    "    U, s, Vh = np.linalg.svd(gmmToSplit[2])  #SVD to get the leading eigenvector\n",
    "    displacement_vector = vcol(U[:, 0] * np.sqrt(s[0]) * alpha)  #leading eigenvector scaled by the square root of the leading eigenvalue and alpha\n",
    "\n",
    "    return [\n",
    "        (weights_new, gmmToSplit[1] - displacement_vector, gmmToSplit[2]),  #first component\n",
    "        (weights_new, gmmToSplit[1] + displacement_vector, gmmToSplit[2])   #second component\n",
    "    ]  #return the two new components as a list of tuples"
   ]
  },
  {
   "cell_type": "code",
   "execution_count": 56,
   "id": "11255f4a",
   "metadata": {},
   "outputs": [],
   "source": [
    "def train_GMM_EM_LBG(X, targetNumberComponents, threshold_stop=1e-6, alpha=0.1):\n",
    "    \"\"\"\n",
    "    Train a GMM using Expectation-Maximization algorithm, with a target number of components using the Linde-Buzo-Gray (LBG) algorithm.\n",
    "    Parameters\n",
    "    -X: matrix of size (D, N) where D is the number of features and N is the number of data points.\n",
    "    -targetNumberComponents: target number of Gaussian components to reach in the GMM. It has to be an even number, grater or equal than 2\n",
    "    -threshold_stop: threshold for stopping the EM algorithm. If the change in log likelihood is less than this value, stop.\n",
    "    -alpha: scalar, the factor by which to scale the displacement vector in the LBG algorithm.\n",
    "            It dictates how far the two new components will be displaced from the original component, along the direction of maximum variance.\n",
    "    Returns\n",
    "    -gmm: list of gaussian components. Each one is a tuple of (weight, mean, covariance).\n",
    "          weight: scalar\n",
    "          mean: vector of size (D,)\n",
    "          covariance: matrix of size (D, D)\n",
    "    \"\"\"\n",
    "    #check if targetNumberComponents is even, and greater than or equal to 2\n",
    "    if targetNumberComponents < 2 or targetNumberComponents % 2 != 0:\n",
    "        raise ValueError(\"targetNumberComponents must be an even number greater than or equal to 2.\")\n",
    "    \n",
    "    currentNumberComponents = 1\n",
    "    GMM_ll_new = 0 #final log likelihood to be returned\n",
    "\n",
    "    #start with a 1-component GMM, i.e. the initial GMM is a single Gaussian\n",
    "    #its params, following a ML approach, are the empirical mean and empirical covariance matrix \n",
    "    mu, c = compute_mu_C(X)\n",
    "    gmm_old = [(1.0, mu, c)]  #initial GMM with a single component, weight = 1.0, mean = mu, covariance = c\n",
    "\n",
    "    while currentNumberComponents < targetNumberComponents:\n",
    "\n",
    "        #phase 1: split components, go from G to 2G components\n",
    "        gmm_new = []\n",
    "        for k in range(currentNumberComponents):\n",
    "            _2GComponents = LBG(gmm_old[k], alpha)  #split each component into two with LBG\n",
    "            gmm_new.append(_2GComponents[0])  \n",
    "            gmm_new.append(_2GComponents[1])\n",
    "            currentNumberComponents += 1 #from 1 we split into 2, so we increase the number of components by 1 every time we split a component\n",
    "\n",
    "        \n",
    "\n",
    "        #phase2: use the 2G components as initial GMM for EM and let it converge\n",
    "        gmm_old, GMM_ll_new = train_GMM_EM(X, gmm_new, threshold_stop=threshold_stop)\n",
    "\n",
    "\n",
    "    return gmm_old, GMM_ll_new  #return the final GMM parameters after EM iterations, plus the final log likelihood\n",
    "\n",
    "    \n"
   ]
  },
  {
   "cell_type": "markdown",
   "id": "c40d200b",
   "metadata": {},
   "source": [
    "Let's test EM+LBG with sample data:"
   ]
  },
  {
   "cell_type": "code",
   "execution_count": 58,
   "id": "6c244c54",
   "metadata": {},
   "outputs": [
    {
     "name": "stdout",
     "output_type": "stream",
     "text": [
      "Shape of example_X: (4, 1000)\n",
      "The computed GMM parameters after LBG match the solution.\n"
     ]
    }
   ],
   "source": [
    "example_X = np.load('./Data/GMM_data_4D.npy')\n",
    "print(f'Shape of example_X: {example_X.shape}')\n",
    "gmm_em_lbg, final_ll = train_GMM_EM_LBG(X=example_X, targetNumberComponents=example_X.shape[0], threshold_stop=1e-6, alpha=0.1)\n",
    "\n",
    "#check if the GMM parameters are equal to the solution\n",
    "gmm_EM_LBG_solution = load_gmm('./GMM_models/GMM_4D_4G_EM_LBG.json')\n",
    "\n",
    "#check if the GMM parameters are equal\n",
    "if all(np.isclose(gmm_em_lbg[k][0], gmm_EM_LBG_solution[k][0]) and np.allclose(gmm_em_lbg[k][1], gmm_EM_LBG_solution[k][1]) and np.allclose(gmm_em_lbg[k][2], gmm_EM_LBG_solution[k][2]) for k in range(len(gmm_em_lbg))):\n",
    "    print(\"The computed GMM parameters after LBG match the solution.\")"
   ]
  },
  {
   "cell_type": "markdown",
   "id": "deeecfcf",
   "metadata": {},
   "source": [
    "Let's try it with a 1 dimensional dataset, and let's plot the estimated GMM density:\n"
   ]
  },
  {
   "cell_type": "code",
   "execution_count": 64,
   "id": "09baf815",
   "metadata": {},
   "outputs": [
    {
     "name": "stdout",
     "output_type": "stream",
     "text": [
      "Shape of one_dimensional_example_X: (1, 4000)\n"
     ]
    }
   ],
   "source": [
    "one_dimensional_example_X = np.load('./Data/GMM_data_1D.npy')\n",
    "print(f'Shape of one_dimensional_example_X: {one_dimensional_example_X.shape}')\n",
    "gmm_em_lbg_1D, final_ll_1D = train_GMM_EM_LBG(X=one_dimensional_example_X, targetNumberComponents=4, threshold_stop=1e-6, alpha=0.1)"
   ]
  },
  {
   "cell_type": "code",
   "execution_count": 68,
   "id": "9d8c3ce9",
   "metadata": {},
   "outputs": [
    {
     "data": {
      "text/plain": [
       "4"
      ]
     },
     "execution_count": 68,
     "metadata": {},
     "output_type": "execute_result"
    }
   ],
   "source": [
    "len(gmm_em_lbg_1D)"
   ]
  },
  {
   "cell_type": "code",
   "execution_count": null,
   "id": "af9fb2b6",
   "metadata": {},
   "outputs": [
    {
     "data": {
      "image/png": "[encoded data removed]",
      "text/plain": [
       "<Figure size 1000x600 with 1 Axes>"
      ]
     },
     "metadata": {},
     "output_type": "display_data"
    }
   ],
   "source": [
    "import matplotlib.pyplot as plt\n",
    "\n",
    "def plot_GMM_1D(X_data, gmm):\n",
    "    \"\"\"\n",
    "    Plots the Gaussian Mixture Model (GMM) density function over the histogram of the original data.\n",
    "\n",
    "    Parameters:\n",
    "    - X_data: array-like, shape (N,) or (N, 1)\n",
    "    - gmm: list of tuples, where each tuple represents a Gaussian component in the GMM.\n",
    "    \"\"\"\n",
    "    plt.figure(figsize=(10, 6))\n",
    "    \n",
    "    plt.hist(X_data.ravel(), bins=100, density=True, label='Istogramma dei Dati', alpha=0.7, color='skyblue', edgecolor='grey')\n",
    "    \n",
    "    x_plot = np.linspace(X_data.min(), X_data.max(), 1000)\n",
    "    \n",
    "    #we have to reshape x_plot to be a row vector, so from (1000,) to (1, 1000)\n",
    "    x_plot_reshaped = vrow(x_plot)\n",
    "\n",
    "    #compute the log density of the GMM over the x_plot, and then exponentiate it to get the PDF\n",
    "    log_pdf_gmm = logpdf_GMM(x_plot_reshaped, gmm)\n",
    "    pdf_gmm = np.exp(log_pdf_gmm)\n",
    "    \n",
    "    plt.plot(x_plot, pdf_gmm, color='red', linewidth=2, label='GMM PDF')\n",
    "    \n",
    "    plt.title('GMM Density fitted to 1D Data')\n",
    "    plt.xlabel('Data Points')\n",
    "    plt.ylabel('GMM Density')\n",
    "    plt.legend()\n",
    "    plt.grid(True, linestyle='--', alpha=0.5)\n",
    "    plt.show()\n",
    "\n",
    "\n",
    "plot_GMM_1D(one_dimensional_example_X, gmm_em_lbg_1D)"
   ]
  }
 ],
 "metadata": {
  "kernelspec": {
   "display_name": "Python 3",
   "language": "python",
   "name": "python3"
  },
  "language_info": {
   "codemirror_mode": {
    "name": "ipython",
    "version": 3
   },
   "file_extension": ".py",
   "mimetype": "text/x-python",
   "name": "python",
   "nbconvert_exporter": "python",
   "pygments_lexer": "ipython3",
   "version": "3.9.13"
  }
 },
 "nbformat": 4,
 "nbformat_minor": 5
}
