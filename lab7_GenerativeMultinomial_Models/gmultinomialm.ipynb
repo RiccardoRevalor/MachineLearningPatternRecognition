{
 "cells": [
  {
   "cell_type": "markdown",
   "id": "acf8488a",
   "metadata": {},
   "source": [
    "# A multinomial model for text\n",
    "\n",
    "Dante’s “Divina Commedia” is a well known example of a poem in which the author uses different styles\n",
    "through the different parts of the work. The poem is divided in three Cantiche, respectively “Inferno”\n",
    "(Hell), “Purgatorio” (Purgatory) and “Paradiso” (Heaven). Each part is written using different linguistic\n",
    "styles, moving from less to more aulic as we progress from Hell towards Heaven. Each Cantica is divided\n",
    "in Canti, 34 for Inferno, and 33 for Purgatorio and Paradiso. Each Canto consists of a variable number\n",
    "of verses (115 to 160), organized in tercets. <br>\n",
    "In this laboratory we will use statistical methods to analyze how the stylistic differences can be exploited\n",
    "to understand the Cantica of a given tercet. In particular, we will build a multinomial word model for\n",
    "the three Canticas and classify tercets excerpts. To avoid biased results, the tercets used to train the\n",
    "model will be different from those we evaluate on.\n"
   ]
  },
  {
   "cell_type": "markdown",
   "id": "a48c2c20",
   "metadata": {},
   "source": [
    "### Loading Data\n",
    "The files data/inferno.txt, data/purgatorio.txt, data/paradiso.txt contain tercets for the\n",
    "three different parts. To simplifying parsing, the files are already organized so that each line corresponds\n",
    "to a tercet. We use $25%$ of the tercets as validation, and the remaining ones as\n",
    "training data."
   ]
  },
  {
   "cell_type": "code",
   "execution_count": 1,
   "id": "2d9854cd",
   "metadata": {},
   "outputs": [],
   "source": [
    "import numpy as np\n",
    "from load import load_data, split_data"
   ]
  },
  {
   "cell_type": "code",
   "execution_count": 2,
   "id": "dd94be0b",
   "metadata": {},
   "outputs": [
    {
     "name": "stdout",
     "output_type": "stream",
     "text": [
      "lInf - size (number of tercets): 1597\n",
      "lPur - size (number of tercets): 1608\n",
      "lPar - size (number of tercets): 1607\n"
     ]
    }
   ],
   "source": [
    "lInf, lPur, lPar = load_data()\n",
    "print(\"lInf - size (number of tercets):\", len(lInf))\n",
    "print(\"lPur - size (number of tercets):\", len(lPur))\n",
    "print(\"lPar - size (number of tercets):\", len(lPar)) "
   ]
  },
  {
   "cell_type": "code",
   "execution_count": 3,
   "id": "7fd16c8f",
   "metadata": {},
   "outputs": [
    {
     "name": "stdout",
     "output_type": "stream",
     "text": [
      "lInf_train - size (number of tercets): 1197\n",
      "lInf_evaluation - size (number of tercets): 400\n",
      "lPur_train - size (number of tercets): 1206\n",
      "lPur_evaluation - size (number of tercets): 402\n",
      "lPar_train - size (number of tercets): 1205\n",
      "lPar_evaluation - size (number of tercets): 402\n"
     ]
    }
   ],
   "source": [
    "#Split the data: reserve 25% for validation, 75% for training\n",
    "lInf_train, lInf_evaluation = split_data(lInf, 4)\n",
    "lPur_train, lPur_evaluation = split_data(lPur, 4)\n",
    "lPar_train, lPar_evaluation = split_data(lPar, 4)\n",
    "\n",
    "print(\"lInf_train - size (number of tercets):\", len(lInf_train))\n",
    "print(\"lInf_evaluation - size (number of tercets):\", len(lInf_evaluation))\n",
    "print(\"lPur_train - size (number of tercets):\", len(lPur_train))\n",
    "print(\"lPur_evaluation - size (number of tercets):\", len(lPur_evaluation))\n",
    "print(\"lPar_train - size (number of tercets):\", len(lPar_train))\n",
    "print(\"lPar_evaluation - size (number of tercets):\", len(lPar_evaluation))"
   ]
  },
  {
   "cell_type": "markdown",
   "id": "1e2d1cd4",
   "metadata": {},
   "source": [
    "Now, we create a dictionary of all te tercets used for training:"
   ]
  },
  {
   "cell_type": "code",
   "execution_count": 4,
   "id": "e7f8085c",
   "metadata": {},
   "outputs": [],
   "source": [
    "DTR = {\n",
    "    \"lInf\": lInf_train,\n",
    "    \"lPur\": lPur_train,\n",
    "    \"lPar\": lPar_train\n",
    "}"
   ]
  },
  {
   "cell_type": "code",
   "execution_count": 5,
   "id": "1c0e9d21",
   "metadata": {},
   "outputs": [
    {
     "name": "stdout",
     "output_type": "stream",
     "text": [
      "Number of Inferno tercets: 400\n",
      "Number of Purgatorio tercets: 402\n",
      "Number of Paradiso tercets: 402\n"
     ]
    }
   ],
   "source": [
    "print(f\"Number of Inferno tercets: {len(lInf_evaluation)}\")\n",
    "print(f\"Number of Purgatorio tercets: {len(lPur_evaluation)}\")\n",
    "print(f\"Number of Paradiso tercets: {len(lPar_evaluation)}\")"
   ]
  },
  {
   "cell_type": "code",
   "execution_count": 6,
   "id": "8ae49933",
   "metadata": {},
   "outputs": [],
   "source": [
    "DVAL = lInf_evaluation + lPur_evaluation + lPar_evaluation"
   ]
  },
  {
   "cell_type": "markdown",
   "id": "035c1ae1",
   "metadata": {},
   "source": [
    "We build the true labels for each tercet, since we know that the first $400$ tercets belong to *Inferno*, the next $402$ to *Purgatorio* and the last $402$ to *Paradiso*:"
   ]
  },
  {
   "cell_type": "code",
   "execution_count": 7,
   "id": "6dc689b4",
   "metadata": {},
   "outputs": [
    {
     "name": "stdout",
     "output_type": "stream",
     "text": [
      "LVAL has shape: (1204,)\n"
     ]
    }
   ],
   "source": [
    "LVAL = [0] * len(lInf_evaluation) + [1] * len(lPur_evaluation) + [2] * len(lPar_evaluation)\n",
    "LVAL = np.array(LVAL)\n",
    "print(f\"LVAL has shape: {LVAL.shape}\")"
   ]
  },
  {
   "cell_type": "markdown",
   "id": "f7ecf67d",
   "metadata": {},
   "source": [
    "## Model #1\n",
    "We can assume the document is composed of $N$ words (for ex: if the document is just a simple sentence like \"How are you\", we have $N = 3$). <br>\n",
    "More precisely, each word corresponds to a **token**: in the *NLP* field, a token is a single unit of text, and in the simplest case, the one considered here, a token is a word. <br>\n",
    "Moreover, we can abstract and consider that we have $N$ Random Variables $X_0, X_1, X_2, ... , X_n \\in D$ that describe the $N$ tokens of the document. $D$ is the *set* of all the possible *distinct* words in the document, has size equal to $M$, and is called *dictionary*: if for example the document is \"How are you, you are good\", $D$ contains just {\"How\", \"are\", \"you\", \"good\"} and $M = 4$. <br>\n",
    "Having said that, we can consider the whole document to be the realization (i.e. observation) of the $N$ R.V. $(X_1, ..., X_n)$. <br>\n",
    "We also consider all the tokens to be *i.i.d.*, so, for any pair of tokens $X_p$ and $X_z$, we have:\n",
    "$$\n",
    "P(X_p, X_z) = P(X_p) \\cdot P(X_z) \\quad \\text{for } p \\neq z\n",
    "$$\n",
    "\n",
    "We can model everything in terms of a **Categorical Distribution**: <br>\n",
    "Each $X_i$ (for $i = 1, \\ldots, N$) is a categorical random variable that takes values in the dictionary $D = \\{D_1, D_2, \\ldots, D_M\\}$ with probability:\n",
    "\n",
    "$$\n",
    "P(X_i = D_j) = \\pi_j \\quad \\text{for } j = 1, \\ldots, M\n",
    "$$\n",
    "\n",
    "where:\n",
    "\n",
    "- $\\pi_j$ is the probability of observing the $j$-th word from the dictionary,\n",
    "- $\\pi_j \\geq 0$ for all $j$,\n",
    "- and $\\sum_{j=1}^{M} \\pi_j = 1$.\n",
    "\n",
    "The whole document can be seen as a sequence of $N$ independent draws from this categorical distribution. \n",
    "\n",
    "### Parameters estimation via Maximum Likelihood approach\n",
    "$\\Pi = (\\pi_1, \\pi_2, ..., \\pi_M)$ are the model parameters that we have to estimate in order to compute the likelihoods. <br>\n",
    "Recalling the **Categorical Distribution** formulas, we can say that each token $X_i$ is a categorical random variable with probability mass function:\n",
    "\n",
    "$$\n",
    "f_{X_i}(x) = P(X_i = x) = \\prod_{j=1}^{M} \\pi_j^{\\mathbb{I}[x = D_j]}\n",
    "$$\n",
    "\n",
    "where:\n",
    "\n",
    "- $\\pi_j$ is the probability of word $D_j$ in the dictionary,\n",
    "- $\\mathbb{I}[x = D_j]$ is the indicator function that is $1$ if $x = D_j$ and $0$ otherwise.\n",
    "\n",
    "If, for example, we have a document having Tokens: [\"dog\", \"cat\", \"dog\", \"cat\", \"dog\"] and dictionary $D$ = {dog, cat} (so, $N =5$, $M=2$), we would compute the following probability mass functions:\n",
    "$$\n",
    "f_{X_1}(\\text{\"dog\"}) = \\pi_{\"dog\"}^1 \\times \\pi_{\"cat\"}^0 = \\pi_{\"dog\"}\\\\\n",
    "f_{X_2}(\\text{\"cat\"}) = \\pi_{\"dog\"}^0 \\times \\pi_{\"cat\"}^1 = \\pi_{\"cat\"}\n",
    "$$\n",
    "\n",
    "As a result, we can then compute the **Likelihood function** as the product of all the probability mass functions for each one of the $N$ independent tokens in the document:\n",
    "$$\n",
    "\\mathcal{L}_X \\left( \\Pi \\right) = \\mathcal{L}_X(\\pi_1, \\pi_2, \\dots, \\pi_M) = P(X_1, X_2, \\dots, X_N) = \\prod_{i=1}^{N} \\prod_{j=1}^{M} \\pi_j^{\\mathbb{I}[X_i = D_j]}\n",
    "$$\n",
    "Where:\n",
    "\n",
    "- $\\pi_j$ is the probability of observing the $j$-th word in the dictionary $D$,\n",
    "- $\\mathbb{I}[X_i = D_j]$ is the indicator function that is 1 if $X_i = D_j$ and 0 otherwise.\n",
    "\n",
    "The first product runs over all tokens $X_1, X_2, \\dots, X_N$, and the second product runs over all possible words in the dictionary $D_1, D_2, \\dots, D_M$. <br>\n",
    "Shifting to the *log-domain*, we can write:\n",
    "$$\n",
    "\\ell_X(\\Pi) = \\log \\mathcal{L}_X(\\Pi) = \\sum_{i=1}^{N} \\sum_{j=1}^{M} \\mathbb{I}[x_i = j] \\log \\pi_j = \\sum_{j=1}^{M} N_j \\log \\pi_j\n",
    "$$\n",
    "Where:\n",
    "- $\\mathbb{I}[x_i = j]$ is the indicator function (1 if $x_i = j$, 0 otherwise),\n",
    "- $N_j$ is the number of times word $j$ appears in the document.\n",
    "\n",
    "We have the constraint that the probabilities must sum to 1:\n",
    "\n",
    "$$\n",
    "\\sum_{j=1}^{M} \\pi_j = 1\n",
    "$$\n",
    "\n",
    "To solve the **Maximum Likelihood Estimation (MLE)** problem under this constraint, we use the **method of Lagrange multipliers**.\n",
    "\n",
    "We define the **Lagrangian function** $\\ell_X(\\Pi, \\lambda)$ to include this contraint when maximizing the log-likelihood:\n",
    "\n",
    "$$\n",
    "\\ell_X(\\Pi, \\lambda) = \\ell_X(\\pi_1, \\dots, \\pi_M, \\lambda) = \\sum_{j=1}^{M} N_j \\log \\pi_j + \\lambda \\left(1 - \\sum_{j=1}^{M} \\pi_j \\right)\n",
    "$$\n",
    "\n",
    "Then, we compute the partial derivatives and set them to zero:\n",
    "\n",
    "For each $j = 1, \\dots, M$:\n",
    "\n",
    "$$\n",
    "\\frac{\\partial \\ell_X}{\\partial \\pi_j} = \\frac{N_j}{\\pi_j} - \\lambda = 0\n",
    "$$\n",
    "\n",
    "And for the constraint:\n",
    "\n",
    "$$\n",
    "\\frac{\\partial \\ell_X}{\\partial \\lambda} = 1 - \\sum_{j=1}^{M} \\pi_j = 0\n",
    "$$\n",
    "\n",
    "Solving this system gives us the MLE estimates for $\\pi_j$. <br>\n",
    "The ML estimates of the model parameters can be obtained by maximizing the log-likelihood function for each *cantica* $c$:\n",
    "the ML estimate of the probability of word $j$ in cantica $c$ is given by:\n",
    "$$\n",
    "\\pi_{c,j} = \\frac{N_{c,j}}{N_c}\n",
    "$$\n",
    "Where:\n",
    "- $N_{c,j}$ is the number of occurrences of each word $j$ (belonging to $D$) in cantica $c$, \n",
    "- $N_c = \\sum_{j=1}^{M} N_{c,j}$ is the total number of tokens in cantica $c$.\n",
    "\n",
    "This means that:\n",
    "\n",
    "> The ML estimate $\\pi_{c,j}$ is simply the **relative frequency** of word $j$ in cantica $c$.\n",
    "\n",
    "> This is a fundamental result: under the assumption that words are *i.i.d.* samples from a categorical distribution, the MLE of each word's probability is **just the proportion of times the word appears in the document**. <br>\n",
    "\n",
    "So, the complete formula in the log-domain for the likelihood is:\n",
    "$$\n",
    "\\ell_X(\\Pi) = \\log \\ell_X(\\Pi) = \\sum_{i=1}^{N} \\sum_{j=1}^{M} \\mathbb{I}[x_i = j] \\log \\pi_j = \\sum_{j=1}^{M} N_j \\log \\pi_j = \\sum_{j=1}^{M} N_j \\left[ \\log N_{c,j} - \\log N_c \\right]\n",
    "$$\n",
    "\n",
    "**NOTE**: for some classes word frequencies may be 0. Since the prediction is based on the logarithm of\n",
    "the frequencies, this implies that we will get $- \\infty $ values for samples that contain words that do not\n",
    "appear in one cantica, corresponding to a class-conditional probability (likelihood) of 0. This may lead\n",
    "to numerical issues, since we may have prediction likelihoods for different canticas that are 0 for all three\n",
    "classes (e.g., a tercet containg a word that does not appear in Inferno, a second word that does not\n",
    "appear in Purgatory and a third word that does not appear in Paradiso). <br>\n",
    "A solution is to introduce augmented counts, so instead of using $N_{c,j}$ we use its *smoothed* version:\n",
    "$$\n",
    "N_{bc,j} = N_{c,j} + \\varepsilon\n",
    "$$\n",
    "Where $\\varepsilon$ is a small positive value and it's considered an hyperparameter. <br>\n",
    "So the smoothed formula for the log-likelihood, the one that will be used in the code, is this:\n",
    "$$\n",
    "\\ell_X(\\Pi) \\approx \\ell_X (\\Pi, \\varepsilon) = \\sum_{j=1}^{M} N_j \\left[ \\log \\left( N_{c,j} + \\varepsilon \\right) - \\log N_c \\right]\n",
    "$$"
   ]
  },
  {
   "cell_type": "markdown",
   "id": "7a015613",
   "metadata": {},
   "source": [
    "To compute the frequencies we first need to build the dictionary of all possible words. We consider only\n",
    "words that appear in the training set — if test or validation tercets contain unknown words we can\n",
    "simply discard them, as they would not, in any case, provide support for any of the three hypotheses\n",
    "under consideration. <br>\n",
    "The best way to do this is using a dictionary where the keys are the distinct words, and the values are occurrences of each word in the cantica:"
   ]
  },
  {
   "cell_type": "code",
   "execution_count": 8,
   "id": "f45663bf",
   "metadata": {},
   "outputs": [],
   "source": [
    "def Model1_buildDict(canticaTercets):\n",
    "    \"\"\"\n",
    "    This function builds a dictionary of words from the cantica tercets.\n",
    "    It returns a set of words.\n",
    "\n",
    "    Parameters:\n",
    "    canticaTercets (list): A list of tercets from a cantica.\n",
    "\n",
    "    Returns:\n",
    "    Dc: A dictionary of words with their frequencies.\n",
    "    Nc: the number of all the tokens (i.e. the sum of appearances of each word) appearing in the canticaTercets\n",
    "    \"\"\"\n",
    "\n",
    "    Dc = {}\n",
    "    Nc = 0\n",
    "\n",
    "    for tercet in canticaTercets:\n",
    "        words = tercet.split()\n",
    "        for word in words:\n",
    "            Nc += 1\n",
    "            if (word not in Dc.keys()):\n",
    "                Dc[word] = 1\n",
    "            else:\n",
    "                Dc[word] += 1\n",
    "\n",
    "\n",
    "    return Dc, Nc"
   ]
  },
  {
   "cell_type": "markdown",
   "id": "8e1d64eb",
   "metadata": {},
   "source": [
    "To compute the model estimators using the *ML* approach, let's call with function which returns a dictionary where, for each cantica c, it contains another dictionary storing the relative frequency in the cantica for each word:"
   ]
  },
  {
   "cell_type": "code",
   "execution_count": 9,
   "id": "5e20de64",
   "metadata": {},
   "outputs": [],
   "source": [
    "def Model1_Estimators(DTR, eps = 0.001):\n",
    "    \"\"\"\n",
    "    This function computes, for each cantica, a dictionary storing the relative frequency for each word in the cantica, corresponding to the MLE.\n",
    "\n",
    "    Parameters:\n",
    "    - DTR: A dictionary of key=canticaLabel, value=list of tercets in the cantica\n",
    "    - eps: epsilon, so the value in order to smooth frequencies\n",
    "\n",
    "    Returned Values:\n",
    "    - MLE: log Maximum Likelihood Estimators for each word in each cantica c: keys: cantica labels, values: list where index i is the SMOOTHED log frequency of word i of cantica c\n",
    "    \"\"\"\n",
    "\n",
    "\n",
    "    MLE = {}\n",
    "\n",
    "    globalDict = set() #global dict computed as the union between the cantica dicts keys sets\n",
    "    canticaTokenCounts = {} #dictionary storing each Nc (token count) for each cantica c\n",
    "    canticaDicts = {}  #dictionary storing canticaDict foe each cantica\n",
    "\n",
    "    #For each cantica c\n",
    "    #1. Build a dictionary of key: word, value: #times the word appears in the cantica c\n",
    "    #2. Find Nc which is the number of all tokens (i.e. the sum of appearances of each word) appearing in the canticaTercets\n",
    "    #3. The MLE are found by calculating the frequency of each word in the cantica c\n",
    "\n",
    "    #1-2. Dictionary building, Nc for each cantica\n",
    "    for canticaLabel in DTR.keys():\n",
    "        # canticaLabel can be lInf, lPur, lPar\n",
    "\n",
    "        canticaDict, Nc = Model1_buildDict(DTR[canticaLabel])\n",
    "        globalDict = globalDict.union(canticaDict.keys())\n",
    "        canticaTokenCounts[canticaLabel] = Nc\n",
    "        canticaDicts[canticaLabel] = canticaDict\n",
    "\n",
    "\n",
    "\n",
    "\n",
    "    #3. Compute smoothed MLE\n",
    "    #Smoothing: in order to not have frequency = zero for a certain word, set all the frequencies to eps, so augment the word count with pseudo-count\n",
    "    for canticaLabel in DTR.keys(): \n",
    "        MLE[canticaLabel] = {}\n",
    "        canticaDict = canticaDicts[canticaLabel]\n",
    "        Nc = canticaTokenCounts[canticaLabel]\n",
    "\n",
    "        for word in globalDict:\n",
    "            #if the word of the globalDict appears also in the canticaDict -> frequency is log{(Nc,j + eps) / Nc}\n",
    "            #otherwise, frequency is log{(0 + eps) / Nc} = log{eps / Nc}\n",
    "\n",
    "            #use dict.get(word, defaultNone) in order to return Nc,j = 0 if the word is NOT present in the canticaDict\n",
    "            #simply using canticaDict[word] would raise an exception in this case\n",
    "\n",
    "            N_cj = canticaDict.get(word, 0)\n",
    "\n",
    "            MLE[canticaLabel][word] = np.log(N_cj + eps) - np.log(Nc)\n",
    "\n",
    "\n",
    "\n",
    "\n",
    "    return MLE, globalDict\n"
   ]
  },
  {
   "cell_type": "markdown",
   "id": "02bf1569",
   "metadata": {},
   "source": [
    "Here are the MLE:"
   ]
  },
  {
   "cell_type": "code",
   "execution_count": 10,
   "id": "acb2fe3b",
   "metadata": {},
   "outputs": [],
   "source": [
    "MLE, globalDict = Model1_Estimators(DTR)"
   ]
  },
  {
   "cell_type": "markdown",
   "id": "f9a0b085",
   "metadata": {},
   "source": [
    "### Predicting the cantica\n",
    "We now turn to prediction for a given tercet $t$. Again, we can represent the tercet in terms of its tokens\n",
    "$x = [x_1, x_2, ..., x_N ]$ (here $N$ refers to the length of the validation tercet, and $x_i$\n",
    "is the $i$-th word of the tercet). <br>\n",
    "As said before, the likelihood of a word $x$ is expressed as:\n",
    "$$\n",
    "P(x \\mid c) = P(x_1, x_2, \\dots, x_N \\mid c) = \\prod_{i=1}^{N} P(x_i \\mid c)\n",
    "$$\n",
    "In the *log-domain* we express it as:\n",
    "$$\n",
    "\\log P(x \\mid c) = \\sum_{i=1}^{N} \\log \\pi_{c, x_i}\n",
    "$$\n",
    "**So, in order to compute the log-likelihood of each word, we have to sum all the log-probabilities of each word.** <br>\n",
    "Let's consider a scenario where we are predicting the cantica for a tercet. Suppose we have the following words in the tercet: \n",
    "$$\n",
    "x = [x_1, x_2, x_3] = [\\text{fire}, \\text{burning}, \\text{night}]\n",
    "$$\n",
    "We also have the word probabilities (calculated from the MLE) for a specific cantica, say *Inferno*, stored in $\\pi_{\\text{Inferno}, x}$, which represents the probability of each word occurring in the *Inferno* cantica.\n",
    "\n",
    "For this example, suppose the probabilities for each word are as follows:\n",
    "- $P(\\text{fire} \\mid \\text{Inferno}) = 0.2$\n",
    "- $P(\\text{burning} \\mid \\text{Inferno}) = 0.3$\n",
    "- $P(\\text{night} \\mid \\text{Inferno}) = 0.1$\n",
    "\n",
    "We can calculate the log-likelihood for this tercet in the *Inferno* cantica as:\n",
    "$$\n",
    "\\log P(x \\mid \\text{Inferno}) = \\log \\{P(\\text{fire} \\mid \\text{Inferno}) \\cdot P(\\text{burning} \\mid \\text{Inferno}) \\cdot P(\\text{night} \\mid \\text{Inferno})\\}\n",
    "$$\n",
    "Using the formula for the log of a product, we get:\n",
    "$$\n",
    "\\log P(x \\mid \\text{Inferno}) = \\log P(\\text{fire} \\mid \\text{Inferno}) + \\log P(\\text{burning} \\mid \\text{Inferno}) + \\log P(\\text{night} \\mid \\text{Inferno})\n",
    "$$\n",
    "Substituting the values, we have:\n",
    "$$\n",
    "\\log P(x \\mid \\text{Inferno}) = \\log 0.2 + \\log 0.3 + \\log 0.1\n",
    "$$\n",
    "This simplifies to:\n",
    "$$\n",
    "\\log P(x \\mid \\text{Inferno}) \\approx -1.6094 - 1.2040 - 2.3026 = -5.116\n",
    "$$\n",
    "\n",
    "Thus, the log-likelihood for the tercet $x = [\\text{fire}, \\text{burning}, \\text{night}]$ in the *Inferno* cantica is approximately $-5.116$.\n"
   ]
  },
  {
   "cell_type": "markdown",
   "id": "ec0fe81a",
   "metadata": {},
   "source": [
    "In pratice (i.e. in the code), we create and compute a **matrix of scores** $S$, where each row corresponds to a class and each column to a test sample (tercet):"
   ]
  },
  {
   "cell_type": "code",
   "execution_count": 11,
   "id": "7819a598",
   "metadata": {},
   "outputs": [],
   "source": [
    "def Model1_compute_LogLikelihoods(logMLE, DVAL):\n",
    "    \"\"\"\n",
    "    Compute log-likelihoods for all the classes given a DVAL validation text\n",
    "\n",
    "    Parameters:\n",
    "    - logMLE: log estimators for each word witin each class\n",
    "    - DVAL: text on which ti compute the log-likelihoods\n",
    "\n",
    "    Returned Values:\n",
    "    - ll: loglikelihoods\n",
    "    \"\"\"\n",
    "\n",
    "    ll = {canticaLabel: 0 for canticaLabel in logMLE.keys()}\n",
    "\n",
    "    for canticaLabel in logMLE.keys():\n",
    "        logMLECanticaLabel = logMLE[canticaLabel]\n",
    "        for word in DVAL.split():\n",
    "            logProbWord = logMLECanticaLabel.get(word.strip(), 0.001)\n",
    "            ll[canticaLabel] += logProbWord\n",
    "\n",
    "\n",
    "    return ll   #3 values: {ll_lInf, ll_lPur, ll_lPar}\n",
    "            "
   ]
  },
  {
   "cell_type": "markdown",
   "id": "bfd0cc33",
   "metadata": {},
   "source": [
    "$S$ has 3 rows, which correspond to:\n",
    "- row $0$: *Inferno*\n",
    "- row $1$: *Purgatorio*\n",
    "- row $2$: *Paradiso*"
   ]
  },
  {
   "cell_type": "code",
   "execution_count": 12,
   "id": "6fd6618c",
   "metadata": {},
   "outputs": [],
   "source": [
    "def Model1_matrixScore(logMLE, tercetsList):\n",
    "    \"\"\"\n",
    "    Compute a score matrix M having each row equal to each class (lInf, lPur, lPar) and each column to a test sample (tercet)\n",
    "    \"\"\"\n",
    "\n",
    "    numClasses = len(logMLE.keys())\n",
    "    S = np.zeros((numClasses, len(tercetsList)))\n",
    "\n",
    "    for tercetColumnCount, tercet in enumerate(tercetsList):\n",
    "        #tercetColumnCount is for inserting the computed likelihoods in the right trailing column\n",
    "        logLikelihoods = Model1_compute_LogLikelihoods(logMLE, tercet)\n",
    "\n",
    "        for row, canticaLabel in enumerate(logMLE.keys()):\n",
    "            S[row, tercetColumnCount] = logLikelihoods[canticaLabel]\n",
    "\n",
    "    return S\n",
    "\n",
    "\n",
    "    "
   ]
  },
  {
   "cell_type": "code",
   "execution_count": 13,
   "id": "7f5e7d0b",
   "metadata": {},
   "outputs": [
    {
     "name": "stdout",
     "output_type": "stream",
     "text": [
      "Model1_S shape: (3, 1204)\n"
     ]
    }
   ],
   "source": [
    "Model1_S = Model1_matrixScore(MLE, DVAL)\n",
    "print(f\"Model1_S shape: {Model1_S.shape}\")"
   ]
  },
  {
   "cell_type": "markdown",
   "id": "a3bb9d96",
   "metadata": {},
   "source": [
    "### Closed-set multiclass classification\n",
    "\n",
    "In order to perform classification we have to act like we did with the countinous models: we compute the log-Posteriors and then choose for each sample te highest one. <br>\n",
    "By assuming uniform Priors $P(l\\_lInf) = P(l\\_lPur) = P(l\\_lPar) = \\frac{1}{3}$ we can compute the log joints by summing together the log likelihoods with the log Priors like in the continous case:\n",
    "$$\n",
    "\\log f_{X,C}(x_t, c) = \\log \\left( f_{X|C}(x_t | c) P_C(c) \\right) = \\log f_{X|C}(x_t | c) + \\log P_C(c)\n",
    "$$"
   ]
  },
  {
   "cell_type": "code",
   "execution_count": 14,
   "id": "0dd6e039",
   "metadata": {},
   "outputs": [],
   "source": [
    "from mean_covariance import vcol, vrow\n",
    "from scipy.special import logsumexp                                 #for scipy.special.logsumexp"
   ]
  },
  {
   "cell_type": "code",
   "execution_count": 15,
   "id": "8f415060",
   "metadata": {},
   "outputs": [],
   "source": [
    "def computeSJoint(S, Priors):\n",
    "    #Compute the log joint densities by multiplying the score matrix S with the Priors\n",
    "    \"\"\"\n",
    "    Parameters:\n",
    "    - S: the score matrix of shape (numClasses, numSamples) where each row is the score of the class given the sample\n",
    "    - Priors: the priors of the classes, so a list of length numClasses\n",
    "    \n",
    "\n",
    "    Returned Values:\n",
    "    - SJoint: the log- joint densities of shape (numClasses, numSamples) where each row is the joint density of the class given the sample\n",
    "    \"\"\"\n",
    "\n",
    "    return S + vcol(np.log(Priors))"
   ]
  },
  {
   "cell_type": "code",
   "execution_count": 16,
   "id": "24c01b33",
   "metadata": {},
   "outputs": [
    {
     "name": "stdout",
     "output_type": "stream",
     "text": [
      "Model1_SJoint shape: (3, 1204)\n"
     ]
    }
   ],
   "source": [
    "Model1_SJoint = computeSJoint(Model1_S, np.ones((3, )) / 3.)\n",
    "print(f\"Model1_SJoint shape: {Model1_SJoint.shape}\")"
   ]
  },
  {
   "cell_type": "markdown",
   "id": "f81f3722",
   "metadata": {},
   "source": [
    "Finally, exactly in the same way we did with the continous case, we can compute the log class Posteriors probabilities as:\n",
    "$$\n",
    "\\log P(C_t = c \\mid \\mathbf{X}_t = \\mathbf{x}_t) = \\log \\left( \\frac{f_{\\mathbf{X},C}(\\mathbf{x}_t, c)}{\\sum_{c' \\in C} f_{\\mathbf{X},C}(\\mathbf{x}_t, c')} \\right) = \n",
    "\\log \\left( \\frac{f_{\\mathbf{X},C}(\\mathbf{x}_t, c)}{f_{\\mathbf{X}}(\\mathbf{x}_t)} \\right) = \\log f_{\\mathbf{X},C}(\\mathbf{x}_t, c) - \\log  f_{\\mathbf{X}}(\\mathbf{x}_t) = \\log f_{\\mathbf{X},C}(\\mathbf{x}_t, c) - \\log \\sum_{c} e^{l_{c}}\n",
    "$$ \n",
    "where $l_{c}$ are all the log-joints. <br>\n",
    "However, we need to take care that computing the exponential terms may result again in numerical\n",
    "errors. A robust method to comute $\\log \\sum_{c} e^{l_{c}}$ is to rewrite it as:\n",
    "$$\n",
    "\\log \\sum_{c} e^{l_{c}} = l + \\log \\sum_{c} e^{l_{c} - l}\n",
    "$$\n",
    "where $l$ is the highest of the log-joints: $l = max_{c} {l_{c}}$\n",
    "This is known as the *log-sum-exp* trick, and is already implemented in *scipy* as `scipy.special.logsumexp`. We can thus use `scipy.special.logsumexp(s)`,\n",
    "where `s` is the array that contains the joint log-probabilities for a given sample, to compute the log-marginals $\\log f_X(x_{t})$. <br>\n",
    "`scipy.special.logsumexp` also allows specifying an axis, thus we can directly compute the array of\n",
    "marginals for all samples directly from the matrix of joint log-densities as we did before."
   ]
  },
  {
   "cell_type": "code",
   "execution_count": 17,
   "id": "d4c0013b",
   "metadata": {},
   "outputs": [],
   "source": [
    "def computePosteriors(SJoint):\n",
    "    \"\"\"\n",
    "    Compute the log posteriors by normalizing the joint densities\n",
    "    The posteriors are the log joint densities minus the log of the sum of the joint densities which are the marginals\n",
    "\n",
    "    Parameters:\n",
    "    - SJoint: the log joint densities of shape (numClasses, numSamples) where each row is the joint density of the class \n",
    "\n",
    "    Returned Values:\n",
    "    - SPost: the log posteriors of shape (numClasses, numSamples) where each row is the posterior of the class given the sample\n",
    "    \"\"\"\n",
    "\n",
    "    #1. Compute marginals usign the logsumexp trick to minimize numerical problems\n",
    "    #logsumexp is a function that computes the log of the sum of exponentials of input elements\n",
    "    #It is more numerically stable than computing the sum of exponentials directly\n",
    "    #It computes log(exp(a) + exp(b)) in a numerically stable way\n",
    "\n",
    "    #sum over the rows (axis=0) to get the marginal of each sample\n",
    "    SMarginal = logsumexp(SJoint, axis=0)\n",
    "    #SMarginal has now shape = (numSamples, ) -> it's a row vector\n",
    "    #I need to make it of shape (1, numSamples) \n",
    "    SPost = SJoint - vrow(SMarginal) #element wise division in log scale, so I just need to subtract the marginals from the joint densities\n",
    "    \n",
    "    return SPost\n"
   ]
  },
  {
   "cell_type": "code",
   "execution_count": 18,
   "id": "b2250771",
   "metadata": {},
   "outputs": [
    {
     "name": "stdout",
     "output_type": "stream",
     "text": [
      "log Posteriors shape: (3, 1204)\n"
     ]
    }
   ],
   "source": [
    "#calculate log S post\n",
    "Model1_SPost = computePosteriors(Model1_SJoint) #compute the posteriors by normalizing the joint densities\n",
    "print(f\"log Posteriors shape: {Model1_SPost.shape}\")"
   ]
  },
  {
   "cell_type": "markdown",
   "id": "83b4d8b5",
   "metadata": {},
   "source": [
    "**Classification Rule**: As done with the continous case, the optimal Bayes decision is to select for each test sample the class with highest **log Posterior probability**: \n",
    "$$\n",
    "c_{t}^{*} = argmax_{c} \\log P (C_{t} = c \\mid \\mathbf{X}_t = \\mathbf{x}_t)\n",
    "$$ "
   ]
  },
  {
   "cell_type": "markdown",
   "id": "0d9bc01f",
   "metadata": {},
   "source": [
    "For predictions:\n",
    "- value $0$: *Inferno*\n",
    "- value $1$: *Purgatorio*\n",
    "- value $2$: *Paradiso*"
   ]
  },
  {
   "cell_type": "code",
   "execution_count": 19,
   "id": "8b0bc8cb",
   "metadata": {},
   "outputs": [
    {
     "name": "stdout",
     "output_type": "stream",
     "text": [
      "Predictions shape: (1204,)\n",
      "First 10 Predictions: [1 0 1 1 1 0 1 2 1 1]\n"
     ]
    }
   ],
   "source": [
    "#apply the classification rule\n",
    "Model1_PVAL = np.argmax(Model1_SPost, axis=0)\n",
    "print(f\"Predictions shape: {Model1_PVAL.shape}\")\n",
    "print(f\"First 10 Predictions: {Model1_PVAL[:10]}\")"
   ]
  },
  {
   "cell_type": "markdown",
   "id": "149d3fd7",
   "metadata": {},
   "source": [
    "Model #1 - Overall Error Rate and Accuracy"
   ]
  },
  {
   "cell_type": "code",
   "execution_count": 20,
   "id": "0e700f8c",
   "metadata": {},
   "outputs": [
    {
     "name": "stdout",
     "output_type": "stream",
     "text": [
      "Model1 - Number of overall wrong predictions: 573\n",
      "Model1 - Overall Error Rate: 47.59%\n",
      "Model1 - Overall Accuracy: 52.41%\n"
     ]
    }
   ],
   "source": [
    "Model1_error_count = np.count_nonzero(Model1_PVAL != LVAL)\n",
    "print(f\"Model1 - Number of overall wrong predictions: {Model1_error_count}\")\n",
    "Model1_error_rate = np.mean(Model1_PVAL != LVAL)\n",
    "print(f\"Model1 - Overall Error Rate: {Model1_error_rate:.2%}\")\n",
    "Model1_accuracy = 1 - Model1_error_rate\n",
    "print(f\"Model1 - Overall Accuracy: {Model1_accuracy:.2%}\")"
   ]
  },
  {
   "cell_type": "markdown",
   "id": "3fe65059",
   "metadata": {},
   "source": [
    "Model #1 - Per class Error Rate and Accuracy:"
   ]
  },
  {
   "cell_type": "code",
   "execution_count": 21,
   "id": "2866909e",
   "metadata": {},
   "outputs": [
    {
     "name": "stdout",
     "output_type": "stream",
     "text": [
      "Class 0 (Inferno) - Error Count: 190\n",
      "Class 0 (Inferno) - Error Rate: 47.50%\n",
      "Class 0 (Inferno) - Accuracy: 52.50%\n",
      "----------------------------------------\n",
      "Class 1 (Purgatorio) - Error Count: 211\n",
      "Class 1 (Purgatorio) - Error Rate: 52.49%\n",
      "Class 1 (Purgatorio) - Accuracy: 47.51%\n",
      "----------------------------------------\n",
      "Class 2 (Paradiso) - Error Count: 172\n",
      "Class 2 (Paradiso) - Error Rate: 42.79%\n",
      "Class 2 (Paradiso) - Accuracy: 57.21%\n",
      "----------------------------------------\n"
     ]
    }
   ],
   "source": [
    "canticaLabels = {0: \"Inferno\", 1: \"Purgatorio\", 2: \"Paradiso\"}\n",
    "Model1_accs = []\n",
    "Model1_err = []\n",
    "\n",
    "for class_label in range(len(DTR.keys())):\n",
    "    class_indices = np.where(LVAL == class_label)[0]\n",
    "    pred_class = Model1_PVAL[class_indices]\n",
    "    true_class = LVAL[class_indices]\n",
    "\n",
    "    error_count = np.count_nonzero(pred_class != true_class)\n",
    "    error_rate = error_count / len(class_indices)\n",
    "    accuracy = 1 - error_rate\n",
    "\n",
    "    Model1_err.append(error_rate)\n",
    "    Model1_accs.append(accuracy)\n",
    "\n",
    "    print(f\"Class {class_label} ({canticaLabels[class_label]}) - Error Count: {error_count}\")\n",
    "    print(f\"Class {class_label} ({canticaLabels[class_label]}) - Error Rate: {error_rate:.2%}\")\n",
    "    print(f\"Class {class_label} ({canticaLabels[class_label]}) - Accuracy: {accuracy:.2%}\")\n",
    "    print(\"-\" * 40)"
   ]
  },
  {
   "cell_type": "code",
   "execution_count": 22,
   "id": "7d03f288",
   "metadata": {},
   "outputs": [
    {
     "data": {
      "image/png": "[encoded data removed]",
      "text/plain": [
       "<Figure size 800x500 with 1 Axes>"
      ]
     },
     "metadata": {},
     "output_type": "display_data"
    }
   ],
   "source": [
    "import matplotlib.pyplot as plt\n",
    "\n",
    "labels = list(canticaLabels.values())\n",
    "colors = ['crimson', 'orange', 'royalblue']\n",
    "\n",
    "plt.figure(figsize=(8, 5))\n",
    "bars = plt.bar(labels, Model1_err, color=colors)\n",
    "\n",
    "plt.title(\"Model Error Rates per Cantica\")\n",
    "plt.xlabel(\"Cantica\")\n",
    "plt.ylabel(\"Erro Rate\")\n",
    "plt.ylim(0, 1.05)\n",
    "\n",
    "for bar in bars:\n",
    "    yval = bar.get_height()\n",
    "    plt.text(bar.get_x() + bar.get_width()/2, yval + 0.02, f\"{yval:.2%}\", ha='center', fontsize=11)\n",
    "\n",
    "plt.grid(axis='y', linestyle='--', alpha=0.6)\n",
    "plt.tight_layout()\n",
    "plt.savefig(\"Model1_error_rates.png\", dpi=300) #save the figure with a resolution of 300 dpi\n",
    "plt.show()"
   ]
  },
  {
   "cell_type": "markdown",
   "id": "64cbe586",
   "metadata": {},
   "source": [
    "## Model #2\n",
    "We can now introduce another model, slightly similar to the first one. Here the focus is related to the **occurrencies of each word**. In this case we have $M$ random variables $Y_j \\in \\mathbb{N}$ which describe how many times each token $x_i$ (which in the previous model was considered a random variblae but here it's not) compares in the text to analyze. So we can formalize all of this this way: <br>\n",
    "Let the document be represented by a sequence of tokens:\n",
    "\n",
    "$$\n",
    "x = [x_1, x_2, \\dots, x_N]\n",
    "$$\n",
    "\n",
    "We define $M$ random variables $Y_1, Y_2, \\dots, Y_M$ where each $Y_j \\in \\mathbb{N}$ denotes the number of occurrences of word $j$ in the document.\n",
    "\n",
    "The relation between the previous model (with $X_i$) and the new model is:\n",
    "\n",
    "$$\n",
    "Y_j = \\sum_{i=1}^{N} \\mathbb{I}[X_i = j]\n",
    "$$\n",
    "\n",
    "where $\\mathbb{I}[X_i = j]$ is the indicator function, equal to 1 if the $i$-th word is $j$, and 0 otherwise. <br>\n",
    "So, for example: <br>\n",
    "Let  \n",
    "$$\n",
    "x = [x_1, x_2, \\dots, x_6] = [\\text{love}, \\text{hope}, \\text{love}, \\text{peace}, \\text{hope}, \\text{hope}]\n",
    "$$\n",
    "\n",
    "Then we can define these random variables:\n",
    "$$\n",
    "Y_{\\text{love}} = \\sum_{i=1}^6 \\mathbb{I}[x_i = \\text{love}] = 2\n",
    "$$\n",
    "\n",
    "$$\n",
    "Y_{\\text{peace}} = \\sum_{i=1}^6 \\mathbb{I}[x_i = \\text{peace}] = 1\n",
    "$$\n",
    "\n",
    "$$\n",
    "Y_{\\text{hope}} = \\sum_{i=1}^6 \\mathbb{I}[x_i = \\text{hope}] = 3\n",
    "$$\n",
    "This rapresentation is often called **Bag of Words** (*BoW*). We assume a **Multinomial distribution** for our new random variables, because we consider each word occurrence to be an **independet draw** from the **categorical distribution** over the vocabulary of words, and then we count how many times the words occurr in the document, so we can formalize everything this way:\n",
    "$$\n",
    "(Y_1, Y_2, ..., Y_M) \\sim \\text{Multinomial}(N, \\Pi)\n",
    "$$\n",
    "Where:\n",
    "- $N = \\sum_{j=1}^{M} Y_j$ is the total number of tokens of the text, computed summing all the occurrencies of each word together\n",
    "- $\\Pi = \\left[ \\pi_{c, 1}, \\pi_{c, 2}, ..., \\pi_{c, M}\\right]$ are the class-conditional probabilities of each word given class $c$, so they're again the model parameters.\n",
    "\n",
    "Now, we can calculate the likelihood by recalling the formula for the Multinomial density:\n",
    "$$\n",
    "\\mathcal{L}_Y(\\mathbf{\\Pi}) = \\frac{N!}{y_1! \\dots y_M!} \\prod_{j=1}^{m} \\pi_j^{y_j} = \\frac{N!}{N_1! \\dots N_M!} \\prod_{j=1}^{m} \\pi_j^{N_j}\n",
    "$$\n",
    "\n",
    "since $y_j$ is the number of occurrences of word $j$, i.e. $y_j = N_j$. The log-likelihood is thus\n",
    "\n",
    "$$\n",
    "\\ell_Y(\\mathbf{\\Pi}) = \\log \\mathcal{L}_Y(\\mathbf{\\Pi}) = \\xi + \\sum_{j=1}^{m} y_j \\log \\pi_j = \\xi + \\sum_{j=1}^{m} N_j \\log \\pi_j\n",
    "$$\n",
    "\n",
    "where the term $\\xi$ is the logarithm of the multinomial coefficients, which is constant with respect to the model parameters $\\Pi = \\left[ \\pi_{c, 1}, \\pi_{c, 2}, ..., \\pi_{c, M}\\right]$, so we don't consider it when maximizing the log-likelihood. <br>\n",
    "Apart from the constant, **this is exactly equal to the log-likelihood of the first model!**\n",
    "So we can write:\n",
    "$$\n",
    "\\mathcal{L}_X(\\mathbf{\\Pi}) \\propto \\mathcal{L}_Y(\\mathbf{\\Pi}) \\\\\n",
    "\\ell_X(\\mathbf{\\Pi}) \\propto \\ell_Y(\\mathbf{\\Pi})\n",
    "$$\n",
    "Since the likelihoods are proportional, **inference** will be the same using te Maximum Likelihood Approach (because we are trying to mazimize two proportional functions):\n",
    "- ML estimates will be the same for both models (the terms $\\xi$ is irrelevant for maximization)\n",
    "- Likelihood ratios and class posterior probabilities will also be the same, since the proportionality term $\\alpha = e^{\\xi}$ simplifies\n",
    "\n",
    "In conclusion, **from an implementation point of view, the computational steps of the second model are the same as the first one. The only difference is that we work with word counts instead of word sequences.** <br>\n",
    "The results, obviously, will be **the same**."
   ]
  },
  {
   "cell_type": "markdown",
   "id": "a44399c1",
   "metadata": {},
   "source": [
    "### Binary Classifier\n",
    "The lexical choices in Purgatorio are something in between those of Paradiso and Inferno. We\n",
    "thus consider pairs **Inferno - Paradiso**, **Inferno - Purgatorio** and **Purgatorio - Paradiso**. These are\n",
    "3 binary tasks. Since the two models, Model #1 and Model #2, are equivalent from a practical point of view, we can choose whatever we like. We can choose **Model #1**.<br>\n",
    "Since we are solving a binary problem, we can speed up the process by computing the **class posterior log-ratio**, which is the log of the ratio between the two Posteriors:\n",
    "$$\n",
    "\\log \\text{r}(x_{t}) = \\log \\frac{P (C_{t} = 2 \\mid \\mathbf{X}_t = \\mathbf{x}_t)}{P (C_{t} = 1 \\mid \\mathbf{X}_t = \\mathbf{x}_t)}\n",
    "$$\n",
    "where, if we are classifying the pair **Inferno - Paradiso**, for example, $C1$ will be *Inferno*, while $C2$ will be *Paradiso*. <br>\n",
    "In the log domain this is the sum of two terms:\n",
    "$$\n",
    "\\log \\text{r}(x_{t}) = \\log \\frac{f_{X|C}(x_t | 2)}{f_{X|C}(x_t | 1)} +\n",
    "\\log \\frac{P(C= 2)}{P(C=1)}\n",
    "$$\n",
    "The first term, which is the log of the ratio of the likelihoods, so the conditionals, of the two classes, is called **log-likelihood ratio** -- $\\text{llr}(x_t)$. <br>\n",
    "The classification rule is simple: we compare the $\\text{llr}(x_{t})$ to the **prior log-odds** $ \\left( \\log \\frac{P(C= 2)}{P(C=1)} \\right)$, which can be considered a selected *Threshold* depending on the application. This generates a decision surfaces used to separate and classify our data. <br>\n",
    "For the **prior log-odds** we can simplify it by choosing each prior to be equal to $1/2$ and uniformally distributed, following a uniform distribution, with respect to the other one. For example, if we are classifying the pair **Inferno - Paradiso** we set: $P(\\text{llInf}) = P(\\text{lPar}) = 1/2$. This way, the *Threshold* becomes equal to zero and we have:"
   ]
  },
  {
   "cell_type": "code",
   "execution_count": 23,
   "id": "c903348d",
   "metadata": {},
   "outputs": [
    {
     "data": {
      "text/plain": [
       "['lInf', 'lPur', 'lPar']"
      ]
     },
     "execution_count": 23,
     "metadata": {},
     "output_type": "execute_result"
    }
   ],
   "source": [
    "list(DTR.keys())"
   ]
  },
  {
   "cell_type": "code",
   "execution_count": 38,
   "id": "d51e1952",
   "metadata": {},
   "outputs": [
    {
     "name": "stdout",
     "output_type": "stream",
     "text": [
      "lInf vs lPur - Number of wrong predictions: 306\n",
      "lInf vs lPur - Error Rate: 38.15%\n",
      "lInf vs lPur - Accuracy: 61.85%\n",
      "lInf vs lPar - Number of wrong predictions: 205\n",
      "lInf vs lPar - Error Rate: 25.56%\n",
      "lInf vs lPar - Accuracy: 74.44%\n",
      "lPur vs lPar - Number of wrong predictions: 281\n",
      "lPur vs lPar - Error Rate: 34.95%\n",
      "lPur vs lPar - Accuracy: 65.05%\n"
     ]
    }
   ],
   "source": [
    "#0 -> lInf vs lPur\n",
    "#1 -> lInf vs lPur\n",
    "#2 -> lPur vs lPar\n",
    "pairs = [(0, 1), (0, 2), (1, 2)]\n",
    "canticaLabels = list(DTR.keys())\n",
    "\n",
    "DVAL_Binary = {\n",
    "    \"lInf\": lInf_evaluation,\n",
    "    \"lPur\": lPur_evaluation,\n",
    "    \"lPar\": lPar_evaluation\n",
    "}\n",
    "\n",
    "for i, j in pairs:\n",
    "    #cantica0: first cantica to use -> index i\n",
    "    #cantica1: second cantica to use -> index j\n",
    "\n",
    "    cantica0 = canticaLabels[i]\n",
    "    cantica1 = canticaLabels[j]\n",
    "\n",
    "    #0. pre-processing: build DTR01, DVAL01, LVAL01\n",
    "    DTR01 = {\n",
    "        cantica0: DTR[cantica0],\n",
    "        cantica1: DTR[cantica1]\n",
    "    }\n",
    "\n",
    "    DVAL01 = DVAL_Binary[cantica0] + DVAL_Binary[cantica1]\n",
    "\n",
    "    LVAL01 = [0] * len(DVAL_Binary[cantica0]) + [1] * len(DVAL_Binary[cantica1])    #LVAL has just 0 and 1 as values\n",
    "\n",
    "    #1. compute MLE\n",
    "    MLE01, globalDict01 = Model1_Estimators(DTR01)\n",
    "\n",
    "    #2. compute matrix score for the two canticas\n",
    "    #S01 has two rows: row0 is for cantica0 log likelihood, row1 is for cantica1 log likelihood\n",
    "    S01 = Model1_matrixScore(MLE01, DVAL01)\n",
    "\n",
    "    #3. compute llr using the two log likelihoods\n",
    "    ll0 = S01[0, :]\n",
    "    ll1 = S01[1, :]\n",
    "    llr = ll1 - ll0\n",
    "\n",
    "    #4. Classification rule: assign samples whose llr >= 0 to class 1 and samples whose llr < 0 to class 0\n",
    "    PVAL01 = np.where(llr >= 0, 1, 0) #assign samples whose llr>= 0 to class 1 and samples whose llr < 0 to class 0\n",
    "\n",
    "    #5. compute error rate\n",
    "    error_count01 = np.count_nonzero(PVAL01 != LVAL01)\n",
    "    print(f\"{cantica0} vs {cantica1} - Number of wrong predictions: {error_count01}\")\n",
    "    error_rate01= np.mean(PVAL01 != LVAL01)\n",
    "    print(f\"{cantica0} vs {cantica1} - Error Rate: {error_rate01:.2%}\")\n",
    "\n",
    "    #6. compute accuracy\n",
    "    acc01 = 1 - error_rate01\n",
    "    print(f\"{cantica0} vs {cantica1} - Accuracy: {acc01:.2%}\")\n",
    "\n",
    "    \n"
   ]
  },
  {
   "cell_type": "markdown",
   "id": "76a88ef3",
   "metadata": {},
   "source": [
    "**This confirms that Inferno and Paradiso are easier to discriminate (higher accuracy), whereas Purgatorio is more similar to both other canticas, being written in an intermediate style between the two other canticas!**"
   ]
  },
  {
   "cell_type": "markdown",
   "id": "602b3b77",
   "metadata": {},
   "source": [
    "**NOTE**: we can “cheat” and obtain the solution to the binary problems from the score matrix\n",
    "$S$ of the three-class problem instead of calculating the score matrix $S01$ again by calling the function `Model1_matrixScore(MLE01, DVAL01)`. Indeed, if we consider only the rows of $S$ that we are interested\n",
    "in, these give us the matrix $Sb$ of class-conditional likelihoods for the two classes. The difference\n",
    "between this approach and re-training using only two classes is that in the former case the binary\n",
    "matrix $Sb$ contains also conditional likelihoods for words that may not appear in neither of the\n",
    "two considered class, but appear in the third one - these would be discarded if we trained from\n",
    "scratch. However, since the additional words would have a frequency proportional to $\\varepsilon$ for both\n",
    "classes, their contribution would disappear when computing class posteriors. <br>\n",
    "So at each iteration we could just do:\n",
    "```python\n",
    "S01 = S[[i, j], :]\n",
    "```\n",
    "Remember to put ```[i, j]``` with the *brackets* since i, j may not always be subsequent between each other (for ex with i = index of *Linf* = 0 and j = index of *lPar* = 2): in *numpy* this notation tells to select just the rows corresponding to the items of the list passed as argument."
   ]
  },
  {
   "cell_type": "code",
   "execution_count": 33,
   "id": "db0c7f9b",
   "metadata": {},
   "outputs": [
    {
     "data": {
      "text/plain": [
       "array([[-122.71407912, -133.29565846, -134.35953538, ..., -112.18123665,\n",
       "         -85.99405904, -126.66813611],\n",
       "       [-115.78129281, -153.33404455, -126.10784451, ..., -103.53323003,\n",
       "         -80.4692083 , -124.71463026],\n",
       "       [-126.91783481, -150.8452464 , -135.27350217, ..., -104.91819178,\n",
       "         -79.87447066, -122.84802869]])"
      ]
     },
     "execution_count": 33,
     "metadata": {},
     "output_type": "execute_result"
    }
   ],
   "source": [
    "Model1_S"
   ]
  },
  {
   "cell_type": "code",
   "execution_count": null,
   "id": "9e28d400",
   "metadata": {},
   "outputs": [
    {
     "data": {
      "text/plain": [
       "array([[-122.71407912, -133.29565846, -134.35953538, ..., -112.18123665,\n",
       "         -85.99405904, -126.66813611],\n",
       "       [-115.78129281, -153.33404455, -126.10784451, ..., -103.53323003,\n",
       "         -80.4692083 , -124.71463026]])"
      ]
     },
     "execution_count": 34,
     "metadata": {},
     "output_type": "execute_result"
    }
   ],
   "source": [
    "Model1_S[[0, 1], :] #for lInf (index 0) and lPur (index1)"
   ]
  },
  {
   "cell_type": "code",
   "execution_count": null,
   "id": "1fb5fc6c",
   "metadata": {},
   "outputs": [
    {
     "data": {
      "text/plain": [
       "array([[-122.71407912, -133.29565846, -134.35953538, ..., -112.18123665,\n",
       "         -85.99405904, -126.66813611],\n",
       "       [-126.91783481, -150.8452464 , -135.27350217, ..., -104.91819178,\n",
       "         -79.87447066, -122.84802869]])"
      ]
     },
     "execution_count": 35,
     "metadata": {},
     "output_type": "execute_result"
    }
   ],
   "source": [
    "Model1_S[[0, 2], :] #for lInf (index 0) and lPar (index 2)"
   ]
  }
 ],
 "metadata": {
  "kernelspec": {
   "display_name": "Python 3",
   "language": "python",
   "name": "python3"
  },
  "language_info": {
   "codemirror_mode": {
    "name": "ipython",
    "version": 3
   },
   "file_extension": ".py",
   "mimetype": "text/x-python",
   "name": "python",
   "nbconvert_exporter": "python",
   "pygments_lexer": "ipython3",
   "version": "3.9.13"
  }
 },
 "nbformat": 4,
 "nbformat_minor": 5
}
