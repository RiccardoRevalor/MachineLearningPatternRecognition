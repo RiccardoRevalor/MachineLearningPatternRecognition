{
 "cells": [
  {
   "cell_type": "markdown",
   "id": "8efcb619",
   "metadata": {},
   "source": [
    "# Models Evaluation\n",
    "\n",
    "## Confusion Matrix\n",
    "It's a matrix thta summarizes all the possible outcomes of the classification. On the columns we have the actual (so, *real*) classes, whereas on the rows we have the *predicted* classes for the sample. <br>\n",
    "For example, let's consider a binary classification problem where we want to distinguish between two classes: *False* and *True**. The resulting confusion matrix might look like this:\n",
    "\n",
    "|  | Hf (Actual) | Ht (Actual) |\n",
    "|---|---|---|\n",
    "| **Hf (Predicted)** | 150 | 25 |\n",
    "| **Ht (Predicted)** | 10 | 215 |\n",
    "\n",
    "In this matrix:\n",
    "\n",
    "* **150** is the number of samples that were actually False and were correctly predicted as False (**TN** for the Hf class).\n",
    "* **25** is the number of samples that were actually True but were incorrectly predicted as False (**FN** for the Hf class).\n",
    "* **10** is the number of samples that were actually False but were incorrectly predicted as True (**FN** for the Hf class).\n",
    "* **215** is the number of samples that were actually True and were correctly predicted as True (**TP** for the Ht class).\n",
    "\n",
    "This confusion matrix provides a clear view of how many samples were classified correctly and what types of errors the model made. <br>\n",
    "\n",
    "Now, let's consider the **Iris** dataset, which has 3 classes. Let's import the *train/validation* split used before and fit the three Gaussian Generative Models:"
   ]
  },
  {
   "cell_type": "code",
   "execution_count": 1,
   "id": "a82ccb64",
   "metadata": {},
   "outputs": [
    {
     "name": "stdout",
     "output_type": "stream",
     "text": [
      "DTR shape: (4, 100)\n",
      "DVAL shape: (4, 50)\n",
      "LTR shape: (100,)\n",
      "LVAL shape: (50,)\n"
     ]
    }
   ],
   "source": [
    "#Import the train validation split from \"./split/iris_split.npz\"\n",
    "import numpy as np\n",
    "\n",
    "savedSplit = np.load('./split/iris_split.npz')\n",
    "\n",
    "DTR = savedSplit['DTR']\n",
    "DVAL = savedSplit['DVAL']\n",
    "LTR = savedSplit['LTR']\n",
    "LVAL = savedSplit['LVAL']\n",
    "\n",
    "print(f\"DTR shape: {DTR.shape}\")\n",
    "print(f\"DVAL shape: {DVAL.shape}\")\n",
    "print(f\"LTR shape: {LTR.shape}\")\n",
    "print(f\"LVAL shape: {LVAL.shape}\")"
   ]
  },
  {
   "cell_type": "code",
   "execution_count": 2,
   "id": "67f3a664",
   "metadata": {},
   "outputs": [],
   "source": [
    "import sys\n",
    "MVG_path = './models_finished/MVG'\n",
    "MVGTC_path = './models_finished/MVG_TiedCov'\n",
    "MVGNB_path = './models_finished/Naive_Bayes'\n",
    "if not MVG_path in sys.path:\n",
    "    sys.path.append(MVG_path)\n",
    "if not MVGTC_path in sys.path:\n",
    "    sys.path.append(MVGTC_path)\n",
    "if not MVGNB_path in sys.path:\n",
    "    sys.path.append(MVGNB_path)\n",
    "\n",
    "import MVG\n",
    "import MVG_TiedCov as MVGTC\n",
    "import Naive_Bayes as MVGNB"
   ]
  },
  {
   "cell_type": "markdown",
   "id": "1ddf285e",
   "metadata": {},
   "source": [
    "### Iris Dataset, MVG Classifier Confusion Matrix Computation"
   ]
  },
  {
   "cell_type": "code",
   "execution_count": 3,
   "id": "45e4dbc5",
   "metadata": {},
   "outputs": [],
   "source": [
    "#MVG Pipeline\n",
    "\n",
    "def MVG_Pipeline(DTR, LTR, useLog=True):\n",
    "\n",
    "    ML_params_MVG = MVG.computeParams_ML(DTR, LTR)\n",
    "\n",
    "\n",
    "    S_LogLikelihoods_MVG = MVG.scoreMatrix_Pdf_GAU(DVAL, ML_params_MVG, useLog=useLog)\n",
    "    print(f\"S_LogLikelihoods_MVG shape, computed from the Validation Set: {S_LogLikelihoods_MVG.shape}\")\n",
    "\n",
    "    SJoint_MVG = MVG.computeSJoint(S_LogLikelihoods_MVG, np.ones((3, )) / 3., useLog=useLog) #compute the joint densities by multiplying the score matrix S with the Priors\n",
    "    print(f\"Joint densities shape: {SJoint_MVG.shape}\")\n",
    "\n",
    "    SPost_MVG = MVG.computePosteriors(SJoint_MVG, useLog=useLog) #compute the posteriors by normalizing the joint densities\n",
    "    print(f\"Posteriors shape: {SPost_MVG.shape}\")\n",
    "\n",
    "    PVAL_MVG = np.argmax(SPost_MVG, axis=0) #select the class with the highest posterior probability for each sample, set axis=0 to select the class with the highest posterior probability for each sample\n",
    "    print(f\"Predictions shape: {PVAL_MVG.shape}\")\n",
    "    print(f\"Predictions: {PVAL_MVG}\")\n",
    "\n",
    "    return PVAL_MVG"
   ]
  },
  {
   "cell_type": "code",
   "execution_count": 4,
   "id": "61b73bcc",
   "metadata": {},
   "outputs": [
    {
     "name": "stdout",
     "output_type": "stream",
     "text": [
      "S_LogLikelihoods_MVG shape, computed from the Validation Set: (3, 50)\n",
      "Joint densities shape: (3, 50)\n",
      "Posteriors shape: (3, 50)\n",
      "Predictions shape: (50,)\n",
      "Predictions: [0 0 1 2 2 0 0 0 1 1 0 0 1 0 2 1 2 1 0 2 0 2 0 0 2 0 2 1 1 1 2 2 2 1 0 1 2\n",
      " 2 0 1 1 2 1 0 0 0 2 1 2 0]\n"
     ]
    }
   ],
   "source": [
    "PVAL_MVG = MVG_Pipeline(DTR, LTR, useLog=True)"
   ]
  },
  {
   "cell_type": "code",
   "execution_count": 5,
   "id": "b685f550",
   "metadata": {},
   "outputs": [
    {
     "name": "stdout",
     "output_type": "stream",
     "text": [
      "Confusion Matrix:\n",
      "[[19  0  0]\n",
      " [ 0 15  0]\n",
      " [ 0  2 14]]\n"
     ]
    }
   ],
   "source": [
    "\n",
    "#Compute confusion matrix\n",
    "#classes: 0, 1, 2\n",
    "\n",
    "Pred0_Actual0 = np.sum((PVAL_MVG == 0) & (LVAL == 0))    #True Positives for class 0\n",
    "Pred0_Actual1 = np.sum((PVAL_MVG == 0) & (LVAL == 1))    #False Positives for class 0 from class 1\n",
    "Pred0_Actual2 = np.sum((PVAL_MVG == 0) & (LVAL == 2))    #False Positives for class 0 from class 2\n",
    "\n",
    "Pred1_Actual0 = np.sum((PVAL_MVG == 1) & (LVAL == 0))    #False Positives for class 0 from class 1\n",
    "Pred1_Actual1 = np.sum((PVAL_MVG == 1) & (LVAL == 1))    #True Positives for class 1\n",
    "Pred1_Actual2 = np.sum((PVAL_MVG == 1) & (LVAL == 2))    #False Positives for class 1 from class 2\n",
    "\n",
    "Pred2_Actual0 = np.sum((PVAL_MVG == 2) & (LVAL == 0))    #False Positives for class 0 from class 2\n",
    "Pred2_Actual1 = np.sum((PVAL_MVG == 2) & (LVAL == 1))    #False Positives for class 1 from class 2\n",
    "Pred2_Actual2 = np.sum((PVAL_MVG == 2) & (LVAL == 2))    #True Positives for class 2\n",
    "\n",
    "#confMatrix is populated manually since I have compute all the values in the confusion matrix\n",
    "ConfMatrix_MVG_manual = np.array([[Pred0_Actual0, Pred0_Actual1, Pred0_Actual2],\n",
    "                       [Pred1_Actual0, Pred1_Actual1, Pred1_Actual2],\n",
    "                       [Pred2_Actual0, Pred2_Actual1, Pred2_Actual2]])\n",
    "\n",
    "print(f\"Confusion Matrix:\\n{ConfMatrix_MVG_manual}\")"
   ]
  },
  {
   "cell_type": "code",
   "execution_count": 6,
   "id": "97e81342",
   "metadata": {},
   "outputs": [],
   "source": [
    "def computeConfMatrix(PVAL, LVAL):\n",
    "    \"\"\"\n",
    "    Compute the confusion matrix for the predicted labels and the actual labels.\n",
    "    Args:\n",
    "    - PVAL: Predicted labels\n",
    "    - LVAL: Actual labels\n",
    "    Returns:\n",
    "    - Confusion matrix\n",
    "    \"\"\"\n",
    "    numClasses = np.unique(LVAL).shape[0] #number of classes\n",
    "    ConfMatrix = np.zeros((numClasses, numClasses)) #initialize the confusion matrix with zeros\n",
    "\n",
    "    for classPredicted in range(numClasses):\n",
    "        #for each class find the tre positives and ALL the false negatives\n",
    "\n",
    "        classRow = np.array([]) #initialize the classRow with an empty array\n",
    "\n",
    "        for classActual in range(numClasses):\n",
    "            if classActual == classPredicted: \n",
    "                TP = np.sum((PVAL == classPredicted) & (LVAL == classPredicted))\n",
    "                classRow = np.append(classRow, TP)\n",
    "                continue\n",
    "\n",
    "            #compute each FP for each wrongly assigned label\n",
    "            FPi = np.sum((PVAL == classPredicted) & (LVAL == classActual))\n",
    "\n",
    "            #add FPi to the classCol\n",
    "            classRow = np.append(classRow, FPi)\n",
    "\n",
    "        \n",
    "        #add classCol to the confusion matrix in a row major fashion\n",
    "        ConfMatrix[classPredicted, :] = classRow\n",
    "\n",
    "\n",
    "    return ConfMatrix"
   ]
  },
  {
   "cell_type": "code",
   "execution_count": 7,
   "id": "fbeba67e",
   "metadata": {},
   "outputs": [
    {
     "name": "stdout",
     "output_type": "stream",
     "text": [
      "Confusion Matrix, MVG Classifier:\n",
      "[[19.  0.  0.]\n",
      " [ 0. 15.  0.]\n",
      " [ 0.  2. 14.]]\n"
     ]
    }
   ],
   "source": [
    "confMatrix_MVG = computeConfMatrix(PVAL_MVG, LVAL)\n",
    "print(f\"Confusion Matrix, MVG Classifier:\\n{confMatrix_MVG}\")"
   ]
  },
  {
   "cell_type": "markdown",
   "id": "49c38c22",
   "metadata": {},
   "source": [
    "### Iris Dataset, Tied Covariance MVG Classifier Confusion Matrix Computation"
   ]
  },
  {
   "cell_type": "code",
   "execution_count": 8,
   "id": "29f464d2",
   "metadata": {},
   "outputs": [],
   "source": [
    "#MVGTC Pipeline\n",
    "\n",
    "def MVTC_Pipeline(DTR, LTR, useLog=True):\n",
    "    ML_params_MVGTC = MVGTC.computeParams_ML_TiedCov(DTR, LTR, useLDAForTiedCov=True)\n",
    "\n",
    "    S_LogLikelihoods_MVGTC = MVGTC.scoreMatrix_Pdf_GAU(DVAL, ML_params_MVGTC, useLog=useLog)\n",
    "    print(f\"S_LogLikelihoods_MVGTC shape, computed from the Validation Set: {S_LogLikelihoods_MVGTC.shape}\")\n",
    "\n",
    "    SJoint_MVGTC = MVGTC.computeSJoint(S_LogLikelihoods_MVGTC, np.ones((3, )) / 3., useLog=useLog) #compute the joint densities by multiplying the score matrix S with the Priors\n",
    "    print(f\"Joint densities shape: {SJoint_MVGTC.shape}\")\n",
    "\n",
    "    SPost_MVGTC = MVGTC.computePosteriors(SJoint_MVGTC, useLog=useLog) #compute the posteriors by normalizing the joint densities\n",
    "    print(f\"Posteriors shape: {SPost_MVGTC.shape}\")\n",
    "\n",
    "    PVAL_MVGTC = np.argmax(SPost_MVGTC, axis=0) #select the class with the highest posterior probability for each sample, set axis=0 to select the class with the highest posterior probability for each sample\n",
    "    print(f\"Predictions shape: {PVAL_MVGTC.shape}\")\n",
    "    print(f\"Predictions: {PVAL_MVGTC}\")\n",
    "\n",
    "    return PVAL_MVGTC\n"
   ]
  },
  {
   "cell_type": "code",
   "execution_count": 9,
   "id": "e0f859ad",
   "metadata": {},
   "outputs": [
    {
     "name": "stdout",
     "output_type": "stream",
     "text": [
      "S_LogLikelihoods_MVGTC shape, computed from the Validation Set: (3, 50)\n",
      "Joint densities shape: (3, 50)\n",
      "Posteriors shape: (3, 50)\n",
      "Predictions shape: (50,)\n",
      "Predictions: [0 0 1 2 2 0 0 0 1 1 0 0 1 0 2 1 2 1 0 2 0 2 0 0 2 0 2 1 1 1 2 2 1 1 0 1 2\n",
      " 2 0 1 1 2 1 0 0 0 2 1 2 0]\n",
      "\n",
      "Confusion Matrix, Tied Cov MVG Classifier:\n",
      "[[19.  0.  0.]\n",
      " [ 0. 16.  0.]\n",
      " [ 0.  1. 14.]]\n"
     ]
    }
   ],
   "source": [
    "confMatrix_MVGTC = computeConfMatrix(MVTC_Pipeline(DTR, LTR), LVAL)\n",
    "print(f\"\\nConfusion Matrix, Tied Cov MVG Classifier:\\n{confMatrix_MVGTC}\")"
   ]
  },
  {
   "cell_type": "markdown",
   "id": "dc8a6582",
   "metadata": {},
   "source": [
    "### Iris Dataset, Naive Bayes MVG Classifier Confusion Matrix Computation"
   ]
  },
  {
   "cell_type": "code",
   "execution_count": 10,
   "id": "dfdd9af6",
   "metadata": {},
   "outputs": [],
   "source": [
    "#Naive Bayes Pipeline\n",
    "\n",
    "def MVGNB_Pipeline(DTR, LTR, useLog=True):\n",
    "\n",
    "    ML_params_MVGNB = MVGNB.computeParams_ML_NaiveBayesAssumption(DTR, LTR)\n",
    "\n",
    "    S_LogLikelihoods_MVGNB = MVGNB.scoreMatrix_Pdf_GAU(DVAL, ML_params_MVGNB, useLog=True)\n",
    "    print(f\"S_LogLikelihoods_MVGNB shape, computed from the Validation Set: {S_LogLikelihoods_MVGNB.shape}\")\n",
    "\n",
    "    SJoint_MVGNB = MVGNB.computeSJoint(S_LogLikelihoods_MVGNB, np.ones((3, )) / 3., useLog=True) #compute the joint densities by multiplying the score matrix S with the Priors\n",
    "    print(f\"Joint densities shape: {SJoint_MVGNB.shape}\")\n",
    "\n",
    "    SPost_MVGNB = MVGNB.computePosteriors(SJoint_MVGNB, useLog=True) #compute the posteriors by normalizing the joint densities\n",
    "    print(f\"Posteriors shape: {SPost_MVGNB.shape}\")\n",
    "\n",
    "    PVAL_MVGNB = np.argmax(SPost_MVGNB, axis=0) #select the class with the highest posterior probability for each sample, set axis=0 to select the class with the highest posterior probability for each sample\n",
    "    print(f\"Predictions shape: {PVAL_MVGNB.shape}\")\n",
    "    print(f\"Predictions: {PVAL_MVGNB}\")\n",
    "\n",
    "    return PVAL_MVGNB"
   ]
  },
  {
   "cell_type": "code",
   "execution_count": 11,
   "id": "1b88baf9",
   "metadata": {},
   "outputs": [
    {
     "name": "stdout",
     "output_type": "stream",
     "text": [
      "S_LogLikelihoods_MVGNB shape, computed from the Validation Set: (3, 50)\n",
      "Joint densities shape: (3, 50)\n",
      "Posteriors shape: (3, 50)\n",
      "Predictions shape: (50,)\n",
      "Predictions: [0 0 1 2 2 0 0 0 1 1 0 0 1 0 2 1 2 1 0 2 0 2 0 0 2 0 2 1 1 1 2 2 1 2 0 1 2\n",
      " 2 0 1 1 2 1 0 0 0 2 1 2 0]\n",
      "\n",
      "Confusion Matrix, Naive Bayes MVG Classifier:\n",
      "[[19.  0.  0.]\n",
      " [ 0. 15.  0.]\n",
      " [ 0.  2. 14.]]\n"
     ]
    }
   ],
   "source": [
    "confMatrix_MVGNB = computeConfMatrix(MVGNB_Pipeline(DTR, LTR), LVAL)\n",
    "print(f\"\\nConfusion Matrix, Naive Bayes MVG Classifier:\\n{confMatrix_MVGNB}\")"
   ]
  },
  {
   "cell_type": "markdown",
   "id": "c319bad2",
   "metadata": {},
   "source": [
    "Given the limited number of errors, a detailed analysis of the IRIS dataset is not very interesting. We\n",
    "thus turn our attention to a larger evaluation dataset. <br>\n",
    "We can use the dataset used in Lab7, storing the tercets samples of the *Divina Commedia*. Each tercet is associated to a label that denotes the cantica from where tercet is extracted ($0$: *Inferno*, $1$ = *Purgatorio*, $2$ = *Paradiso*):"
   ]
  },
  {
   "cell_type": "code",
   "execution_count": 12,
   "id": "b3dd6b33",
   "metadata": {},
   "outputs": [],
   "source": [
    "commedia_ll = np.load(\"./data/commedia_ll.npy\")\n",
    "commedia_labels = np.load(\"./data/commedia_labels.npy\")"
   ]
  },
  {
   "cell_type": "code",
   "execution_count": 13,
   "id": "3747bdd2",
   "metadata": {},
   "outputs": [
    {
     "name": "stdout",
     "output_type": "stream",
     "text": [
      "commedia_ll shape: (3, 1204)\n",
      "commedia_labels shape: (1204,)\n",
      "First 10 logLikelihoods of Inferno: [-122.72443339 -133.30648701 -134.36987251 -170.65723182 -163.97348133\n",
      " -139.39515141 -166.71004347 -174.57737603 -147.62396153 -123.47570192]\n",
      "First 10 labels: [0 0 0 0 0 0 0 0 0 0]\n"
     ]
    }
   ],
   "source": [
    "print(f\"commedia_ll shape: {commedia_ll.shape}\")\n",
    "print(f\"commedia_labels shape: {commedia_labels.shape}\")\n",
    "print(f\"First 10 logLikelihoods of Inferno: {commedia_ll[0, :10]}\")\n",
    "print(f\"First 10 labels: {commedia_labels[:10]}\")"
   ]
  },
  {
   "cell_type": "markdown",
   "id": "694e6579",
   "metadata": {},
   "source": [
    "Let's create a new function that computes the confusionMatrix given the log-likelihoods and the Priors. The classification rule used is always the maximum Posterior class probability Decisions:"
   ]
  },
  {
   "cell_type": "code",
   "execution_count": 14,
   "id": "d28ee959",
   "metadata": {},
   "outputs": [],
   "source": [
    "#always import MVG before using this function!\n",
    "\n",
    "def computeConfMatrixFromLL(LVAL, logLikelihoods, Priors, useLog=True):\n",
    "    \"\"\"\n",
    "    Compute the confusion matrix for the predicted labels and the actual labels.\n",
    "    Args:\n",
    "    - logLikelihoods: matriix of log likelihoods for each class\n",
    "    - Priors: array of priors for each class, priors are application dependent\n",
    "    - useLog: if True, use log likelihoods, else use normal likelihoods\n",
    "\n",
    "    Returns:\n",
    "    - Confusion matrix\n",
    "    \"\"\"\n",
    "\n",
    "    SJoint = MVG.computeSJoint(logLikelihoods, Priors, useLog=useLog) #compute the joint densities by multiplying the score matrix S with the Priors\n",
    "    SPost = MVG.computePosteriors(SJoint, useLog=True)  #compute the posteriors by normalizing the joint densities\n",
    "    PVAL = np.argmax(SPost, axis=0) #select the class with the highest posterior probability for each sample, set axis=0 to select the class with the highest posterior probability for each sample\n",
    "\n",
    "    #call the computeConfMatrix function to compute the confusion matrix\n",
    "    return computeConfMatrix(PVAL, LVAL)\n",
    "    "
   ]
  },
  {
   "cell_type": "markdown",
   "id": "072842f8",
   "metadata": {},
   "source": [
    "For computing the Confusion Matrix for the *Commedia* dataset, we assume uniform Priors for each cantica: $P(l\\_lInf) = P(l\\_lPur) = P(l\\_lPar) = \\frac{1}{3}$"
   ]
  },
  {
   "cell_type": "code",
   "execution_count": 15,
   "id": "b05108ee",
   "metadata": {},
   "outputs": [
    {
     "name": "stdout",
     "output_type": "stream",
     "text": [
      "\n",
      "Confusion Matrix, Commedia Classifier:\n",
      "[[210. 113.  61.]\n",
      " [137. 191. 111.]\n",
      " [ 53.  98. 230.]]\n"
     ]
    }
   ],
   "source": [
    "#Compute the confusion matrix for the log likelihoods\n",
    "#Assume uniform priors for each class\n",
    "\n",
    "confMatrix_Commedia = computeConfMatrixFromLL(commedia_labels, commedia_ll, np.ones((3, )) / 3., useLog=True)\n",
    "print(f\"\\nConfusion Matrix, Commedia Classifier:\\n{confMatrix_Commedia}\")"
   ]
  },
  {
   "cell_type": "markdown",
   "id": "6e0a1371",
   "metadata": {},
   "source": [
    "## Optimal Bayes decision\n",
    "The goal of a classifier is to allow us to choose an action $a$ to perform among\n",
    "a set of actions $\\mathcal{A}$. In the context of classification, an action can be simply \"Classify sample $x_t$ with label $k$\", although we can have also more complex types of actions. <br> \n",
    "We can associate to each action a **cost** $C(a \\mid k)$ that we have to pay when we choose action $a$ and the sample belongs to class $k$. This can be seen as a missclassification cost, which depends both on the actual and predicted class. <br>\n",
    "Unluckily, at evaluation time we don't know the actual classes of the samples (what whould the point of classification be, otherwise?), but we have access to the Priors and we can calculate the Posteriors. These are useful to compute the costs. <br>\n",
    "For a $K$-class problem (where classes are numbered from $0$ up to $K-1$), let's denote the Priors as:\n",
    "$$\n",
    "\\pi = \\begin{bmatrix} \\pi_0 \\\\ \\vdots \\\\ \\pi_{K-1} \\end{bmatrix}\n",
    "$$\n",
    "We can compute the class Posteriors, conditioned on the **Recognizer** $\\mathcal{R}$ that was used to compute them (the Recognizer is our Classifier) by applying Bayes' theorem. This involves expressing the Joint probability in terms of the Likelihood of the data given the class and the Prior probability of the class. The Posterior probability is then obtained by normalizing these terms by the sum over all possible classes:\n",
    "$$\n",
    "P(C = c | x, \\mathcal{R}) = \\frac{f_{X|C,\\mathcal{R}}(x|c)\\pi_c}{\\sum_{k=0}^{K-1} f_{X|C,\\mathcal{R}}(x|k)\\pi_k}\n",
    "$$\n",
    "These class Posteriors are conditioned on the Recognizer because they represent the **believes** that the Recognizer has about each sample belonging to a class $k$. We can compute the **Expected Cost** that we'll pay, according to these believes (which are the best of our knowledge at evaluation time):\n",
    "$$\n",
    "C_{X, \\mathcal{R}}(a) = \\mathop{\\mathbb{E}} \\left[ C(a \\mid k) \\mid x, \\mathcal{R}\\right] = \\sum_{k=0}^{K-1} P(C = k \\mid x, \\mathcal{R}) C(a \\mid k)\n",
    "$$\n",
    "where:\n",
    "- $a$ is the action\n",
    "- $k$ is the class\n",
    "- $x$ is the test sample\n",
    "- $\\mathcal{R}$ is the Recognizer, so the Classifier\n",
    "\n",
    "So in practice we calculate the Posteriors according to the Recognizer, and then we multiply them by the Cost of taking action $a$ given class $k$. The Expected Cost is obatined by summing this quantity all over all classes, from $0$ to $K-1$. <br>\n",
    "Regarding the costs $ C(a \\mid k)$, we can define the **cost matrix** as: \n",
    "$$\n",
    "\\mathbf{C} = \\begin{bmatrix}\n",
    "0 & C_{0,1} & \\cdots & C_{0,K-1} \\\\\n",
    "C_{1,0} & 0 & \\cdots & C_{1,K-1} \\\\\n",
    "\\vdots & \\vdots & \\ddots & \\vdots \\\\\n",
    "C_{K-1,0} & C_{K-1,1} & \\cdots & 0\n",
    "\\end{bmatrix}\n",
    "$$\n",
    "where $C_{i,j}$ represents the cost of predicting class $i$ when the actual class is $j$. <br>\n",
    "\n",
    "-------------------------\n",
    "## Example: Rain vs. Clear Classification\n",
    "\n",
    "For example, let's consider a binary classification problem where the possible classes are \"Rain\" and \"Clear\".\n",
    "\n",
    "**Confusion Matrix**\n",
    "\n",
    "The confusion matrix is a table that summarizes the performance of a classification model. For our two classes, it would look like this:\n",
    "\n",
    "$$\n",
    "\\text{Confusion Matrix} = \\begin{bmatrix}\n",
    "\\text{True Positive (TP)} & \\text{False Positive (FP)} \\\\\n",
    "\\text{False Negative (FN)} & \\text{True Negative (TN)}\n",
    "\\end{bmatrix}\n",
    "= \\begin{bmatrix}\n",
    "\\text{Predicted Rain | Actual Rain} & \\text{Predicted Rain | Actual Clear} \\\\\n",
    "\\text{Predicted Clear | Actual Rain} & \\text{Predicted Clear | Actual Clear}\n",
    "\\end{bmatrix}\n",
    "$$\n",
    "\n",
    "Where:\n",
    "\n",
    "* **TP (True Positive):** The number of times the model correctly predicted \"Rain\" when it was actually raining.\n",
    "* **FP (False Positive):** The number of times the model incorrectly predicted \"Rain\" when it was actually \"Clear\" (also known as a Type I error).\n",
    "* **FN (False Negative):** The number of times the model incorrectly predicted \"Clear\" when it was actually raining (also known as a Type II error).\n",
    "* **TN (True Negative):** The number of times the model correctly predicted \"Clear\" when it was actually clear.\n",
    "\n",
    "**Cost Matrix**\n",
    "\n",
    "The cost matrix defines the cost associated with each type of prediction outcome. Let's assume the following costs:\n",
    "\n",
    "* Correctly predicting \"Rain\" (TP) has no cost: 0\n",
    "* Incorrectly predicting \"Rain\" when it's \"Clear\" (FP) has a cost of 1 (e.g., inconvenience of carrying an umbrella unnecessarily).\n",
    "* Incorrectly predicting \"Clear\" when it's raining (FN) has a higher cost of 5 (e.g., getting caught in the rain without an umbrella).\n",
    "* Correctly predicting \"Clear\" (TN) has no cost: 0\n",
    "\n",
    "Based on these costs, the cost matrix would be:\n",
    "\n",
    "$$\n",
    "\\mathbf{C} = \\begin{bmatrix}\n",
    "C_{\\text{Predicted Rain, Actual Rain}} & C_{\\text{Predicted Rain, Actual Clear}} \\\\\n",
    "C_{\\text{Predicted Clear, Actual Rain}} & C_{\\text{Predicted Clear, Actual Clear}}\n",
    "\\end{bmatrix}\n",
    "= \\begin{bmatrix}\n",
    "0 & 1 \\\\\n",
    "5 & 0\n",
    "\\end{bmatrix}\n",
    "$$\n",
    "\n",
    "Here:\n",
    "\n",
    "* $C_{0,0} = 0$: Cost of predicting \"Rain\" (index 0) when the actual class is \"Rain\" (index 0).\n",
    "* $C_{0,1} = 1$: Cost of predicting \"Rain\" (index 0) when the actual class is \"Clear\" (index 1).\n",
    "* $C_{1,0} = 5$: Cost of predicting \"Clear\" (index 1) when the actual class is \"Rain\" (index 0).\n",
    "* $C_{1,1} = 0$: Cost of predicting \"Clear\" (index 1) when the actual class is \"Clear\" (index 1).\n",
    "\n",
    "-------------------------\n",
    "\n",
    "\n",
    "The optimal Bayes decision consists in predicting the class $c^*$ which has minimum expected Bayes cost:\n",
    "$$\n",
    "c^* = argmin_c \\{ C_{X, \\mathcal{R}}(a) \\}\n",
    "$$\n",
    "\n",
    "## Binary task: optimal decisions\n",
    "Now let's consider **binary tasks** in which we have two classes, that can always be summarized as class *True* - $H_T$ - and class *False* -$H_F$. In this case the cost matrix is always:\n",
    "$$\n",
    "\\mathbf{C} = \\begin{bmatrix}\n",
    "C_{\\text{Predicted } H_F \\text{, Actual } H_F} & C_{\\text{Predicted } H_F \\text{, Actual } H_T} \\\\\n",
    "C_{\\text{Predicted } H_T   \\text{, Actual } H_F} & C_{\\text{Predicted } H_T \\text{, Actual } H_T}\n",
    "\\end{bmatrix}\n",
    "= \\begin{bmatrix}\n",
    "C(H_F \\mid H_F) & C(H_F \\mid H_T) \\\\\n",
    "C(H_T \\mid H_F) & C(H_T \\mid H_T)\n",
    "\\end{bmatrix}\n",
    "= \\begin{bmatrix}\n",
    "C_{tn} & C_{fn} \\\\\n",
    "C_{fp} & C_{tp}\n",
    "\\end{bmatrix}\n",
    "$$\n",
    "The cost for predicting the right class is of course zero so we can rewrite the matrix as:\n",
    "$$\n",
    "\\mathbf{C} = \\begin{bmatrix}\n",
    "0 & C_{fn} \\\\\n",
    "C_{fp} & 0\n",
    "\\end{bmatrix}\n",
    "$$\n",
    "So, applying the formula, the expected Bayes costs for predicting either of the two\n",
    "classes are:\n",
    "$$\n",
    "C_{x,\\mathcal{R}}(H_F) = C (H_F \\mid H_F) P(C = H_F | x, \\mathcal{R}) + C (H_F \\mid H_T) P(C = H_T | x, \\mathcal{R}) = C_{fn}P(C = H_T | x, \\mathcal{R}) \\\\\n",
    "C_{x,\\mathcal{R}}(H_T) = C (H_T \\mid H_F) P(C = H_F | x, \\mathcal{R}) + C (H_T \\mid H_T) P(C = H_T | x, \\mathcal{R}) = C_{fp}P(C = H_F | x, \\mathcal{R})\n",
    "$$\n",
    "We predict the class $c^*$ that has minimum cost: $c^* = argmin_c \\{ C_{X, \\mathcal{R}}(c) \\}$ <br>\n",
    "For the binary task, we can also\n",
    "express $c^*$ taking into account the logarithm of the two costs:\n",
    "$$\n",
    "c^* =\n",
    "\\begin{cases}\n",
    "    H_T & \\text{if } \\log \\frac{C_{fn} P(C = H_T | x, \\mathcal{R})}{C_{fp} P(C = H_F | x, \\mathcal{R})} > 0 \\\\ \\\\\n",
    "    H_F & \\text{if } \\log \\frac{C_{fn} P(C = H_T | x, \\mathcal{R})}{C_{fp} P(C = H_F | x, \\mathcal{R})} \\le 0\n",
    "\\end{cases}\n",
    "$$\n",
    "If $\\mathcal{R}$ is a Generative Model, we can factorize the class Posteriors into Likelihoods and Priors:\n",
    "\n",
    "$$\n",
    "c^* =\n",
    "\\begin{cases}\n",
    "    H_T & \\text{if } \\log \\frac{\\pi_{H_T} C_{fn} f_{X|C,\\mathcal{R}}(x|H_T)}{(1-\\pi_{H_T}) C_{fp} f_{X|C,\\mathcal{R}}(x|H_F)} > 0 \\\\ \\\\\n",
    "    H_F & \\text{if } \\log \\frac{\\pi_{H_T} C_{fn} f_{X|C,\\mathcal{R}}(x|H_T)}{(1-\\pi_{H_T}) C_{fp} f_{X|C,\\mathcal{R}}(x|H_F)} \\le 0\n",
    "\\end{cases}\n",
    "$$\n",
    "Where $\\pi_{H_T} = P(C = H_T)$ and $1 - \\pi_{H_T} = P(C = H_F)$ are the two Priors. <br>\n",
    "By recalling that the ratio between the two likelihoods is the **log-likelihood ratio** - $\\text{llr}(x)$ - and the ratio between the Priors is the **Prior log odds**, we can compare the $\\text{llr}(x)$, acting a a **Score**, to the other quantities, that act as a **Threshold**:\n",
    "\n",
    "$$\n",
    "c^* =\n",
    "\\begin{cases}\n",
    "    H_T & \\text{if } \\text{llr}(x) = \\log \\frac{f_{X|C,\\mathcal{R}}(x|H_T)}{f_{X|C,\\mathcal{R}}(x|H_F)} > t = - \\log \\frac{\\pi_{H_T} C_{fn}}{(1- \\pi_{H_T}) C_{fp}} \\\\ \\\\\n",
    "    H_F & \\text{if } \\text{llr}(x) = \\log \\frac{f_{X|C,\\mathcal{R}}(x|H_T)}{f_{X|C,\\mathcal{R}}(x|H_F)} \\le t = - \\log \\frac{\\pi_{H_T} C_{fn}}{(1- \\pi_{H_T}) C_{fp}}\n",
    "\\end{cases}\n",
    "$$\n",
    "Where here the Threshold takes into account both Priors (defined by $\\pi_{H_T}$ and $1-\\pi_{H_T}$) and Costs of Errors (which are $C_{fp}$, $C_{fn}$). <br> <br>\n",
    "The *triplet* $\\left( \\pi_{H_T}, C_{fp}, C_{fn}\\right)$ denotes the **application**: since these three values are specific to the problem we're trying to solve, they define the specific application or context of the decision-making process.\n",
    "\n"
   ]
  },
  {
   "cell_type": "markdown",
   "id": "27c9f651",
   "metadata": {},
   "source": [
    "In practice, We now consider the binary Inferno-vs-Paradiso task of Laboratory 7. The\n",
    "classifier output consists of an array of log-likelihood ratios. <br>\n",
    "In the following we assume that label $H_T$ ( $= 1$) corresponds to the Inferno and $H_F$ ( $= 0$) to the Paradiso class. <br>\n",
    "We load the log-likelihood ratios and the corresponding labels:\n"
   ]
  },
  {
   "cell_type": "code",
   "execution_count": 16,
   "id": "2107e494",
   "metadata": {},
   "outputs": [
    {
     "name": "stdout",
     "output_type": "stream",
     "text": [
      "llr_infPar shape: (802,)\n",
      "First 10 llrs: [  4.2039284   17.54979113   0.91415981  -0.35165995 -14.57430471\n",
      "   5.20594261  11.28093875  -3.64766372  10.94927909  -5.3347926 ]\n",
      "labels_infPar shape: (802,)\n",
      "First 10 labels: [1 1 1 1 1 1 1 1 1 1]\n"
     ]
    }
   ],
   "source": [
    "classLabels = {1: \"Inferno\", 0: \"Paradiso\"}\n",
    "\n",
    "llr_infPar = np.load(\"./data/commedia_llr_infpar.npy\")\n",
    "print(f\"llr_infPar shape: {llr_infPar.shape}\")\n",
    "print(f\"First 10 llrs: {llr_infPar[:10]}\")\n",
    "labels_infPar = np.load(\"./data/commedia_labels_infpar.npy\")\n",
    "print(f\"labels_infPar shape: {labels_infPar.shape}\")\n",
    "print(f\"First 10 labels: {labels_infPar[:10]}\")"
   ]
  },
  {
   "cell_type": "markdown",
   "id": "cadc39fc",
   "metadata": {},
   "source": [
    "Now the goal is to write a function that computes optimal Bayes decisions for different priors and costs starting from binary\n",
    "log-likelihood ratios. The function should receive the triplet $\\left( \\pi_{H_T}, C_{fp}, C_{fn}\\right)$, corresponding to the cost\n",
    "matrix: \n",
    "$$\n",
    "\\mathbf{C} = \\begin{bmatrix}\n",
    "0 & C_{fn} \\\\\n",
    "C_{fp} & 0\n",
    "\\end{bmatrix}\n",
    "$$\n"
   ]
  },
  {
   "cell_type": "code",
   "execution_count": 17,
   "id": "d41b8b72",
   "metadata": {},
   "outputs": [],
   "source": [
    "\n",
    "#function computeConfMatrix must be imported before using this function!\n",
    "def optimalBayesDecisionClassifier(llrs, LVAL, PriorTrue, Cfn, Cfp):\n",
    "    \"\"\"\n",
    "    Compute the optimal Bayes decision for a given prior and cost function.\n",
    "    And perform classification obtaining a confusion matrix.\n",
    "    Args:\n",
    "    - llrs: log likelihood ratios\n",
    "    - LVAL: actual labels\n",
    "    - PriorTrue: Prior probability of the true class\n",
    "    - Cfn: Cost of false negative\n",
    "    - Cfp: Cost of false positive\n",
    "    Returns:\n",
    "    - Confusion matrix\n",
    "    - Optimal decision threshold\n",
    "    \"\"\"\n",
    "\n",
    "    #compute optimal threshold\n",
    "    t = -1 * np.log((PriorTrue * Cfn) / ((1 - PriorTrue) * Cfp))\n",
    "\n",
    "\n",
    "    #Classification rule: if llr > t, classify as 1, else classify as 0\n",
    "    PVAL = np.where(llrs > t, 1, 0)\n",
    "\n",
    "\n",
    "    #compute confusion matrix\n",
    "    return computeConfMatrix(PVAL, LVAL), t\n",
    "\n",
    "\n",
    "\n",
    "\n",
    "\n",
    "    "
   ]
  },
  {
   "cell_type": "markdown",
   "id": "e1feef94",
   "metadata": {},
   "source": [
    "Let's test the function we've created with four different test sets:"
   ]
  },
  {
   "cell_type": "code",
   "execution_count": 18,
   "id": "bc6f71b4",
   "metadata": {},
   "outputs": [
    {
     "name": "stdout",
     "output_type": "stream",
     "text": [
      "\n",
      "Confusion Matrix, Commedia infPar Binary Classifier, Test 0:\n",
      "[[293.  96.]\n",
      " [109. 304.]]\n",
      "Optimal Threshold: -0.0\n",
      "\n",
      "Confusion Matrix, Commedia infPar Binary Classifier, Test 1:\n",
      "[[271.  80.]\n",
      " [131. 320.]]\n",
      "Optimal Threshold: -1.3862943611198908\n",
      "\n",
      "Confusion Matrix, Commedia infPar Binary Classifier, Test 2:\n",
      "[[257.  75.]\n",
      " [145. 325.]]\n",
      "Optimal Threshold: -2.302585092994046\n",
      "\n",
      "Confusion Matrix, Commedia infPar Binary Classifier, Test 3:\n",
      "[[302. 113.]\n",
      " [100. 287.]]\n",
      "Optimal Threshold: 0.9162907318741548\n"
     ]
    }
   ],
   "source": [
    "#Test the classification with four different sets of params\n",
    "\n",
    "PriorsSet = [0.5, 0.8, 0.5, 0.8]\n",
    "CfnSet = [1, 1, 10, 1]\n",
    "CfpSet = [1, 1, 1, 10]\n",
    "\n",
    "\n",
    "for testIndex in range(len(PriorsSet)):\n",
    "\n",
    "    confMatrix_test, Threshold_test = optimalBayesDecisionClassifier(llr_infPar, labels_infPar, PriorsSet[testIndex], CfnSet[testIndex], CfpSet[testIndex])\n",
    "    print(f\"\\nConfusion Matrix, Commedia infPar Binary Classifier, Test {testIndex}:\\n{confMatrix_test}\")\n",
    "    print(f\"Optimal Threshold: {Threshold_test}\")"
   ]
  },
  {
   "cell_type": "markdown",
   "id": "aed28add",
   "metadata": {},
   "source": [
    "Let's analyze the relations between the parameters of the triplet and the values displayed in the confusion matrix:"
   ]
  },
  {
   "cell_type": "code",
   "execution_count": 19,
   "id": "41974a53",
   "metadata": {},
   "outputs": [
    {
     "name": "stderr",
     "output_type": "stream",
     "text": [
      "C:\\Users\\Utente\\AppData\\Local\\Temp\\ipykernel_21264\\4091664869.py:18: RuntimeWarning: divide by zero encountered in log\n",
      "  t = -1 * np.log((PriorTrue * Cfn) / ((1 - PriorTrue) * Cfp))\n",
      "C:\\Users\\Utente\\AppData\\Local\\Temp\\ipykernel_21264\\4091664869.py:18: RuntimeWarning: divide by zero encountered in scalar divide\n",
      "  t = -1 * np.log((PriorTrue * Cfn) / ((1 - PriorTrue) * Cfp))\n"
     ]
    },
    {
     "data": {
      "image/png": "[encoded data removed]",
      "text/plain": [
       "<Figure size 800x600 with 1 Axes>"
      ]
     },
     "metadata": {},
     "output_type": "display_data"
    }
   ],
   "source": [
    "#chart of samples classified as H_T (Inferno) depending on the Priors \\pi_H_T\n",
    "import matplotlib.pyplot as plt\n",
    "\n",
    "priorsSpace = np.linspace(0, 1, 1000)\n",
    "\n",
    "n_H_T_classified = []\n",
    "\n",
    "for i, prior in enumerate(priorsSpace):\n",
    "    confM, _ = optimalBayesDecisionClassifier(llr_infPar, labels_infPar, prior, 1, 1)\n",
    "    #extract the TP+FP from the confusion matrix to see the total number of samples classified as H_T (Inferno)\n",
    "    n_H_T_classified.append(confM[1, 1] + confM[1, 0])  #True Positives + False Positives for class H_T (Inferno)\n",
    "\n",
    "# Plot the results\n",
    "plt.figure(figsize=(8, 6))\n",
    "plt.plot(priorsSpace, n_H_T_classified, marker='o', linestyle='-', markersize=1)\n",
    "plt.title(\"Number of Samples Classified as $H_T$ ($TP_{H_T} + FP_{H_T}$) vs. Prior Probability of $H_T$ ($\\pi_{H_T}$)\", pad=20, fontsize=14)\n",
    "plt.xlabel(\"Prior Probability of $H_T$ ($\\pi_{H_T}$)\")\n",
    "plt.ylabel(\"Number of Samples Classified as $H_T$\")\n",
    "plt.grid(True)\n",
    "plt.show()\n",
    "\n"
   ]
  },
  {
   "cell_type": "markdown",
   "id": "35d07aa6",
   "metadata": {},
   "source": [
    "There are two jumps: one where $\\pi_{H_T} = 0$ and the other where $\\pi_{H_T} = 1$: <br>\n",
    "- If $\\pi_{H_T} = 0$ we end up having $t = - \\log \\frac{\\pi_{H_T} C_{fn}}{(1- \\pi_{H_T}) C_{fp}}\\mid _{\\pi_{H_T} = 0} = - \\log 0 = \\log \\infty = \\infty  \\Rightarrow \\\\ \\\\ \\Rightarrow c^* =\n",
    "\\begin{cases}\n",
    "    H_T & \\text{if } \\text{llr}(x) = \\log \\frac{f_{X|C,\\mathcal{R}}(x|H_T)}{f_{X|C,\\mathcal{R}}(x|H_F)} > t =  \\infty \\\\ \\\\\n",
    "    H_F & \\text{if } \\text{llr}(x) = \\log \\frac{f_{X|C,\\mathcal{R}}(x|H_T)}{f_{X|C,\\mathcal{R}}(x|H_F)} \\le t = \\infty\n",
    "\\end{cases}\n",
    "\\space \\space \\Rightarrow \\text{All samples are labeled as } H_F\n",
    "$ \n",
    "\n",
    "- If $\\pi_{H_T} = 1$ we end up having $t = - \\log \\frac{\\pi_{H_T} C_{fn}}{(1- \\pi_{H_T}) C_{fp}}\\mid _{\\pi_{H_T} = 1} = - \\log \\infty = \\log 0 = - \\infty  \\Rightarrow \\\\ \\\\ \\Rightarrow c^* =\n",
    "\\begin{cases}\n",
    "    H_T & \\text{if } \\text{llr}(x) = \\log \\frac{f_{X|C,\\mathcal{R}}(x|H_T)}{f_{X|C,\\mathcal{R}}(x|H_F)} > t =  - \\infty \\\\ \\\\\n",
    "    H_F & \\text{if } \\text{llr}(x) = \\log \\frac{f_{X|C,\\mathcal{R}}(x|H_T)}{f_{X|C,\\mathcal{R}}(x|H_F)} \\le t = - \\infty\n",
    "\\end{cases}\n",
    "\\space \\space \\Rightarrow \\text{All samples are labeled as } H_T\n",
    "$"
   ]
  },
  {
   "cell_type": "code",
   "execution_count": 20,
   "id": "7e2d9e72",
   "metadata": {},
   "outputs": [
    {
     "name": "stdout",
     "output_type": "stream",
     "text": [
      "If the Prior Probability is 1, we end up having -log(inf) = -inf\n",
      "If the Prior Probability is 0, we end up having -log(0) = inf\n"
     ]
    },
    {
     "name": "stderr",
     "output_type": "stream",
     "text": [
      "C:\\Users\\Utente\\AppData\\Local\\Temp\\ipykernel_21264\\2979815005.py:2: RuntimeWarning: divide by zero encountered in log\n",
      "  print(f\"If the Prior Probability is 0, we end up having -log(0) = {-np.log(0)}\")\n"
     ]
    }
   ],
   "source": [
    "print(f\"If the Prior Probability is 1, we end up having -log(inf) = {-np.log(np.inf)}\")\n",
    "print(f\"If the Prior Probability is 0, we end up having -log(0) = {-np.log(0)}\")"
   ]
  },
  {
   "cell_type": "markdown",
   "id": "260159fe",
   "metadata": {},
   "source": [
    "**Result: When the prior for class $H_T$ increases, the classifier tends to predict class $H_T$ more frequently**."
   ]
  },
  {
   "cell_type": "code",
   "execution_count": 21,
   "id": "a3c6302c",
   "metadata": {},
   "outputs": [
    {
     "name": "stderr",
     "output_type": "stream",
     "text": [
      "C:\\Users\\Utente\\AppData\\Local\\Temp\\ipykernel_21264\\4091664869.py:18: RuntimeWarning: divide by zero encountered in log\n",
      "  t = -1 * np.log((PriorTrue * Cfn) / ((1 - PriorTrue) * Cfp))\n"
     ]
    },
    {
     "data": {
      "image/png": "[encoded data removed]",
      "text/plain": [
       "<Figure size 800x600 with 1 Axes>"
      ]
     },
     "metadata": {},
     "output_type": "display_data"
    }
   ],
   "source": [
    "#Chart for the relationship between FP, FN and Cfn error\n",
    "\n",
    "CfnSpace = np.linspace(0, 20, 20000)\n",
    "\n",
    "n_FP = []\n",
    "n_FN = []\n",
    "n_TP = []\n",
    "n_TN = []\n",
    "\n",
    "for i, Cfn_ in enumerate(CfnSpace):\n",
    "    confM, _ = optimalBayesDecisionClassifier(llr_infPar, labels_infPar, 0.5, Cfn_, 1)\n",
    "    #extract FP and FN from the confusion matrix\n",
    "    n_FP.append(confM[1, 0]) #FP\n",
    "    n_FN.append(confM[0, 1]) #FN\n",
    "    n_TP.append(confM[1, 1]) #TP\n",
    "    n_TN.append(confM[0, 0]) #TN\n",
    "\n",
    "\n",
    "# Plot the results\n",
    "#make two series one for FP and one for FN\n",
    "plt.figure(figsize=(8, 6))\n",
    "plt.plot(CfnSpace, n_FP, marker='o', linestyle='-', markersize=1, label='FP')\n",
    "plt.plot(CfnSpace, n_FN, marker='o', linestyle='-', markersize=1, label='FN')\n",
    "plt.plot(CfnSpace, n_TP, marker='o', linestyle='-', markersize=1, label='TP')\n",
    "plt.plot(CfnSpace, n_TN, marker='o', linestyle='-', markersize=1, label='TN')\n",
    "plt.title(\"Trend in $F_P$, $F_N$, $T_P$, $F_P$ when varying $C_{fn}$ (fixing $\\pi_{H_T} = 0.5$, $C_{fp} = 1$)\", pad=20, fontsize=14)\n",
    "plt.xlabel(\"Cost of False Negative ($C_{fn}$)\")\n",
    "plt.ylabel(\"Number of Samples\")\n",
    "plt.legend()\n",
    "plt.grid(True)\n",
    "plt.show()"
   ]
  },
  {
   "cell_type": "markdown",
   "id": "ed399970",
   "metadata": {},
   "source": [
    "**Result: when $C_{fn}$, so the cost of assigning label $H_F$ to samples whose actual class is $H_T$, increases, the Classifier will make more false positive errors and less false negative errors.**"
   ]
  },
  {
   "cell_type": "code",
   "execution_count": 22,
   "id": "db8aa5c7",
   "metadata": {},
   "outputs": [
    {
     "name": "stderr",
     "output_type": "stream",
     "text": [
      "C:\\Users\\Utente\\AppData\\Local\\Temp\\ipykernel_21264\\4091664869.py:18: RuntimeWarning: divide by zero encountered in scalar divide\n",
      "  t = -1 * np.log((PriorTrue * Cfn) / ((1 - PriorTrue) * Cfp))\n"
     ]
    },
    {
     "data": {
      "image/png": "[encoded data removed]",
      "text/plain": [
       "<Figure size 800x600 with 1 Axes>"
      ]
     },
     "metadata": {},
     "output_type": "display_data"
    }
   ],
   "source": [
    "#Chart for the relationship between FP, FN and Cfp error\n",
    "\n",
    "CfpSpace = np.linspace(0, 20, 20000)\n",
    "\n",
    "n_FP = []\n",
    "n_FN = []\n",
    "n_TP = []\n",
    "n_TN = []\n",
    "\n",
    "for i, Cfp_ in enumerate(CfpSpace):\n",
    "    confM, _ = optimalBayesDecisionClassifier(llr_infPar, labels_infPar, 0.5, 1, Cfp_)\n",
    "    #extract FP and FN from the confusion matrix\n",
    "    n_FP.append(confM[1, 0]) #FP\n",
    "    n_FN.append(confM[0, 1]) #FN\n",
    "    n_TP.append(confM[1, 1]) #TP\n",
    "    n_TN.append(confM[0, 0]) #TN\n",
    "\n",
    "\n",
    "# Plot the results\n",
    "#make two series one for FP and one for FN\n",
    "plt.figure(figsize=(8, 6))\n",
    "plt.plot(CfnSpace, n_FP, marker='o', linestyle='-', markersize=1, label='FP')\n",
    "plt.plot(CfnSpace, n_FN, marker='o', linestyle='-', markersize=1, label='FN')\n",
    "plt.plot(CfnSpace, n_TP, marker='o', linestyle='-', markersize=1, label='TP')\n",
    "plt.plot(CfnSpace, n_TN, marker='o', linestyle='-', markersize=1, label='TN')\n",
    "plt.title(\"Trend in $F_P$, $F_N$, $T_P$, $F_P$ when varying $C_{fp}$ (fixing $\\pi_{H_T} = 0.5$, $C_{fn} = 1$)\", pad=20, fontsize=14)\n",
    "plt.xlabel(\"Cost of False Positive ($C_{fp}$)\")\n",
    "plt.ylabel(\"Number of Samples\")\n",
    "plt.legend()\n",
    "plt.grid(True)\n",
    "plt.show()"
   ]
  },
  {
   "cell_type": "markdown",
   "id": "325e6a42",
   "metadata": {},
   "source": [
    "**Result: when $C_{fp}$, so the cost of assigning label $H_T$ to samples whose actual class is $H_F$, increases, the Classifier will make more false negative errors and less false positive errors.**"
   ]
  },
  {
   "cell_type": "markdown",
   "id": "5d014fa8",
   "metadata": {},
   "source": [
    "## Binary task: evaluation\n",
    "We now turn our attention at evaluating the predictions made by our classifier $\\mathcal{R}$ for a target application with Prior and costs given by the triplet $(\\pi_1, C_{fn}, C_{fp})$. <br>\n",
    "At evaluation time,  $\\mathcal{R}$ performs decisions for the test samples and finds the optimal ones according to the Posteriors (which are its believes). WE want to know what is the cost when using the system over data having their own labels. As we have seen,\n",
    "we can compute the **empirical Bayes risk** (or **detection cost function**, *DCF*), that represents the cost that\n",
    "we pay due to our decisions $c^* = argmin_c \\{ C_{X, \\mathcal{R}}(c) \\}$\n",
    "for the test data. The risk can be expressed as:\n",
    "$$\n",
    "\\mathcal{B} = \\mathop{\\mathbb{E}}_{X, C \\mid \\mathcal{E}} \\left[ C^* (x, \\mathcal{R} \\mid c)\\right]\n",
    "$$\n",
    "Beware that this can also be written as: $\\mathcal{B} = \\mathop{\\mathbb{E}}_{X, C \\mid \\mathcal{E}} \\left[ C^* (a^*(x, \\mathcal{R}) \\mid c)\\right]$ since $C^*$ is the cost for taking the **optimal** decision $a^*$. However, to simplify the notation, we will usually use the first representation.<br>\n",
    "In the formula, $\\mathcal{E}$ denotes the evaluation population, assumed to be distributed according\n",
    "to $X, C \\mid \\mathcal{E}$. $\\mathcal{E}$ is basically an evaluator who knows the complete distribution of\n",
    "data. <br>\n",
    "So, $\\mathcal{B}$ is nothing else than the expected cost for our evaluation samples, computer over optimal costs of optimal decisions $a^* (x, \\mathcal{R})$. <br>\n",
    "Since $\\mathcal{E}$ knows the complete distribution of the data, we can say that the evaluation population is sampled from $f_{X, C \\mid \\mathcal{E}} (x, c)$, which is the distribution of all the $(x_t, c_t)$ (which are the oberved samples with their observed labels). <br>\n",
    "So, when we apply the Classifier $\\mathcal{R}$ over these samples from the distribution above, we want to know the cost to pay. For each pair $(X, C)$ we can take the optimal cost for the optimal decision, $C^* (x, \\mathcal{R} \\mid c)$, weighted by the distribution density $f_{X, C \\mid \\mathcal{E}} (x, c)$:\n",
    "$$\n",
    "\\mathcal{B} = \\mathop{\\mathbb{E}}_{X, C \\mid \\mathcal{E}} \\left[ C^* (x, \\mathcal{R} \\mid c)\\right] = \\int \\int C^*(x, \\mathcal{R} \\mid c) f_{X, C \\mid \\mathcal{E}}(x, c) \\, dx \\, dc\n",
    "$$\n",
    "Since in our case the classes are discrete, instead of an integral over $dc$ we can insert a sum:\n",
    "$$\n",
    "\\mathcal{B} = \\mathop{\\mathbb{E}}_{X, C \\mid \\mathcal{E}} \\left[ C^* (x, \\mathcal{R} \\mid c)\\right] = \\sum_{c = 0}^{K-1}  \\int C^*(x, \\mathcal{R} \\mid c) f_{X, C \\mid \\mathcal{E}}(x, c) \\, dx\n",
    "$$\n",
    "If $\\mathcal{R}$ is a Generative Model, like in our case, we can factorize the Joint into the conditional and the Prior: \n",
    "$$\n",
    "\\mathcal{B} = \\mathop{\\mathbb{E}}_{X, C \\mid \\mathcal{E}} \\left[ C^* (x, \\mathcal{R} \\mid c)\\right] = \\sum_{c = 0}^{K-1}  \\int C^*(x, \\mathcal{R} \\mid c) f_{X \\mid C, \\mathcal{E}}(x \\mid c) P(C = c) \\, dx \\\\\n",
    "= \\sum_{c = 0}^{K-1}  \\int C^*(x, \\mathcal{R} \\mid c) f_{X \\mid C, \\mathcal{E}}(x \\mid c) \\pi_c \\, dx\n",
    "$$\n",
    "Since the Prior $\\pi_c$ does not depend on the test sample $x$ (which is the integration variable), we can put it outside the integral. The final formula for the expected Bayes Risk is thus:\n",
    "$$\n",
    "\\mathcal{B} = \\mathop{\\mathbb{E}}_{X, C \\mid \\mathcal{E}} \\left[ C^* (x, \\mathcal{R} \\mid c)\\right] = \\sum_{c = 0}^{K-1}  \\pi_c \\int C^*(x, \\mathcal{R} \\mid c) f_{X \\mid C, \\mathcal{E}}(x \\mid c) \\, dx\n",
    "$$\n",
    "This whole formula encodes that, for each class $c$, we have to first compute the cost of optimal decision for sample $x$ using the Recongizer $\\mathcal{R}$, given that $x \\in c$, then we have to multiply this cost with the conditional and integrate over all the samples to find the expectation wrt the samples of class $c$, then we have to sum this value over all the classes. <br>\n",
    "Note that the distribution $X \\mid C, \\mathcal{E}$ reflects the knowledge of the evaluator $\\mathcal{E}$, not\n",
    "the knowledge of the Recognizer $\\mathcal{R}$. <br> <br>\n",
    "The problem now is that we **do not know** $f_{X \\mid C, \\mathcal{E}}(x \\mid c)$ (which is the conditional density according to evaluator $\\mathcal{E}$, so the data distribution according to $\\mathcal{E}$). However, we have at our disposal a **labeled dataset**: $(x_0, c_0), ..., (x_N, c_{K-1})$. It's important to stress the fact that **we know the actual labels** of this data. We assume that these samples are drawn from the distribution $X \\mid C, \\mathcal{E}$, according to $f_{X \\mid C, \\mathcal{E}}(x \\mid c)$. This means that,  if the number of samples per class\n",
    "becomes large, we can approximate the integral of the expectation by\n",
    "averaging the cost over the samples of each class. This is called **empirical Expectation**:\n",
    "$$\n",
    "\\int C^*(x, \\mathcal{R} | c) f_{X|C, \\mathcal{E}}(x | c) dx \\approx \\frac{1}{N_c} \\sum_{i | c_i = c} C^*(x_i, \\mathcal{R} | c)\n",
    "$$\n",
    "where $N_c$ is the number of classes. <br>\n",
    "If we compute this for each class and multiply it by the Prior of each class and them sum all together, we can finally compute the **Empirical Bayes Risk**:\n",
    "$$\n",
    "\\mathcal{B}_{\\text{emp}} = \\sum_{c=0}^{K-1} \\frac{\\pi_c}{N_c} \\sum_{i | c_i = c} C^*(x_i, \\mathcal{R} | c) = \\sum_{c=0}^{K-1} \\frac{\\pi_c}{N_c} \\sum_{i | c_i = c} C^*(c_{i}^* | c)\n",
    "$$\n",
    "and we can say that $\\mathcal{B} \\approx \\mathcal{B}_{\\text{emp}}$. <br>\n",
    "In the second formula, $c_i$\n",
    "is the actual class for sample $x_i$ and $c_{i}^*$\n",
    "is the predicted class (by $\\mathcal{R}$) for the same sample. <br>\n",
    "For a binary problem, $\\mathcal{B}_{\\text{emp}}$ can also be expressed as:\n",
    "$$\n",
    "\\mathcal{B}_{\\text{emp}} = \\pi_T C_{fn} P_{fn} + (1 - \\pi_T) C_{fp} P_{fp}\n",
    "$$\n",
    "where $P_{fn}$ and $P_{fp}$\n",
    "are the false negative and false positive rates (also called $\\text{FNR}$, $\\text{FPR}$). These can be computed from the confusion matrix $\\mathbf{M}$.\n",
    "Remember that $M_{i,j}$ represents the number of samples of class $j$ predicted as belonging to class $i$. We\n",
    "can then compute: \n",
    "$$\n",
    "P_{fn} = \\frac{FN}{FN + TP} = \\frac{M_{0,1}}{M_{0,1} + M_{1,1}}, \\quad P_{fp} = \\frac{FP}{FP + TN} = \\frac{M_{1,0}}{M_{0,0} + M_{1,0}}\n",
    "$$\n",
    "\n",
    "\n",
    "\n"
   ]
  },
  {
   "cell_type": "markdown",
   "id": "e169cf1b",
   "metadata": {},
   "source": [
    "So, let's write a function that computes the Bayes risk from the confusion matrix corresponding to the optimal\n",
    "decisions for an application $(\\pi_T, C_{fp}, C_{fn})$:"
   ]
  },
  {
   "cell_type": "code",
   "execution_count": 23,
   "id": "3f25d794",
   "metadata": {},
   "outputs": [],
   "source": [
    "def computeEmpiricalBayesRisk(llrs, LVAL, PriorTrue, Cfn, Cfp):\n",
    "    \"\"\"\n",
    "    Compute the empirical Bayes risk for a given prior and cost function.\n",
    "    Args:\n",
    "    - llrs: log likelihood ratios\n",
    "    - LVAL: actual labels\n",
    "    - PriorTrue: Prior probability of the true class\n",
    "    - Cfn: Cost of false negative\n",
    "    - Cfp: Cost of false positive\n",
    "    Returns:\n",
    "    - Empirical Bayes risk\n",
    "    \"\"\"\n",
    "\n",
    "    confMatrix, _ = optimalBayesDecisionClassifier(llrs, LVAL, PriorTrue, Cfn, Cfp)\n",
    "    #now, extract the TP, TN, FP and FN from the confusion matrix\n",
    "    TP = confMatrix[1, 1] #True Positives\n",
    "    TN = confMatrix[0, 0] #True Negatives\n",
    "    FP = confMatrix[1, 0] #False Positives\n",
    "    FN = confMatrix[0, 1] #False Negatives\n",
    "\n",
    "    #comupte Pfn, Pfp\n",
    "    Pfn = FN / (FN + TP) #False Negative Rate\n",
    "    Pfp = FP / (FP + TN) #False Positive Rate\n",
    "\n",
    "    return (PriorTrue * Cfn * Pfn) + ((1 - PriorTrue) * Cfp * Pfp) #Empirical Bayes Risk\n",
    "    \n",
    "    "
   ]
  },
  {
   "cell_type": "code",
   "execution_count": 24,
   "id": "a7842311",
   "metadata": {},
   "outputs": [
    {
     "name": "stdout",
     "output_type": "stream",
     "text": [
      "\n",
      "Empirical Bayes Risk, Commedia infPar Binary Classifier, Test 0: 0.256\n",
      "\n",
      "Empirical Bayes Risk, Commedia infPar Binary Classifier, Test 1: 0.225\n",
      "\n",
      "Empirical Bayes Risk, Commedia infPar Binary Classifier, Test 2: 1.118\n",
      "\n",
      "Empirical Bayes Risk, Commedia infPar Binary Classifier, Test 3: 0.724\n"
     ]
    }
   ],
   "source": [
    "#Test the empirical Bayes risk with four different sets of params\n",
    "\n",
    "PriorsSet = [0.5, 0.8, 0.5, 0.8]\n",
    "CfnSet = [1, 1, 10, 1]\n",
    "CfpSet = [1, 1, 1, 10]\n",
    "\n",
    "for testIndex in range(len(PriorsSet)):\n",
    "    risk = computeEmpiricalBayesRisk(llr_infPar, labels_infPar, PriorsSet[testIndex], CfnSet[testIndex], CfpSet[testIndex])\n",
    "    print(f\"\\nEmpirical Bayes Risk, Commedia infPar Binary Classifier, Test {testIndex}: {risk :.3f}\")"
   ]
  },
  {
   "cell_type": "code",
   "execution_count": 25,
   "id": "c71fefac",
   "metadata": {},
   "outputs": [
    {
     "data": {
      "image/png": "[encoded data removed]",
      "text/plain": [
       "<Figure size 500x200 with 1 Axes>"
      ]
     },
     "metadata": {},
     "output_type": "display_data"
    }
   ],
   "source": [
    "#table of empirical Bayes risk for each test\n",
    "\n",
    "rows = [\n",
    "    [\"Test Number\", \"$\\pi_{H_T}$\", \"$C_{fn}$\", \"$C_{fp}$\", \"$\\mathcal{B}_{emp}$\"],\n",
    "    [0, 0.5, 1, 1, round(computeEmpiricalBayesRisk(llr_infPar, labels_infPar, 0.5, 1, 1), 3)],\n",
    "    [1, 0.8, 1, 1, round(computeEmpiricalBayesRisk(llr_infPar, labels_infPar, 0.8, 1, 1), 3)],\n",
    "    [2, 0.5, 10, 1, round(computeEmpiricalBayesRisk(llr_infPar, labels_infPar, 0.5, 10, 1), 3)],\n",
    "    [3, 0.8, 1, 10, round(computeEmpiricalBayesRisk(llr_infPar, labels_infPar, 0.8, 1, 10), 3)],\n",
    "]\n",
    "\n",
    "fig, ax = plt.subplots(figsize=(5, 2))\n",
    "ax.axis('tight')\n",
    "ax.axis('off')\n",
    "\n",
    "table = ax.table(cellText=rows, colLabels=None, cellLoc='center', loc='center')\n",
    "plt.title(\"Empirical Bayes Risk for each Test\", pad=20, fontsize=14)\n",
    "table.auto_set_font_size(False)  # Disable auto font size\n",
    "table.set_fontsize(10)  # Set a fixed font size\n",
    "table.scale(1.5, 1.5)  # Adjust the scale for better visibility\n",
    "plt.show()"
   ]
  },
  {
   "cell_type": "markdown",
   "id": "d9843f67",
   "metadata": {},
   "source": [
    "$\\mathcal{B}_{\\text{emp}}$ is also called (**un-normalized**) *Detection Cost Function* (DCF). We say\n",
    "*un-normalized* because this value doesn’t tell a lot by itself. <br>\n",
    "We can compute\n",
    "a **normalized Detection Cost Function**, by dividing the Bayes risk by the risk of an optimal system that does not\n",
    "use the test data at all and only relies on Priors. <br>\n",
    "If we consider a dummy system that always classifies a test sample as $H_T$, we would have $P_{fp} = 1$, $P_{fn} = 0$ that imply $DCF_u = (1 - \\pi_T)C_{fp}$. <br>\n",
    "Similarly, a dummy system that always classifies a test sample as $H_F$ we would have $P_{fp} = 0$, $P_{fn} = 1$ that imply $DCF_u = \\pi_T C_{fn}$. <br>\n",
    "We compare the system DCF w.r.t. the best dummy system to get the normalized DCF:\n",
    "\n",
    "$$\n",
    "\\mathcal{B}_{\\text{emp , norm. }} = DCF(\\pi_T, C_{fn}, C_{fp}) = \\frac{DCF_u(\\pi_T, C_{fn}, C_{fp})}{\\min(\\pi_T C_{fn}, (1 - \\pi_T)C_{fp})}\n",
    "$$\n",
    "\n",
    "Note that the best dummy system corresponds to optimal Bayes decisions based on Prior information alone. <br>\n",
    "So, let's write the function to normalize te DCFs:\n"
   ]
  },
  {
   "cell_type": "code",
   "execution_count": 26,
   "id": "46bfe512",
   "metadata": {},
   "outputs": [],
   "source": [
    "def computeEmpiricalBayesRisk_Normalized(llrs, LVAL, PriorTrue, Cfn, Cfp):\n",
    "    \"\"\"\n",
    "    Compute the empirical Bayes risk for a given prior and cost function.\n",
    "    Args:\n",
    "    - llrs: log likelihood ratios\n",
    "    - LVAL: actual labels\n",
    "    - PriorTrue: Prior probability of the true class\n",
    "    - Cfn: Cost of false negative\n",
    "    - Cfp: Cost of false positive\n",
    "    Returns:\n",
    "    - Normalized Empirical Bayes risk\n",
    "    \"\"\"\n",
    "\n",
    "    confMatrix, _ = optimalBayesDecisionClassifier(llrs, LVAL, PriorTrue, Cfn, Cfp)\n",
    "    #now, extract the TP, TN, FP and FN from the confusion matrix\n",
    "    TP = confMatrix[1, 1] #True Positives\n",
    "    TN = confMatrix[0, 0] #True Negatives\n",
    "    FP = confMatrix[1, 0] #False Positives\n",
    "    FN = confMatrix[0, 1] #False Negatives\n",
    "\n",
    "    #comupte Pfn, Pfp\n",
    "    Pfn = FN / (FN + TP) #False Negative Rate\n",
    "    Pfp = FP / (FP + TN) #False Positive Rate\n",
    "\n",
    "    Bemp = (PriorTrue * Cfn * Pfn) + ((1 - PriorTrue) * Cfp * Pfp) #Empirical Bayes Risk\n",
    "\n",
    "\n",
    "    #Now calculate the Bemp for the two dummy systems:\n",
    "    Bemp_dummy1= PriorTrue * Cfn\n",
    "    Bemp_dummy2 = (1 - PriorTrue) * Cfp\n",
    "    #take the min between the two Bemp dummy\n",
    "    Bemp_dummy = min(Bemp_dummy1, Bemp_dummy2)\n",
    "\n",
    "    return Bemp / Bemp_dummy #Normalized Empirical Bayes Risk\n",
    "\n",
    "    "
   ]
  },
  {
   "cell_type": "code",
   "execution_count": 27,
   "id": "85e56fb7",
   "metadata": {},
   "outputs": [
    {
     "data": {
      "image/png": "[encoded data removed]",
      "text/plain": [
       "<Figure size 500x200 with 1 Axes>"
      ]
     },
     "metadata": {},
     "output_type": "display_data"
    }
   ],
   "source": [
    "rows = [\n",
    "    [\"Test Number\", \"$\\pi_{H_T}$\", \"$C_{fn}$\", \"$C_{fp}$\", \"$\\mathcal{B}_{emp}, norm.$\"],\n",
    "    [0, 0.5, 1, 1, round(computeEmpiricalBayesRisk_Normalized(llr_infPar, labels_infPar, 0.5, 1, 1), 3)],\n",
    "    [1, 0.8, 1, 1, round(computeEmpiricalBayesRisk_Normalized(llr_infPar, labels_infPar, 0.8, 1, 1), 3)],\n",
    "    [2, 0.5, 10, 1, round(computeEmpiricalBayesRisk_Normalized(llr_infPar, labels_infPar, 0.5, 10, 1), 3)],\n",
    "    [3, 0.8, 1, 10, round(computeEmpiricalBayesRisk_Normalized(llr_infPar, labels_infPar, 0.8, 1, 10), 3)],\n",
    "]\n",
    "\n",
    "fig, ax = plt.subplots(figsize=(5, 2))\n",
    "ax.axis('tight')\n",
    "ax.axis('off')\n",
    "\n",
    "table = ax.table(cellText=rows, colLabels=None, cellLoc='center', loc='center')\n",
    "plt.title(\"*Normalized* Empirical Bayes Risk for each Test\", pad=20, fontsize=14)\n",
    "table.auto_set_font_size(False)  # Disable auto font size\n",
    "table.set_fontsize(10)  # Set a fixed font size\n",
    "table.scale(1.5, 1.5)  # Adjust the scale for better visibility\n",
    "plt.show()"
   ]
  },
  {
   "cell_type": "markdown",
   "id": "fa5e3d6d",
   "metadata": {},
   "source": [
    "Based on what we obtain, we can actually say if our system is *good / useful* or *harmful /useless*:\n",
    "- if $DCF(\\pi_T, C_{fn}, C_{fp}) > 1 \\Rightarrow$ our system is **harmful**\n",
    "- if $DCF(\\pi_T, C_{fn}, C_{fp}) \\lt 1 \\Rightarrow$ our system is **good**\n",
    "\n",
    "**We can observe that only in two cases the DCF is lower than 1, in the remaining cases our system is actually harmful.**\n"
   ]
  },
  {
   "cell_type": "markdown",
   "id": "31532228",
   "metadata": {},
   "source": [
    "## Minimum detection costs\n",
    "\n",
    "We have seen during the lectures that, for binary tasks, we can measure the contribution to the cost due\n",
    "to poor class separation and the contribution due to poor score calibration: our classifier does not produce outputs that represent log-likelihood ratios, thus the theoretical threshold is not optimal anymore\n",
    "(note that this happens even for generative models — for example, the model parameters may not be\n",
    "consistent between training and test population). <br>\n",
    "**Scores can be re-calibrated** by using a (small) set of labeled samples, that behave similarly to the evaluation population and were not used for model training (i.e. a validation set). Alternatively, we can\n",
    "compute the optimal threshold for a given application on the same validation set, and use such threshold\n",
    "for the test population (K-fold cross validation can be also exploited to extract validation sets from the\n",
    "training data when validation data is not available). <br>\n",
    "Even if we do not have available such data, it may still be interesting knowing how good the model would\n",
    "perform if we had selected the best possible threshold. **To this extent, we can compute the (normalized) DCF over the test set using all possible thresholds, and select its minimum value.** <br>\n",
    "In practice, we have to make these considerations:\n",
    "- The $DCF(\\pi_T, C_{fn}, C_{fp})$ (or, it's the same, the $\\mathcal{B}_{\\text{emp, norm}}$) measures how well our system makes decisions. These decisions are determined by **comparing a score to a threshold.** In our case the scores are the log-likelihoods ratios and the threshold is computed from the application triplet of type $(\\pi_{H_T}, C_{fn}, C_{fp})$.\n",
    "-  If we shift the threshold **without** crossing a score, the classification of any given sample doesn't change. For example, imagine we have scores $[1, 2, 3]$ and our threshold is $t = 1.5$. Samples with scores $2$ and $3$ are classified as one class, and the sample with score $1$ as the other. If we change the threshold to $t = 1.7$, the classifications remain the same. Therefore, the confusion matrix, and consequently the DCF, also remain the same.\n",
    "- So, the DCF is **piecewise constant** (it's like a *step function*, more precisely it's a monotonic increasing step function): **it only changes at the score values** because the only time the classification of a sample changes is when the threshold moves past its score.\n",
    "\n",
    "Therefore, to compute all the possible values for the DCF and select the *minimum*, we only need to check the DCF at the points where it can change.  And those points are precisely the **test scores**. <br>\n",
    "So, more precisely, we consider a set that contains all the possible test scores, sorted in an **increasing order**, plus the limit values of $\\infty$ and $- \\infty$ to represent the extreme cases of rejecting all samples and accepting all samples: \n",
    "$$\n",
    "\\left( - \\infty, s_0, s_1, s_2, ..., s_M, \\infty \\right)\n",
    "$$\n",
    "We consider all the elements in this set as thresholds $(t_0, t_1, ..., t_N)$ , and for each threshold $t$ we compute  the confusion matrix on the test set itself that would be obtained\n",
    "if scores were thresholded at $t$, and the corresponding normalized DCF using the code developed in the previous section. Remember that in our case the **scores are the $\\text{llr}(x)$, that we have to sort in increasing order:"
   ]
  },
  {
   "cell_type": "code",
   "execution_count": null,
   "id": "f7a257ff",
   "metadata": {},
   "outputs": [
    {
     "data": {
      "text/plain": [
       "(802,)"
      ]
     },
     "execution_count": 30,
     "metadata": {},
     "output_type": "execute_result"
    }
   ],
   "source": [
    "llr_infPar.shape    #This are llr gonna be used as THRESHOLDS"
   ]
  },
  {
   "cell_type": "code",
   "execution_count": 34,
   "id": "85b3d44d",
   "metadata": {},
   "outputs": [],
   "source": [
    "def computeMinEmpiricalBayesRisk_Normalized(scores, LVAL, PriorTrue, Cfn, Cfp):\n",
    "    \"\"\"\n",
    "    Compute the minimum Bayes normalized empirical risk (= the min DCF) for a given prior and cost function.\n",
    "    Args:\n",
    "    - scores: log likelihood ratios\n",
    "    - LVAL: actual labels\n",
    "    - PriorTrue: Prior probability of the true class\n",
    "    - Cfn: Cost of false negative\n",
    "    - Cfp: Cost of false positive\n",
    "    Returns:\n",
    "    - Minimum Bayes normalized empirical risk\n",
    "    \"\"\"\n",
    "\n",
    "\n",
    "    #1. sort the scores in increasing order to use them as thresholds\n",
    "    sortedScores = np.sort(scores)\n",
    "\n",
    "    #2. add the -inf and +inf to the sorted scores to use them as thresholds\n",
    "    sortedScores = np.concatenate(([-np.inf], sortedScores, [np.inf])) \n",
    "    #now we have sortedScores = (-inf, s0, s1, s2, ..., sN, +inf)\n",
    "\n",
    "    #3. for each threshold, compute the empirical Bayes risk\n",
    "    DCFList = [] #initialize the DCFList with an empty list\n",
    "\n",
    "    for t in sortedScores:\n",
    "        #score IS THE THRESHOLD!\n",
    "        #Classification rule: if llr > t, classify as 1, else classify as 0\n",
    "        PVAL = np.where(scores > t, 1, 0)\n",
    "\n",
    "        #compute confusion matrix\n",
    "        confMatrix = computeConfMatrix(PVAL, LVAL)\n",
    "\n",
    "\n",
    "        #now, extract the TP, TN, FP and FN from the confusion matrix\n",
    "        TP = confMatrix[1, 1] #True Positives\n",
    "        TN = confMatrix[0, 0] #True Negatives\n",
    "        FP = confMatrix[1, 0] #False Positives\n",
    "        FN = confMatrix[0, 1] #False Negatives\n",
    "\n",
    "        #comupte Pfn, Pfp\n",
    "        Pfn = FN / (FN + TP) #False Negative Rate\n",
    "        Pfp = FP / (FP + TN) #False Positive Rate\n",
    "\n",
    "        Bemp = (PriorTrue * Cfn * Pfn) + ((1 - PriorTrue) * Cfp * Pfp) #Empirical Bayes Risk\n",
    "\n",
    "\n",
    "        #Now calculate the Bemp for the two dummy systems:\n",
    "        Bemp_dummy1= PriorTrue * Cfn\n",
    "        Bemp_dummy2 = (1 - PriorTrue) * Cfp\n",
    "        #take the min between the two Bemp dummy\n",
    "        Bemp_dummy = min(Bemp_dummy1, Bemp_dummy2)\n",
    "\n",
    "        DCF_i = Bemp / Bemp_dummy #Normalized Empirical Bayes Risk\n",
    "\n",
    "        DCFList.append(DCF_i) #append the DCF_i to the DCFList\n",
    "\n",
    "\n",
    "    #4. find the minimum DCF in the DCFArray\n",
    "    return min(DCFList) \n",
    "    "
   ]
  },
  {
   "cell_type": "code",
   "execution_count": 37,
   "id": "63ecc9e7",
   "metadata": {},
   "outputs": [
    {
     "data": {
      "image/png": "[encoded data removed]",
      "text/plain": [
       "<Figure size 500x200 with 1 Axes>"
      ]
     },
     "metadata": {},
     "output_type": "display_data"
    }
   ],
   "source": [
    "rows = [\n",
    "    [\"Test Number\", \"$\\pi_{H_T}$\", \"$C_{fn}$\", \"$C_{fp}$\", \"min DCF\"],\n",
    "    [0, 0.5, 1, 1, round(computeMinEmpiricalBayesRisk_Normalized(llr_infPar, labels_infPar,0.5, 1, 1 ), 3)],\n",
    "    [1, 0.8, 1, 1, round(computeMinEmpiricalBayesRisk_Normalized(llr_infPar, labels_infPar, 0.8, 1, 1), 3)],\n",
    "    [2, 0.5, 10, 1, round(computeMinEmpiricalBayesRisk_Normalized(llr_infPar, labels_infPar, 0.5, 10, 1), 3)],\n",
    "    [3, 0.8, 1, 10, round(computeMinEmpiricalBayesRisk_Normalized(llr_infPar, labels_infPar, 0.8, 1, 10), 3)],\n",
    "]\n",
    "\n",
    "fig, ax = plt.subplots(figsize=(5, 2))\n",
    "ax.axis('tight')\n",
    "ax.axis('off')\n",
    "\n",
    "table = ax.table(cellText=rows, colLabels=None, cellLoc='center', loc='center')\n",
    "plt.title(\"min DCF\", pad=20, fontsize=14)\n",
    "table.auto_set_font_size(False)  # Disable auto font size\n",
    "table.set_fontsize(10)  # Set a fixed font size\n",
    "table.scale(1.5, 1.5)  # Adjust the scale for better visibility\n",
    "plt.show()"
   ]
  },
  {
   "cell_type": "markdown",
   "id": "fdc383dd",
   "metadata": {},
   "source": [
    "The values right here are the normnalized Bayes Empirical Risks that we would have with a **perfect score calibration**. They are all $\\lt 1$ so the four test systems are **all good and useful**. <br>\n",
    "However, comparing this scores to the DCF we computed before, with the except of the first application, we can observe a significant loss due to poor calibration. This\n",
    "loss is even more significant for the two applications which had a normalized DCF larger than 1. In these\n",
    "two scenarios, our classifier is able to provide discriminant scores, but **we were not able to employ the scores to make better decisions than those that we would make from the Prior alone** (so, using the *dummy system* that just looks at $\\pi_{H_T}$).\n"
   ]
  }
 ],
 "metadata": {
  "kernelspec": {
   "display_name": "Python 3",
   "language": "python",
   "name": "python3"
  },
  "language_info": {
   "codemirror_mode": {
    "name": "ipython",
    "version": 3
   },
   "file_extension": ".py",
   "mimetype": "text/x-python",
   "name": "python",
   "nbconvert_exporter": "python",
   "pygments_lexer": "ipython3",
   "version": "3.9.13"
  }
 },
 "nbformat": 4,
 "nbformat_minor": 5
}
