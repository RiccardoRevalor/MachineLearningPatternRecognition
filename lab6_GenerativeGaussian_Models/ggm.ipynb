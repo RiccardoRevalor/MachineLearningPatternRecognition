{
 "cells": [
  {
   "cell_type": "markdown",
   "metadata": {},
   "source": [
    "# Generative Gaussian Models"
   ]
  },
  {
   "cell_type": "markdown",
   "metadata": {},
   "source": [
    "We'll use again the *iris* dataset, and solve the iris classification prolem using Gaussian classifiers."
   ]
  },
  {
   "cell_type": "code",
   "execution_count": 1,
   "metadata": {},
   "outputs": [],
   "source": [
    "import numpy as np\n",
    "import matplotlib.pyplot as plt\n",
    "from load_dataset import loadDataSet                                #for loading the dataset\n",
    "from train_validation_split import splitTrainingValidation          #for splitting the dataset into training and validation sets\n",
    "from mean_covariance import vcol, vrow, compute_mu_C                #for computing the empirical mean and the empirical covariance of the dataset \n",
    "from logpdf_loglikelihood_GAU import logpdf_GAU_ND                  #for computing the log-likelihood of the Gaussian distribution\n",
    "from sklearn.metrics import classification_report                   #for generating the classification report of the models\n",
    "from scipy.special import logsumexp                                 #for scipy.special.logsumexp"
   ]
  },
  {
   "cell_type": "code",
   "execution_count": 2,
   "metadata": {},
   "outputs": [
    {
     "name": "stdout",
     "output_type": "stream",
     "text": [
      "Data shape:  (4, 150)\n",
      "Labels shape:  (150,)\n"
     ]
    }
   ],
   "source": [
    "numFeatures = 4\n",
    "\n",
    "#load the iris dataset\n",
    "D, L = loadDataSet('iris.csv', numFeatures)\n",
    "print(\"Data shape: \", D.shape)\n",
    "print(\"Labels shape: \", L.shape)"
   ]
  },
  {
   "cell_type": "code",
   "execution_count": 3,
   "metadata": {},
   "outputs": [
    {
     "name": "stdout",
     "output_type": "stream",
     "text": [
      "Training data shape:  (4, 100)\n",
      "Training labels shape:  (100,)\n",
      "Evaluation data shape:  (4, 50)\n",
      "Evaluation labels shape:  (50,)\n"
     ]
    }
   ],
   "source": [
    "#split the dataset into training and validation sets\n",
    "#DTR and LTR are training data and labels, DTE and LTE are evaluation (or more precisely validation) data and labels\n",
    "(DTR, LTR), (DVAL, LVAL) = splitTrainingValidation(2/3, D, L)\n",
    "print(\"Training data shape: \", DTR.shape)\n",
    "print(\"Training labels shape: \", LTR.shape)\n",
    "print(\"Evaluation data shape: \", DVAL.shape)\n",
    "print(\"Evaluation labels shape: \", LVAL.shape)"
   ]
  },
  {
   "cell_type": "markdown",
   "metadata": {},
   "source": [
    "We use 100 samples for training and 50 samples for evaluation."
   ]
  },
  {
   "cell_type": "markdown",
   "metadata": {},
   "source": [
    "## Multivariate Gaussian Classifier\n",
    "The optimal Bayes decision is to select for each test point the class with highest **posterior probability**: having class $c$ and $x_{t}$ as test point, we can thus write:\n",
    "$$\n",
    "c_{t}^{*} = argmax_{c} P (C_{t} = c \\mid \\mathbf{X}_t = \\mathbf{x}_t) \\rightarrow We \\space assign \\space x_{t} \\space to \\space the \\space class \\space having \\space the \\space highest \\space Posterior \\space probability\n",
    "$$ \n",
    "We will assume that the samples are independent and identically distributed (*i.i.d.*) according to $(\\mathbf{X}_t, C_{t}) ∼ (\\mathbf{X}, C)$. <br>\n",
    "Let $f_{X,C}$ be the joint density of $X, C$: we can\n",
    "compute the joint likelihood for the hypothesized class $c$ for the observed test\n",
    "sample $x_{t}$ as $f_{X,C}(x_{t}, c)$ and then use **Bayes rule** to compute the class posterior\n",
    "probability:\n",
    "$$\n",
    "P(C_t = c \\mid \\mathbf{X}_t = \\mathbf{x}_t) = \\frac{f_{\\mathbf{X},C}(\\mathbf{x}_t, c)}{\\sum_{c' \\in C} f_{\\mathbf{X},C}(\\mathbf{x}_t, c')}\n",
    "$$\n",
    "We can factorize the joint density as:\n",
    "$$\n",
    "f_{\\mathbf{X}_t, C_t}(\\mathbf{x}_t, c) = f_{\\mathbf{X} \\mid C}(\\mathbf{x}_t \\mid c) P(c)\n",
    "$$\n",
    "Where:\n",
    "- $f_{\\mathbf{X} \\mid C}(\\mathbf{x}_t \\mid c)$ is the class conditional distribution \n",
    "- $P(c)$ is called *Prior probabilty*: it's application-dependent and describes the probability of the class being $c$ **before** we observe $x_{t}$ \n",
    "\n",
    "In this specific case, we assume that our data, given the class, can be described by a **Gaussian distribution**:\n",
    "$$\n",
    "(\\mathbf{X}_t \\mid C_{t} = c) ∼ (\\mathbf{X} \\mid C = c) ∼ \\mathcal{N}(\\mathbf{µ_{c}}, \\mathbf{Σ_{c}})\n",
    "$$\n",
    "If we knew $\\mathbf{µ_{c}}$, $\\mathbf{Σ_{c}}$ then we could compute the conditional this way;\n",
    "$$\n",
    "f_{\\mathbf{X} \\mid C}(\\mathbf{x}_t \\mid c) = \\mathcal{N}(\\mathbf{µ_{c}}, \\mathbf{Σ_{c}})\n",
    "$$\n",
    "The problem is that we don't have **these parameters** $\\theta = [(\\mathbf{µ_{1}}, \\mathbf{Σ_{1}}), . . . ,(\\mathbf{µ_{k}}, \\mathbf{Σ_{k}})] $, where $k$ is the number of different classes. <br>\n",
    "However, since we have at our disposal a *labeled Dataset*, we can assume:\n",
    "- Gaussian distribution for $\\mathbf{X} \\mid C$\n",
    "- That, given the model parameters $\\theta$, all the samples observations are *i.i.d* \n",
    "\n",
    "After (and only after) making these assumptions, we can plug in the **Maximum Likelihood Estimators** (*MLE*), which, for a **MVG** distribution, are the empirical mean and covariance matrix of each class. So, for each class $c$ we can compute the two estimators:\n",
    "$$\n",
    "\\mu^{MLE}_{c} = \\frac{1}{N_c} \\sum_{i} x_{c,i}, \\quad \n",
    "\\Sigma^{MLE}_{c} = \\frac{1}{N_c} \\sum_{i} (x_{c,i} - \\mu^*_c)(x_{c,i} - \\mu^*_c)^T\n",
    "$$\n",
    "Where $x_{c,i}$ is the $i$-th sample of class $c$.\n"
   ]
  },
  {
   "cell_type": "code",
   "execution_count": 4,
   "metadata": {},
   "outputs": [
    {
     "name": "stdout",
     "output_type": "stream",
     "text": [
      "mu_0:\n",
      "[[4.96129032]\n",
      " [3.42903226]\n",
      " [1.46451613]\n",
      " [0.2483871 ]]\n",
      "Shape: (4, 1)\n",
      "mu_1:\n",
      "[[5.91212121]\n",
      " [2.78484848]\n",
      " [4.27272727]\n",
      " [1.33939394]]\n",
      "Shape: (4, 1)\n",
      "mu_2:\n",
      "[[6.45555556]\n",
      " [2.92777778]\n",
      " [5.41944444]\n",
      " [1.98888889]]\n",
      "Shape: (4, 1)\n",
      "C_0:\n",
      "[[0.13140479 0.11370447 0.02862643 0.01187305]\n",
      " [0.11370447 0.16270552 0.01844953 0.01117586]\n",
      " [0.02862643 0.01844953 0.03583767 0.00526535]\n",
      " [0.01187305 0.01117586 0.00526535 0.0108845 ]]\n",
      "Shape: (4, 4)\n",
      "C_1:\n",
      "[[0.26470156 0.09169881 0.18366391 0.05134068]\n",
      " [0.09169881 0.10613407 0.08898072 0.04211203]\n",
      " [0.18366391 0.08898072 0.21955923 0.06289256]\n",
      " [0.05134068 0.04211203 0.06289256 0.03208448]]\n",
      "Shape: (4, 4)\n",
      "C_2:\n",
      "[[0.30080247 0.08262346 0.18614198 0.04311728]\n",
      " [0.08262346 0.08533951 0.06279321 0.05114198]\n",
      " [0.18614198 0.06279321 0.18434414 0.04188272]\n",
      " [0.04311728 0.05114198 0.04188272 0.0804321 ]]\n",
      "Shape: (4, 4)\n"
     ]
    }
   ],
   "source": [
    "#Compute the MLE estimators of a MVG distribtion, which are the empirical mean and covariance of the training data\n",
    "mu_0, C_0, = compute_mu_C(DTR[:, LTR == 0])\n",
    "mu_1, C_1, = compute_mu_C(DTR[:, LTR == 1])\n",
    "mu_2, C_2, = compute_mu_C(DTR[:, LTR == 2])\n",
    "\n",
    "print(f\"mu_0:\\n{mu_0}\\nShape: {mu_0.shape}\")\n",
    "print(f\"mu_1:\\n{mu_1}\\nShape: {mu_1.shape}\")\n",
    "print(f\"mu_2:\\n{mu_2}\\nShape: {mu_2.shape}\")\n",
    "print(f\"C_0:\\n{C_0}\\nShape: {C_0.shape}\")\n",
    "print(f\"C_1:\\n{C_1}\\nShape: {C_1.shape}\")\n",
    "print(f\"C_2:\\n{C_2}\\nShape: {C_2.shape}\")"
   ]
  },
  {
   "cell_type": "markdown",
   "metadata": {},
   "source": [
    "Given the estimated model, we now turn our attention towards inference for a test sample $x$. As we\n",
    "have seen, the final goal is to compute class posterior probabilities $P(c \\mid \\mathbf{x})$. We split the process in three\n",
    "stages:\n",
    "\n",
    "*Stage 1*: For each sample we compute the likelihoods, so the class conditional probabilities as:\n",
    "$$\n",
    "f_{X|C} (x_t | c) = \\mathcal{N} (x_t | \\mu^{MLE}_c, \\Sigma^{MLE}_c)\n",
    "$$\n",
    "\n",
    "**Beware**: model params were estimated using the *training samples*, whereas densities are computed using *estimation samples*!"
   ]
  },
  {
   "cell_type": "code",
   "execution_count": 5,
   "metadata": {},
   "outputs": [
    {
     "name": "stdout",
     "output_type": "stream",
     "text": [
      "logpdf_0 Shape: (50,)\n",
      "logpdf_1 Shape: (50,)\n",
      "logpdf_2 Shape: (50,)\n"
     ]
    }
   ],
   "source": [
    "\n",
    "\n",
    "#For each class Compute the log-pdf of the training data given the MLE parameters of the MVG distribution\n",
    "#It's better to compute the log-pdf and not the pdf, because the pdf can be very small and can cause numerical problems (underflow)\n",
    "#Then the logpdf gets exponentiated and the numerical problems are avoided\n",
    "logpdf_0 = logpdf_GAU_ND(DVAL, mu_0, C_0)\n",
    "logpdf_1 = logpdf_GAU_ND(DVAL, mu_1, C_1)\n",
    "logpdf_2 = logpdf_GAU_ND(DVAL, mu_2, C_2)\n",
    "\n",
    "print(f\"logpdf_0 Shape: {logpdf_0.shape}\")\n",
    "print(f\"logpdf_1 Shape: {logpdf_1.shape}\")\n",
    "print(f\"logpdf_2 Shape: {logpdf_2.shape}\")\n"
   ]
  },
  {
   "cell_type": "code",
   "execution_count": 6,
   "metadata": {},
   "outputs": [],
   "source": [
    "#Now in order to compute the pds I exponentiate the log-likelihoods\n",
    "pds_0 = np.exp(logpdf_0)\n",
    "pds_1 = np.exp(logpdf_1)\n",
    "pds_2 = np.exp(logpdf_2)"
   ]
  },
  {
   "cell_type": "markdown",
   "metadata": {},
   "source": [
    "I can automate the process and compute a *Score Matrix* having for each row i the conditional of class i and so $S[i, j]$ is the pdf of the j-th sample given the i-th class:"
   ]
  },
  {
   "cell_type": "code",
   "execution_count": 7,
   "metadata": {},
   "outputs": [],
   "source": [
    "def scoreMatrix_Pdf_GAU(D, params):\n",
    "    \"\"\"\n",
    "    Compute the Pdf of the data given the parameters of a Gaussian distribution\n",
    "    and populate the score matrix S with the log-pdf of each class\n",
    "    #The score matrix is filled with the pdfs of the training data given the MLE parameters of the MVG distribution\n",
    "    #S[i, j] is the pdf of the j-th sample given the i-th class\n",
    "\n",
    "    Parameters:\n",
    "    - D: the data matrix of shape (numFeatures, numSamples)\n",
    "    - params: the model parameters, so  list of tuples (mu, C) where mu is the mean vector fo class c and C is the covariance matrix of class c\n",
    "\n",
    "    Returned Values:\n",
    "    - S: the score matrix of shape (numClasses, numSamples) where each row is the score of the class given the sample\n",
    "\n",
    "    \"\"\"\n",
    "    numClasses = len(params) #number of classes, since for each class we have a tuple (mu, C)\n",
    "\n",
    "    \n",
    "    S = np.zeros((numClasses, D.shape[1]))\n",
    "    for label in range(numClasses):\n",
    "        S[label, :] = np.exp(logpdf_GAU_ND(D, params[label][0], params[label][1]))\n",
    "\n",
    "    return S"
   ]
  },
  {
   "cell_type": "code",
   "execution_count": 8,
   "metadata": {},
   "outputs": [
    {
     "name": "stdout",
     "output_type": "stream",
     "text": [
      "Score matrix shape: (3, 50)\n"
     ]
    }
   ],
   "source": [
    "#Compute score matrix S of log likelihoods for each sample and class\n",
    "S_Likelihoods = scoreMatrix_Pdf_GAU(DVAL, [(mu_0, C_0), (mu_1, C_1), (mu_2, C_2)])\n",
    "print(f\"Score matrix shape: {S_Likelihoods.shape}\")"
   ]
  },
  {
   "cell_type": "markdown",
   "metadata": {},
   "source": [
    "*Stage 2*: We multiply the class conditional probabilities, computed before, with the class *Prior* probabilities. In\n",
    "the following we assume that the three classes have the same Prior probability $P(c) = 1/3$. We can thus\n",
    "compute the joint distribution for samples and classes as:\n",
    "$$\n",
    "f_{X,C}(x_t, c) = f_{X|C}(x_t | c) P_C(c)\n",
    "$$\n"
   ]
  },
  {
   "cell_type": "code",
   "execution_count": 9,
   "metadata": {},
   "outputs": [],
   "source": [
    "def computeSJoint(S, Priors):\n",
    "    \"\"\"\n",
    "    Compute the joint densities by multiplying the score matrix S with the Priors\n",
    "    #The joint densities are the product of the score matrix S with the Priors\n",
    "\n",
    "    Parameters:\n",
    "    - S: the score matrix of shape (numClasses, numSamples) where each row is the score of the class given the sample\n",
    "    - Priors: the priors of the classes, so a list of length numClasses\n",
    "\n",
    "    Returned Values:\n",
    "    - SJoint: the joint densities of shape (numClasses, numSamples) where each row is the joint density of the class given the sample\n",
    "    \"\"\"\n",
    "\n",
    "\n",
    "    \"\"\"\n",
    "    #Old implementation of computeSJoint:\n",
    "\n",
    "\n",
    "    numClasses = len(Priors) #number of classes, since we have 1 prior for each class\n",
    "    newS = np.zeros((numClasses, S.shape[1])) #initialize newS with zeros\n",
    "\n",
    "    for classIndex in range(numClasses):\n",
    "        #multiply each row of S (where 1 row corresponds to a class) with the prior of the class\n",
    "        newS[classIndex, :] = S[classIndex, :] * Priors[classIndex]\n",
    "\n",
    "\n",
    "    return newS\n",
    "    \"\"\"\n",
    "\n",
    "    #S has shape: (numClasses, numSamples)\n",
    "    #Priors has shape: (numClasses, ) -> it's a row vector\n",
    "    #To correctly perform the multiplication, we need to transpose Priors to make it a column vector\n",
    "    return S * vcol(Priors) #multiply each row of S (where 1 row corresponds to a class) with the prior of the class"
   ]
  },
  {
   "cell_type": "code",
   "execution_count": 10,
   "metadata": {},
   "outputs": [
    {
     "name": "stdout",
     "output_type": "stream",
     "text": [
      "Joint densities shape: (3, 50)\n"
     ]
    }
   ],
   "source": [
    "SJoint_MVG = computeSJoint(S_Likelihoods, np.ones((3, )) / 3.) #compute the joint densities by multiplying the score matrix S with the Priors\n",
    "print(f\"Joint densities shape: {SJoint_MVG.shape}\")\n",
    "\n",
    "SJoint_MVG_Sol = np.load(\"./solutions/SJoint_MVG.npy\")\n",
    "\n",
    "\n"
   ]
  },
  {
   "cell_type": "code",
   "execution_count": 11,
   "metadata": {},
   "outputs": [
    {
     "data": {
      "text/plain": [
       "True"
      ]
     },
     "execution_count": 11,
     "metadata": {},
     "output_type": "execute_result"
    }
   ],
   "source": [
    "#Check if the joint densities are equal to the solution\n",
    "#Beware: the joint densities are not equal to the solution, but they are very close to the solution due to numerical problems\n",
    "np.allclose(SJoint_MVG, SJoint_MVG_Sol)"
   ]
  },
  {
   "cell_type": "markdown",
   "metadata": {},
   "source": [
    "The problem stemming from this technique is that these calculations originate many numeric problems! That's why the expressions like: \n",
    "```python\n",
    "SJoint_MVG==SJoint_MVG_Sol\n",
    "```\n",
    "return False whereas expressions like:\n",
    "```python\n",
    "np.allclose(SJoint_MVG, SJoint_MVG_Sol)\n",
    "```\n",
    "return True"
   ]
  },
  {
   "cell_type": "markdown",
   "metadata": {},
   "source": [
    "*Stage 3*: Finally, we can compute the class Posteriors probabilities as:\n",
    "$$\n",
    "P(C_t = c \\mid \\mathbf{X}_t = \\mathbf{x}_t) = \\frac{f_{\\mathbf{X},C}(\\mathbf{x}_t, c)}{\\sum_{c' \\in C} f_{\\mathbf{X},C}(\\mathbf{x}_t, c')}\n",
    "$$\n",
    "At the denominator we sum the joint probability over all classes to compute the marginal densities for each sample wich are $f_{\\mathbf{X}}(\\mathbf{x}_t)$ and have shape ```(1, DVAL.shape[1])```. The *axis_0* has shape equal to 1 since we sum over all the rows, corresponding to the joints for all the classes."
   ]
  },
  {
   "cell_type": "code",
   "execution_count": 12,
   "metadata": {},
   "outputs": [
    {
     "data": {
      "text/plain": [
       "(1, 50)"
      ]
     },
     "execution_count": 12,
     "metadata": {},
     "output_type": "execute_result"
    }
   ],
   "source": [
    "vrow(SJoint_MVG_Sol.sum(0)).shape #check if the first column of the joint densities are equal to the solution"
   ]
  },
  {
   "cell_type": "code",
   "execution_count": 13,
   "metadata": {},
   "outputs": [],
   "source": [
    "def computePosteriors(SJoint):\n",
    "    \"\"\"\n",
    "    Compute the posteriors by normalizing the joint densities\n",
    "    The posteriors are the joint densities divided by the sum of the joint densities which are the marginals\n",
    "\n",
    "    Parameters:\n",
    "    - SJoint: the joint densities of shape (numClasses, numSamples) where each row is the joint density of the class \n",
    "\n",
    "    Returned Values:\n",
    "    - SPost: the posteriors of shape (numClasses, numSamples) where each row is the posterior of the class given the sample\n",
    "    \"\"\"\n",
    "    #1. Compute marginals\n",
    "    SMarginal = vrow(SJoint.sum(0)) #sum over the rows (axis=0) to get the marginal of each sample\n",
    "\n",
    "    #2. Compute posteriors by dividing the joint densities by the marginals\n",
    "    SPost = SJoint / SMarginal #element wise division\n",
    "\n",
    "    return SPost\n",
    "   "
   ]
  },
  {
   "cell_type": "code",
   "execution_count": 14,
   "metadata": {},
   "outputs": [
    {
     "name": "stdout",
     "output_type": "stream",
     "text": [
      "Posteriors shape: (3, 50)\n"
     ]
    }
   ],
   "source": [
    "SPost_MVG = computePosteriors(SJoint_MVG) #compute the posteriors by normalizing the joint densities\n",
    "print(f\"Posteriors shape: {SPost_MVG.shape}\")"
   ]
  },
  {
   "cell_type": "markdown",
   "metadata": {},
   "source": [
    "**Classification Rule**: As said before, the optimal Bayes decision is to select for each test sample the class with highest **posterior probability**: \n",
    "$$\n",
    "c_{t}^{*} = argmax_{c} P (C_{t} = c \\mid \\mathbf{X}_t = \\mathbf{x}_t)\n",
    "$$ "
   ]
  },
  {
   "cell_type": "code",
   "execution_count": 15,
   "metadata": {},
   "outputs": [
    {
     "name": "stdout",
     "output_type": "stream",
     "text": [
      "Predictions shape: (50,)\n",
      "Predictions: [0 0 1 2 2 0 0 0 1 1 0 0 1 0 2 1 2 1 0 2 0 2 0 0 2 0 2 1 1 1 2 2 2 1 0 1 2\n",
      " 2 0 1 1 2 1 0 0 0 2 1 2 0]\n"
     ]
    }
   ],
   "source": [
    "#Select for each sample the class with the highest posterior probability\n",
    "PVAL_MVG = np.argmax(SPost_MVG, axis=0) #select the class with the highest posterior probability for each sample, set axis=0 to select the class with the highest posterior probability for each sample\n",
    "print(f\"Predictions shape: {PVAL_MVG.shape}\")\n",
    "print(f\"Predictions: {PVAL_MVG}\")"
   ]
  },
  {
   "cell_type": "markdown",
   "metadata": {},
   "source": [
    "Error calculation for the MVG ggm model:"
   ]
  },
  {
   "cell_type": "code",
   "execution_count": 16,
   "metadata": {},
   "outputs": [
    {
     "name": "stdout",
     "output_type": "stream",
     "text": [
      "Number of wrong predictions: 2\n",
      "Error Rate: 4.00%\n"
     ]
    }
   ],
   "source": [
    "error_count_MVG = np.count_nonzero(PVAL_MVG != LVAL)\n",
    "print(f\"Number of wrong predictions: {error_count_MVG}\")\n",
    "error_rate_MVG = np.mean(PVAL_MVG != LVAL)\n",
    "print(f\"Error Rate: {error_rate_MVG:.2%}\")"
   ]
  },
  {
   "cell_type": "markdown",
   "metadata": {},
   "source": [
    "Accuracy, Precision, Recall, F-1 Score for the MVG gmm model: <br>\n",
    "With 3 classes, accuracy is compute as:\n",
    "$$\n",
    "acc = \\frac{Correct \\space predictions}{Tot \\space samples} = \\frac{T0+T1+T2}{T0+T1+T2+F0+F1+F2} = 1 - Error \\space Rate\n",
    "$$"
   ]
  },
  {
   "cell_type": "code",
   "execution_count": 17,
   "metadata": {},
   "outputs": [
    {
     "name": "stdout",
     "output_type": "stream",
     "text": [
      "              precision    recall  f1-score   support\n",
      "\n",
      "           0      1.000     1.000     1.000        19\n",
      "           1      1.000     0.882     0.938        17\n",
      "           2      0.875     1.000     0.933        14\n",
      "\n",
      "    accuracy                          0.960        50\n",
      "   macro avg      0.958     0.961     0.957        50\n",
      "weighted avg      0.965     0.960     0.960        50\n",
      "\n"
     ]
    }
   ],
   "source": [
    "print(classification_report(LVAL, PVAL_MVG, digits=3))"
   ]
  },
  {
   "cell_type": "markdown",
   "metadata": {},
   "source": [
    "As we have already discussed, working directly with densities is often problematic, due to numerical\n",
    "issues. It’s useful to implement the whole procedure directly in terms of log-densities (if we need, we can\n",
    "recover posterior probabilities at the end). <br>\n",
    "Working in the *log-domain*, the three stages for computing the class posterior probabilities $P(c \\mid \\mathbf{x})$ are: <br>\n",
    "*Stage 1*: For each sample we compute the log-likelihoods, so the class conditional log-probabilities as:\n",
    "$$\n",
    "\\log f_{X|C} (x_t | c) = \\log \\mathcal{N} (x_t | \\mu^{MLE}_c, \\Sigma^{MLE}_c)\n",
    "$$\n",
    "\n",
    "**Beware**: model params were estimated using the *training samples*, whereas densities are computed using *estimation samples*! <br>\n",
    "We can thus rewrite and extend the function `scoreMatrix_Pdf_GAU` written before:"
   ]
  },
  {
   "cell_type": "code",
   "execution_count": 18,
   "metadata": {},
   "outputs": [],
   "source": [
    "def scoreMatrix_Pdf_GAU(D, params, useLog=False):  \n",
    "    #Compute the (log?)-Pdf of the data given the parameters of a Gaussian distribution and populate the score matrix S with the (log?)-pdf of each class\n",
    "    \"\"\"\n",
    "    Parameters:\n",
    "    - D: the data matrix of shape (numFeatures, numSamples)\n",
    "    - params: the model parameters, so  list of tuples (mu, C) where mu is the mean vector fo class c and C is the covariance matrix of class c\n",
    "    - useLog: if True, compute the log-pdf, else compute the pdf\n",
    "\n",
    "    Returned Values:\n",
    "    - S: the score matrix of shape (numClasses, numSamples) where each row is the score of the class given the sample\n",
    "\n",
    "    \"\"\"\n",
    "\n",
    "    #The score matrix is filled with the pdfs of the training data given the MLE parameters of the MVG distribution\n",
    "    #S[i, j] is the pdf of the j-th sample given the i-th class\n",
    "    \n",
    "    numClasses = len(params) #number of classes, since for each class we have a tuple (mu, C)\n",
    "    S = np.zeros((numClasses, D.shape[1]))\n",
    "    for label in range(numClasses):\n",
    "        if useLog:\n",
    "            #if useLog is True, then compute the log-pdf\n",
    "            S[label, :] = logpdf_GAU_ND(D, params[label][0], params[label][1])\n",
    "        else:\n",
    "            #if useLog is False, then compute the pdf\n",
    "            S[label, :] = np.exp(logpdf_GAU_ND(D, params[label][0], params[label][1]))\n",
    "\n",
    "    return S"
   ]
  },
  {
   "cell_type": "code",
   "execution_count": 19,
   "metadata": {},
   "outputs": [
    {
     "name": "stdout",
     "output_type": "stream",
     "text": [
      "log Score matrix shape: (3, 50)\n"
     ]
    }
   ],
   "source": [
    "#Compute score matrix S of log likelihoods for each sample and class\n",
    "S_logLikelihoods = scoreMatrix_Pdf_GAU(DVAL, [(mu_0, C_0), (mu_1, C_1), (mu_2, C_2)], useLog=True)\n",
    "print(f\"log Score matrix shape: {S_logLikelihoods.shape}\")"
   ]
  },
  {
   "cell_type": "code",
   "execution_count": 20,
   "metadata": {},
   "outputs": [
    {
     "data": {
      "text/plain": [
       "True"
      ]
     },
     "execution_count": 20,
     "metadata": {},
     "output_type": "execute_result"
    }
   ],
   "source": [
    "np.allclose(np.exp(S_logLikelihoods), S_Likelihoods) #check if the log score matrix, upon exponentiation, is equal to the score matrix "
   ]
  },
  {
   "cell_type": "markdown",
   "metadata": {},
   "source": [
    "*Stage 2*: We add the log class conditional probabilities, computed before, to the log of the class *Prior* probabilities. In\n",
    "the following we assume that the three classes have the same Prior probability $P(c) = 1/3$. We can thus\n",
    "compute the joint distribution for samples and classes in the *log-domain* as:\n",
    "$$\n",
    "l_{c} = \\log f_{X,C}(x_t, c) = \\log \\left( f_{X|C}(x_t | c) P_C(c) \\right) = \\log f_{X|C}(x_t | c) + \\log P_C(c)\n",
    "$$"
   ]
  },
  {
   "cell_type": "code",
   "execution_count": 21,
   "metadata": {},
   "outputs": [],
   "source": [
    "def computeSJoint(S, Priors, useLog=False):\n",
    "    # Compute the joint densities by multiplying the score matrix S with the Priors\n",
    "    \"\"\"\n",
    "    Parameters:\n",
    "    - S: the score matrix of shape (numClasses, numSamples) where each row is the score of the class given the sample\n",
    "    - Priors: the priors of the classes, so a list of length numClasses\n",
    "    - useLog: if True, compute the log-joint densities, else compute the joint densities\n",
    "\n",
    "    Returned Values:\n",
    "    - SJoint: the (log?)joint densities of shape (numClasses, numSamples) where each row is the joint density of the class given the sample\n",
    "    \"\"\"\n",
    "    \n",
    "\n",
    "    if (useLog):\n",
    "        #S needs to be already in log scale, so we just need to add the log of the priors\n",
    "        return S + vcol(np.log(Priors)) #multiply each row of S (where 1 row corresponds to a class) with the prior of the class\n",
    "    else:\n",
    "        return S * vcol(Priors)"
   ]
  },
  {
   "cell_type": "code",
   "execution_count": 22,
   "metadata": {},
   "outputs": [],
   "source": [
    "SJoint_log_MVG = computeSJoint(S_logLikelihoods, np.ones((3, )) / 3., useLog=True) #compute the joint densities by multiplying the score matrix S with the Priors"
   ]
  },
  {
   "cell_type": "code",
   "execution_count": 23,
   "metadata": {},
   "outputs": [],
   "source": [
    "SJoint_log_MVG_Sol = np.load(\"./solutions/logSJoint_MVG.npy\")"
   ]
  },
  {
   "cell_type": "code",
   "execution_count": 24,
   "metadata": {},
   "outputs": [
    {
     "data": {
      "text/plain": [
       "True"
      ]
     },
     "execution_count": 24,
     "metadata": {},
     "output_type": "execute_result"
    }
   ],
   "source": [
    "np.allclose(np.exp(SJoint_log_MVG), SJoint_MVG) #check if the log joint densities, upon exponentiation, are equal to the joint densities"
   ]
  },
  {
   "cell_type": "markdown",
   "metadata": {},
   "source": [
    "*Stage 3*: Finally, we can compute the log class Posteriors probabilities as:\n",
    "$$\n",
    "\\log P(C_t = c \\mid \\mathbf{X}_t = \\mathbf{x}_t) = \\log \\left( \\frac{f_{\\mathbf{X},C}(\\mathbf{x}_t, c)}{\\sum_{c' \\in C} f_{\\mathbf{X},C}(\\mathbf{x}_t, c')} \\right) = \n",
    "\\log \\left( \\frac{f_{\\mathbf{X},C}(\\mathbf{x}_t, c)}{f_{\\mathbf{X}}(\\mathbf{x}_t)} \\right) = \\log f_{\\mathbf{X},C}(\\mathbf{x}_t, c) - \\log  f_{\\mathbf{X}}(\\mathbf{x}_t) = \\log f_{\\mathbf{X},C}(\\mathbf{x}_t, c) - \\log \\sum_{c} e^{l_{c}}\n",
    "$$ \n",
    "where $l_{c}$ are all the log-joints. <br>\n",
    "However, we need to take care that computing the exponential terms may result again in numerical\n",
    "errors. A robust method to comute $\\log \\sum_{c} e^{l_{c}}$ is to rewrite it as:\n",
    "$$\n",
    "\\log \\sum_{c} e^{l_{c}} = l + \\log \\sum_{c} e^{l_{c} - l}\n",
    "$$\n",
    "where $l$ is the highest of the log-joints: $l = max_{c} {l_{c}}$\n",
    "This is known as the *log-sum-exp* trick, and is already implemented in *scipy* as `scipy.special.logsumexp`. We can thus use `scipy.special.logsumexp(s)`,\n",
    "where `s` is the array that contains the joint log-probabilities for a given sample, to compute the log-marginals $\\log f_X(x_{t})$. <br>\n",
    "`scipy.special.logsumexp` also allows specifying an axis, thus we can directly compute the array of\n",
    "marginals for all samples directly from the matrix of joint log-densities as we did before.\n",
    "\n"
   ]
  },
  {
   "cell_type": "code",
   "execution_count": 25,
   "metadata": {},
   "outputs": [],
   "source": [
    "def computePosteriors(SJoint, useLog=False):\n",
    "    \"\"\"\n",
    "    Compute the posteriors by normalizing the joint densities\n",
    "    The posteriors are the joint densities divided by the sum of the joint densities which are the marginals\n",
    "\n",
    "    Parameters:\n",
    "    - SJoint: the joint densities of shape (numClasses, numSamples) where each row is the joint density of the class \n",
    "\n",
    "    Returned Values:\n",
    "    - SPost: the posteriors of shape (numClasses, numSamples) where each row is the posterior of the class given the sample\n",
    "    \"\"\"\n",
    "    if useLog:\n",
    "        #1. Compute marginals usign the logsumexp trick to minimize numerical problems\n",
    "        #logsumexp is a function that computes the log of the sum of exponentials of input elements\n",
    "        #It is more numerically stable than computing the sum of exponentials directly\n",
    "        #It computes log(exp(a) + exp(b)) in a numerically stable way\n",
    "\n",
    "        #sum over the rows (axis=0) to get the marginal of each sample\n",
    "        SMarginal = logsumexp(SJoint, axis=0)\n",
    "        #SMarginal has now shape = (numSamples, ) -> it's a row vector\n",
    "        #I need to make it of shape (1, numSamples) \n",
    "        SPost = SJoint - vrow(SMarginal) #element wise division in log scale, so I just need to subtract the marginals from the joint densities\n",
    "        \n",
    "\n",
    "    else:\n",
    "        \n",
    "        #1. Compute marginals\n",
    "        SMarginal = vrow(SJoint.sum(0)) #sum over the rows (axis=0) to get the marginal of each sample\n",
    "\n",
    "        #2. Compute posteriors by dividing the joint densities by the marginals\n",
    "        SPost = SJoint / SMarginal #element wise division\n",
    "\n",
    "    return SPost\n",
    "   "
   ]
  },
  {
   "cell_type": "code",
   "execution_count": 26,
   "metadata": {},
   "outputs": [
    {
     "name": "stdout",
     "output_type": "stream",
     "text": [
      "log Posteriors shape: (3, 50)\n"
     ]
    }
   ],
   "source": [
    "#calculate log S post\n",
    "SPost_log_MVG = computePosteriors(SJoint_log_MVG, useLog=True) #compute the posteriors by normalizing the joint densities\n",
    "print(f\"log Posteriors shape: {SPost_log_MVG.shape}\")"
   ]
  },
  {
   "cell_type": "markdown",
   "metadata": {},
   "source": [
    "Now we check that these posterios probabilities, unpon exponentiation, are the same as the one previosly computed:"
   ]
  },
  {
   "cell_type": "code",
   "execution_count": 27,
   "metadata": {},
   "outputs": [
    {
     "data": {
      "text/plain": [
       "True"
      ]
     },
     "execution_count": 27,
     "metadata": {},
     "output_type": "execute_result"
    }
   ],
   "source": [
    "SPost_log_MVG_Sol = np.load(\"./solutions/logPosterior_MVG.npy\")\n",
    "#Check if the log posteriors are equal to the solution\n",
    "np.allclose(SPost_log_MVG, SPost_log_MVG_Sol) #check if the log posteriors are equal to the solution"
   ]
  },
  {
   "cell_type": "code",
   "execution_count": 28,
   "metadata": {},
   "outputs": [
    {
     "data": {
      "text/plain": [
       "True"
      ]
     },
     "execution_count": 28,
     "metadata": {},
     "output_type": "execute_result"
    }
   ],
   "source": [
    "np.allclose(np.exp(SPost_log_MVG), SPost_MVG) #check if the posteriors, upon exponentiation, are equal to the solution"
   ]
  },
  {
   "cell_type": "markdown",
   "metadata": {},
   "source": [
    "## Naive Bayes Gaussian Classifier\n",
    "We now consider the Naive Bayes version of the classifier. As we have seen, the Naive Bayes version of\n",
    "the MVG is simply a Gaussian classifier where the **covariance matrices are diagonal**. The MLE solution\n",
    "for the mean parameters is the same. For the covariance matrices we diagonalize the MLE solution:\n",
    "$$\n",
    "\\Sigma_c^{MLE, \\space Naive Bayes} = \\text{diag}(\\Sigma_c^{MLE}) = \\text{diag} \\left[ \\frac{1}{N_c} \\sum_i (x_{c,i} - \\mu_c^{MLE})(x_{c,i} - \\mu_c^{MLE})^T \\right]\n",
    "$$"
   ]
  },
  {
   "cell_type": "code",
   "execution_count": 29,
   "metadata": {},
   "outputs": [],
   "source": [
    "# mu_0, mu_1, mu_2 are good\n",
    "# compute C_0, C_1, C_2 for Naive Bayes\n",
    "\n",
    "\"\"\"\n",
    "np.diag(np.array([1, 2, 3])) gives as result:\n",
    "array([[1, 0, 0],\n",
    "       [0, 2, 0],\n",
    "       [0, 0, 3]])\n",
    "You have to repeat twice np.diag since theinner np.diag extracts the diagonal, the outer np.diag creates a diagonal matrix from the vector\n",
    "\"\"\"\n",
    "C_0_NB = np.diag(np.diag(C_0))\n",
    "C_1_NB = np.diag(np.diag(C_1))\n",
    "C_2_NB = np.diag(np.diag(C_2))"
   ]
  },
  {
   "cell_type": "markdown",
   "metadata": {},
   "source": [
    "Then, the procedure is exactly the **same** as with the MVG model: <br>\n",
    "*It's always better to work in the log-domain*\n",
    "- We compute the log class Posteriors in three stages (here they're represented in the equation from the last to the first):\n",
    "$$\n",
    "\\log P(C_t = c \\mid \\mathbf{X}_t = \\mathbf{x}_t) = \\log \\left( \\frac{f_{\\mathbf{X},C}(\\mathbf{x}_t, c)}{\\sum_{c' \\in C} f_{\\mathbf{X},C}(\\mathbf{x}_t, c')} \\right) = \n",
    "\\log \\left( \\frac{f_{\\mathbf{X},C}(\\mathbf{x}_t, c)}{f_{\\mathbf{X}}(\\mathbf{x}_t)} \\right) = \\log f_{\\mathbf{X},C}(\\mathbf{x}_t, c) - \\log  f_{\\mathbf{X}}(\\mathbf{x}_t) = \\log f_{\\mathbf{X},C}(\\mathbf{x}_t, c) - \\log \\sum_{c} e^{l_{c}}\n",
    "$$ \n",
    "- We apply the classification rule (i.e. we assign text sample $x_{t}$ to the class $c$ having the highest log Posterior):\n",
    "$$\n",
    "c_{t}^{*} = argmax_{c} \\log P (C_{t} = c \\mid \\mathbf{X}_t = \\mathbf{x}_t) = argmax_{c} P (C_{t} = c \\mid \\mathbf{X}_t = \\mathbf{x}_t)\n",
    "$$\n",
    " "
   ]
  },
  {
   "cell_type": "markdown",
   "metadata": {},
   "source": [
    "*Stage 1*: compute log Class Conditionals"
   ]
  },
  {
   "cell_type": "code",
   "execution_count": 30,
   "metadata": {},
   "outputs": [
    {
     "name": "stdout",
     "output_type": "stream",
     "text": [
      "log Score matrix shape: (3, 50)\n"
     ]
    }
   ],
   "source": [
    "S_logLikelihoods_NB = scoreMatrix_Pdf_GAU(DVAL, [(mu_0, C_0_NB), (mu_1, C_1_NB), (mu_2, C_2_NB)], useLog=True)\n",
    "print(f\"log Score matrix shape: {S_logLikelihoods_NB.shape}\")"
   ]
  },
  {
   "cell_type": "markdown",
   "metadata": {},
   "source": [
    "*Stage 2*: compute log Joint Score Matrix"
   ]
  },
  {
   "cell_type": "code",
   "execution_count": 31,
   "metadata": {},
   "outputs": [],
   "source": [
    "SJoint_log_NB = computeSJoint(S_logLikelihoods_NB, np.ones((3, )) / 3., useLog=True) #compute the joint densities by multiplying the score matrix S with the Priors"
   ]
  },
  {
   "cell_type": "code",
   "execution_count": 32,
   "metadata": {},
   "outputs": [
    {
     "data": {
      "text/plain": [
       "True"
      ]
     },
     "execution_count": 32,
     "metadata": {},
     "output_type": "execute_result"
    }
   ],
   "source": [
    "SJoint_log_NB_Sol = np.load(\"./solutions/logSJoint_NaiveBayes.npy\")\n",
    "np.allclose(SJoint_log_NB, SJoint_log_NB_Sol) #check if the log joint densities are equal to the solution"
   ]
  },
  {
   "cell_type": "markdown",
   "metadata": {},
   "source": [
    "*Stage 3*: compute log Posteriors"
   ]
  },
  {
   "cell_type": "code",
   "execution_count": 33,
   "metadata": {},
   "outputs": [
    {
     "name": "stdout",
     "output_type": "stream",
     "text": [
      "log Posteriors shape: (3, 50)\n"
     ]
    }
   ],
   "source": [
    "#calculate log S post\n",
    "SPost_log_NB = computePosteriors(SJoint_log_NB, useLog=True) #compute the posteriors by normalizing the joint densities\n",
    "print(f\"log Posteriors shape: {SPost_log_MVG.shape}\")"
   ]
  },
  {
   "cell_type": "code",
   "execution_count": 34,
   "metadata": {},
   "outputs": [
    {
     "data": {
      "text/plain": [
       "True"
      ]
     },
     "execution_count": 34,
     "metadata": {},
     "output_type": "execute_result"
    }
   ],
   "source": [
    "SPost_log_NB_Sol = np.load(\"./solutions/logPosterior_NaiveBayes.npy\")\n",
    "np.allclose(SPost_log_NB, SPost_log_NB_Sol) #check if the log posteriors are equal to the solution"
   ]
  },
  {
   "cell_type": "markdown",
   "metadata": {},
   "source": [
    "*Classification rule*:\n",
    "$\n",
    "c_{t}^{*} = argmax_{c} \\log P (C_{t} = c \\mid \\mathbf{X}_t = \\mathbf{x}_t)\n",
    "$\n"
   ]
  },
  {
   "cell_type": "code",
   "execution_count": 35,
   "metadata": {},
   "outputs": [
    {
     "name": "stdout",
     "output_type": "stream",
     "text": [
      "Predictions shape: (50,)\n",
      "Predictions: [0 0 1 2 2 0 0 0 1 1 0 0 1 0 2 1 2 1 0 2 0 2 0 0 2 0 2 1 1 1 2 2 1 2 0 1 2\n",
      " 2 0 1 1 2 1 0 0 0 2 1 2 0]\n"
     ]
    }
   ],
   "source": [
    "#Select for each sample the class with the highest posterior probability\n",
    "PVAL_NB = np.argmax(SPost_log_NB_Sol, axis=0) #select the class with the highest posterior probability for each sample, set axis=0 to select the class with the highest posterior probability for each sample\n",
    "print(f\"Predictions shape: {PVAL_NB.shape}\")\n",
    "print(f\"Predictions: {PVAL_NB}\")"
   ]
  },
  {
   "cell_type": "markdown",
   "metadata": {},
   "source": [
    "Error calculation for the Naive Bayes ggm model:"
   ]
  },
  {
   "cell_type": "code",
   "execution_count": 36,
   "metadata": {},
   "outputs": [
    {
     "name": "stdout",
     "output_type": "stream",
     "text": [
      "Number of wrong predictions: 2\n",
      "Error Rate: 4.00%\n"
     ]
    }
   ],
   "source": [
    "error_count_NB = np.count_nonzero(PVAL_NB != LVAL)\n",
    "print(f\"Number of wrong predictions: {error_count_NB}\")\n",
    "error_rate_NB = np.mean(PVAL_NB != LVAL)\n",
    "print(f\"Error Rate: {error_rate_NB:.2%}\")"
   ]
  },
  {
   "cell_type": "markdown",
   "metadata": {},
   "source": [
    "Accuracy, Precision, Recall, F-1 Score for the Naive Bayes gmm model:"
   ]
  },
  {
   "cell_type": "code",
   "execution_count": 37,
   "metadata": {},
   "outputs": [
    {
     "name": "stdout",
     "output_type": "stream",
     "text": [
      "              precision    recall  f1-score   support\n",
      "\n",
      "           0      1.000     1.000     1.000        19\n",
      "           1      1.000     0.882     0.938        17\n",
      "           2      0.875     1.000     0.933        14\n",
      "\n",
      "    accuracy                          0.960        50\n",
      "   macro avg      0.958     0.961     0.957        50\n",
      "weighted avg      0.965     0.960     0.960        50\n",
      "\n"
     ]
    }
   ],
   "source": [
    "print(classification_report(LVAL, PVAL_MVG, digits=3))"
   ]
  },
  {
   "cell_type": "markdown",
   "metadata": {},
   "source": [
    "## Tied Covariance Gaussian Classifier\n",
    "We now consider the Tied covariance version of the classifier, which assumes that the **covariance matrices of the different classes are tied**. This means that the noise is class-independent, so the\n",
    "distribution of class samples around the class mean is the same for every class. <br>\n",
    "We have seen that the ML solution for the class means is again the same. The\n",
    "ML solution for the covariance matrix is given by the empirical within-class covariance matrix ($S_{w}$):\n",
    "$$\n",
    "\\Sigma^* = S_{w} = \\frac{1}{N} \\sum_c \\sum_i (x_{c,i} - \\mu_c^*) (x_{c,i} - \\mu_c^*)^T\n",
    "$$\n",
    "It's important, again, to underline te fact that $\\Sigma^* = S_{w}$ does **not** depend on the class $c$.\n",
    "Remember that we have already computed within-class covariance matrices when we implemented LDA, but beware: this **happens just using the Maximum Likelihood estimators**, with other techniques this is not the same. <br>\n",
    "To summarize, Tied Covariance MVG and LDA are the same when using MLE and assuming equal covariance matrices for the classes. The decision boundary will be the same, and both methods lead to the same discriminant function. <br>\n",
    "This function below is taken from the LAB3 Code and modified to compute just $S_{w}$ and not $S_{b}$:"
   ]
  },
  {
   "cell_type": "code",
   "execution_count": 38,
   "metadata": {},
   "outputs": [],
   "source": [
    "def computeSw(D, L):\n",
    "    '''\n",
    "    Params:\n",
    "    - D: Dataset features matrix, not ceCntered\n",
    "    - L: Labels of the samples\n",
    "\n",
    "    Returned Values:\n",
    "    - Sw: Within-class scatter matrix\n",
    "    '''\n",
    "\n",
    "    #find the unique labels for each class\n",
    "    uniqueLabels = np.unique(L)\n",
    "\n",
    "    #nc in the formula is computed as the number of samples of class c\n",
    "    #separate data into classes\n",
    "    DC = [D[:, L == label] for label in uniqueLabels]  #DC[0] -> samples of class 0, DC[1] -> samples of class 1 etc...\n",
    "\n",
    "    #compute nc for each class\n",
    "    #each element in DC has a shape which is (4, DC_i.shape[1]) (assuming samples are not equally distributed among all the classes which is true in 99% of cases...)\n",
    "    #So for nc I just have to take DC_i.shape[1] for each i in DC\n",
    "    nc = [DC_i.shape[1] for DC_i in DC]\n",
    "\n",
    "    #Compute the mean as done before with PCA\n",
    "    mu = D.mean(axis=1)\n",
    "    mu = mu.reshape((mu.shape[0], 1))\n",
    "\n",
    "    #Now compute the mean for each class\n",
    "    muC = [DC[label].mean(axis=1) for label, labelName in enumerate(uniqueLabels)]\n",
    "    muC = [mc.reshape((mc.shape[0], 1)) for mc in muC]\n",
    "\n",
    "    Sw = 0  #within  matrix initialization\n",
    "\n",
    "    #iterate over all the classes to execute the summations to calculate the Sw matrix\n",
    "    for label, labelName in enumerate(uniqueLabels):\n",
    "\n",
    "        #add up to the Sw (within) matrix\n",
    "        #for diff1 subtract the the class mean from the samples of each class, i.e center center the samples for each class \n",
    "        diff1 = DC[label] - muC[label]  #x_{c, i} - muC done by rows\n",
    "\n",
    "        #SHORTCUT: compute the Sw matrix as a weighted sum of the covariance matrices of each class\n",
    "        #so for each class:\n",
    "        #Compute the Covariance Matrix C using DC = D - mu\n",
    "        C_i = (diff1 @ diff1.T) / float(diff1.shape[1])  #Covariance matrix for class i\n",
    "\n",
    "        #weighted sum of all the C_i\n",
    "        Sw += nc[label] * C_i\n",
    "\n",
    "    \n",
    "    #at the end of the summations, just multiply by 1/N (N is the number of samples)\n",
    "    Sw = Sw / D.shape[1]\n",
    "\n",
    "    #return both matrices\n",
    "    return Sw"
   ]
  },
  {
   "cell_type": "code",
   "execution_count": 39,
   "metadata": {},
   "outputs": [
    {
     "name": "stdout",
     "output_type": "stream",
     "text": [
      "Tied covariance matrix shape: (4, 4)\n",
      "Tied covariance matrix:\n",
      "[[0.23637589 0.09525344 0.1364944  0.03614529]\n",
      " [0.09525344 0.11618517 0.05768855 0.0357726 ]\n",
      " [0.1364944  0.05768855 0.14992811 0.03746458]\n",
      " [0.03614529 0.0357726  0.03746458 0.04291763]]\n"
     ]
    }
   ],
   "source": [
    "#Compute the Sw matrix which is the single tied covariance matrix for all classes\n",
    "C_Tied = computeSw(DTR, LTR) #compute the Sw matrix which is the single tied covariance matrix for all classes\n",
    "print(f\"Tied covariance matrix shape: {C_Tied.shape}\")\n",
    "print(f\"Tied covariance matrix:\\n{C_Tied}\")"
   ]
  },
  {
   "cell_type": "markdown",
   "metadata": {},
   "source": [
    "Alternatively, we can observe that, given $\\Sigma^*_c$ which is the ML solution for class $c$ for the MVG Model, we can compute the tied Covariance Matrix as:\n",
    "$$\n",
    "\\Sigma^* = \\frac{1}{N} \\sum_c N_c \\Sigma^*_c\n",
    "$$"
   ]
  },
  {
   "cell_type": "code",
   "execution_count": 40,
   "metadata": {},
   "outputs": [],
   "source": [
    "def computeParams_ML_TiedCov(D, labels, useLDAForTiedCov=False):\n",
    "    #Compute the ML (Maximum Likelihood) parameters of the MVG Tied Covariance model\n",
    "    \"\"\"\n",
    "    Parameters:\n",
    "    - D: the data matrix of shape (numFeatures, numSamples)\n",
    "    - labels: the labels of the data, so a list of length numSamples\n",
    "    - useLDAForTiedCov: if True, compute the covariance matrix using the LDA method, else compute the covariance matrix summing all the Covariance of each class * Nc and dividing by N\n",
    "\n",
    "    Returned Values:\n",
    "    params:\n",
    "    - CTied: the tied covariance matrix of shape (numFeatures, numFeatures) which is the same for all classes\n",
    "    - mu: the mean vectors of shape (numFeatures, numClasses) where each column is the mean vector of the class c\n",
    "    \"\"\"\n",
    "\n",
    "    params = []\n",
    "    classes = np.unique(labels)  #.shape[0] #number of classes\n",
    "\n",
    "    if (useLDAForTiedCov):\n",
    "        #compute the covariance matrix using the LDA method\n",
    "        Sw = computeSw(D, labels)\n",
    "        for label in classes:\n",
    "            #compute MLE meanst of each class i\n",
    "            mu, _ = compute_mu_C(D[:, labels == label])\n",
    "            params.append((mu, Sw))\n",
    "\n",
    "        return params\n",
    "\n",
    "    else:\n",
    "        CTied = 0                               #initialize the tied covariance matrix\n",
    "        muVect = {}                        #initialize the mean vectors list\n",
    "        for label in classes:\n",
    "            #compute MLE estimates of mean and covariance matrix for each class i\n",
    "            D_c = D[:, labels == label]\n",
    "            Nc = D_c.shape[1]                   #Nc is the number of samples of class c\n",
    "            mu, C = compute_mu_C(D_c)\n",
    "            muVect[label] = mu                #store the mean vector of class c\n",
    "            CTied += Nc * C\n",
    "\n",
    "        #at the end do: CTied / N\n",
    "        CTied = CTied / D.shape[1]              #N = D.shape[1] is the number of samples\n",
    "\n",
    "        #put everything in the params list\n",
    "        for label in classes:\n",
    "            params.append((muVect[label], CTied))\n",
    "\n",
    "        return params"
   ]
  },
  {
   "cell_type": "code",
   "execution_count": 41,
   "metadata": {},
   "outputs": [
    {
     "name": "stdout",
     "output_type": "stream",
     "text": [
      "Tied covariance matrix shape: (4, 4)\n",
      "Tied covariance matrix:\n",
      "[[0.23637589 0.09525344 0.1364944  0.03614529]\n",
      " [0.09525344 0.11618517 0.05768855 0.0357726 ]\n",
      " [0.1364944  0.05768855 0.14992811 0.03746458]\n",
      " [0.03614529 0.0357726  0.03746458 0.04291763]]\n"
     ]
    }
   ],
   "source": [
    "#Compute CTied and muVect for the training data usign MLE\n",
    "TiedCov_Params = computeParams_ML_TiedCov(DTR, LTR) #compute the CTied and muVect for the training data usign MLE\n",
    "CTied = TiedCov_Params[0][1]                        #get the tied covariance matrix f\n",
    "print(f\"Tied covariance matrix shape: {CTied.shape}\")\n",
    "print(f\"Tied covariance matrix:\\n{CTied}\")"
   ]
  },
  {
   "cell_type": "code",
   "execution_count": 42,
   "metadata": {},
   "outputs": [
    {
     "data": {
      "text/plain": [
       "array([[ True,  True,  True,  True],\n",
       "       [ True,  True,  True,  True],\n",
       "       [ True,  True,  True,  True],\n",
       "       [ True,  True,  True,  True]])"
      ]
     },
     "execution_count": 42,
     "metadata": {},
     "output_type": "execute_result"
    }
   ],
   "source": [
    "computeParams_ML_TiedCov(DTR, LTR, useLDAForTiedCov=True)[0][1] == computeParams_ML_TiedCov(DTR, LTR)[0][1] #check if the covariance matrix is the same for both methods"
   ]
  },
  {
   "cell_type": "code",
   "execution_count": 43,
   "metadata": {},
   "outputs": [
    {
     "name": "stdout",
     "output_type": "stream",
     "text": [
      "log Score matrix shape: (3, 50)\n"
     ]
    }
   ],
   "source": [
    "S_logLikelihoods_TiedCov = scoreMatrix_Pdf_GAU(DVAL, TiedCov_Params, useLog=True) #compute the log-likelihoods of the data given the MLE parameters of the MVG distribution with tied covariance matrix\n",
    "print(f\"log Score matrix shape: {S_logLikelihoods_NB.shape}\")"
   ]
  },
  {
   "cell_type": "code",
   "execution_count": 44,
   "metadata": {},
   "outputs": [],
   "source": [
    "SJoint_log_TiedCov = computeSJoint(S_logLikelihoods_TiedCov, np.ones((3, )) / 3., useLog=True) #compute the joint densities by multiplying the score matrix S with the Priors"
   ]
  },
  {
   "cell_type": "code",
   "execution_count": 45,
   "metadata": {},
   "outputs": [
    {
     "data": {
      "text/plain": [
       "True"
      ]
     },
     "execution_count": 45,
     "metadata": {},
     "output_type": "execute_result"
    }
   ],
   "source": [
    "SJoint_log_TiedCov_Sol = np.load(\"./solutions/logSJoint_TiedMVG.npy\")\n",
    "np.allclose(SJoint_log_TiedCov, SJoint_log_TiedCov_Sol) #check if the log joint densities are equal to the solution"
   ]
  },
  {
   "cell_type": "code",
   "execution_count": 46,
   "metadata": {},
   "outputs": [
    {
     "name": "stdout",
     "output_type": "stream",
     "text": [
      "log Posteriors shape: (3, 50)\n"
     ]
    }
   ],
   "source": [
    "#calculate log S post\n",
    "SPost_log_TiedCov = computePosteriors(SJoint_log_TiedCov, useLog=True) #compute the posteriors by normalizing the joint densities\n",
    "print(f\"log Posteriors shape: {SPost_log_TiedCov.shape}\")"
   ]
  },
  {
   "cell_type": "code",
   "execution_count": 47,
   "metadata": {},
   "outputs": [
    {
     "data": {
      "text/plain": [
       "True"
      ]
     },
     "execution_count": 47,
     "metadata": {},
     "output_type": "execute_result"
    }
   ],
   "source": [
    "SPost_log_TiedCov_Sol = np.load(\"./solutions/logPosterior_TiedMVG.npy\")\n",
    "np.allclose(SPost_log_TiedCov, SPost_log_TiedCov_Sol) #check if the log posteriors are equal to the solution"
   ]
  },
  {
   "cell_type": "markdown",
   "metadata": {},
   "source": [
    "*Classification rule*:\n",
    "$\n",
    "c_{t}^{*} = argmax_{c} \\log P (C_{t} = c \\mid \\mathbf{X}_t = \\mathbf{x}_t)\n",
    "$\n"
   ]
  },
  {
   "cell_type": "code",
   "execution_count": 48,
   "metadata": {},
   "outputs": [
    {
     "name": "stdout",
     "output_type": "stream",
     "text": [
      "Predictions shape: (50,)\n",
      "Predictions: [0 0 1 2 2 0 0 0 1 1 0 0 1 0 2 1 2 1 0 2 0 2 0 0 2 0 2 1 1 1 2 2 1 1 0 1 2\n",
      " 2 0 1 1 2 1 0 0 0 2 1 2 0]\n"
     ]
    }
   ],
   "source": [
    "#Select for each sample the class with the highest posterior probability\n",
    "PVAL_TiedCov = np.argmax(SPost_log_TiedCov_Sol, axis=0) #select the class with the highest posterior probability for each sample, set axis=0 to select the class with the highest posterior probability for each sample\n",
    "print(f\"Predictions shape: {PVAL_TiedCov.shape}\")\n",
    "print(f\"Predictions: {PVAL_TiedCov}\")"
   ]
  },
  {
   "cell_type": "markdown",
   "metadata": {},
   "source": [
    "Error calculation for the Tied Cov. MVG ggm model:"
   ]
  },
  {
   "cell_type": "code",
   "execution_count": 49,
   "metadata": {},
   "outputs": [
    {
     "name": "stdout",
     "output_type": "stream",
     "text": [
      "Number of wrong predictions: 1\n",
      "Error Rate: 2.00%\n"
     ]
    }
   ],
   "source": [
    "error_count_TiedCov = np.count_nonzero(PVAL_TiedCov != LVAL)\n",
    "print(f\"Number of wrong predictions: {error_count_TiedCov}\")\n",
    "error_rate_TiedCov = np.mean(PVAL_TiedCov != LVAL)\n",
    "print(f\"Error Rate: {error_rate_TiedCov:.2%}\")"
   ]
  },
  {
   "cell_type": "markdown",
   "metadata": {},
   "source": [
    "That's the **lowest** Error Rate among all the three models!"
   ]
  },
  {
   "cell_type": "markdown",
   "metadata": {},
   "source": [
    "Accuracy, Precision, Recall, F-1 Score for the Tied Cov. MVG gmm model:"
   ]
  },
  {
   "cell_type": "code",
   "execution_count": 50,
   "metadata": {},
   "outputs": [
    {
     "name": "stdout",
     "output_type": "stream",
     "text": [
      "              precision    recall  f1-score   support\n",
      "\n",
      "           0      1.000     1.000     1.000        19\n",
      "           1      1.000     0.941     0.970        17\n",
      "           2      0.933     1.000     0.966        14\n",
      "\n",
      "    accuracy                          0.980        50\n",
      "   macro avg      0.978     0.980     0.978        50\n",
      "weighted avg      0.981     0.980     0.980        50\n",
      "\n"
     ]
    }
   ],
   "source": [
    "print(classification_report(LVAL, PVAL_TiedCov, digits=3))"
   ]
  },
  {
   "cell_type": "code",
   "execution_count": 51,
   "metadata": {},
   "outputs": [
    {
     "name": "stdout",
     "output_type": "stream",
     "text": [
      "Error Rate MVG: 4.00%\n",
      "Error Rate Naive Bayes: 4.00%\n",
      "Error Rate Tied Covariance MVG: 2.00%\n"
     ]
    }
   ],
   "source": [
    "#print all the 3 error rates\n",
    "print(f\"Error Rate MVG: {error_rate_MVG:.2%}\")\n",
    "print(f\"Error Rate Naive Bayes: {error_rate_NB:.2%}\")\n",
    "print(f\"Error Rate Tied Covariance MVG: {error_rate_TiedCov:.2%}\")"
   ]
  },
  {
   "cell_type": "code",
   "execution_count": 52,
   "metadata": {},
   "outputs": [
    {
     "data": {
      "image/png": "[encoded data removed]",
      "text/plain": [
       "<Figure size 500x200 with 1 Axes>"
      ]
     },
     "metadata": {},
     "output_type": "display_data"
    }
   ],
   "source": [
    "error_rates = [\n",
    "    (\"MVG\", error_rate_MVG), \n",
    "    (\"Naive Bayes\", error_rate_NB),\n",
    "    (\"Tied Covariance MVG\", error_rate_TiedCov)\n",
    "]\n",
    "\n",
    "fig, ax = plt.subplots(figsize=(5, 2))\n",
    "ax.axis('tight')\n",
    "ax.axis('off')\n",
    "\n",
    "table_data = [[name, f\"{error:.2%}\"] for name, error in error_rates]\n",
    "table = ax.table(cellText=table_data, colLabels=[\"Classifier\", \"Error Rate\"], loc=\"center\")\n",
    "\n",
    "#center text in the cells\n",
    "for (i, j), cell in table.get_celld().items():\n",
    "    if i == 0:\n",
    "        cell.set_text_props(weight='bold')\n",
    "    else:\n",
    "        cell.set_text_props(ha='center', va='center')\n",
    "\n",
    "table.auto_set_font_size(False)\n",
    "table.set_fontsize(14)\n",
    "table.auto_set_column_width([0, 1])\n",
    "table.scale(1.5, 1.5)  # Adjust the scale for better visibility\n",
    "plt.title(\"Error Rates of Generative Gaussian Classifiers on Iris Dataset\")\n",
    "plt.show()\n",
    "\n"
   ]
  },
  {
   "cell_type": "markdown",
   "metadata": {},
   "source": [
    "## Binary tasks: log-likelihood ratios and MVG\n",
    "We now focus on the same binary task we employed for LDA (see Laboratory 3), which requries classifying only two kinds of flowers, iris versicolor and iris virginica.\n",
    "So, the first thing to to is to extract just the samples of classes iris-versicolor and iris-virginica from the Dataset."
   ]
  },
  {
   "cell_type": "code",
   "execution_count": 53,
   "metadata": {},
   "outputs": [
    {
     "name": "stdout",
     "output_type": "stream",
     "text": [
      "Training data shape:  (4, 66)\n",
      "Training labels shape:  (66,)\n",
      "Evaluation data shape:  (4, 34)\n",
      "Evaluation labels shape:  (34,)\n"
     ]
    }
   ],
   "source": [
    "D, L = loadDataSet('iris.csv', numFeatures)\n",
    "D_not0 = D[:, L != 0]                                                   #remove the samples of class 0\n",
    "L_not0 = L[L != 0]                                                      #remove the labels of class 0\n",
    "(DTR, LTR), (DVAL, LVAL) = splitTrainingValidation(2/3, D_not0, L_not0) #split the dataset into training and validation sets\n",
    "\n",
    "print(\"Training data shape: \", DTR.shape)\n",
    "print(\"Training labels shape: \", LTR.shape)\n",
    "print(\"Evaluation data shape: \", DVAL.shape)\n",
    "print(\"Evaluation labels shape: \", LVAL.shape)"
   ]
  },
  {
   "cell_type": "markdown",
   "metadata": {},
   "source": [
    "We assign to the test sample $x_{t}$ the class having the highest Posterior probability, comparing $P (C_{t} = 2 \\mid \\mathbf{X}_t = \\mathbf{x}_t)$ and $P (C_{t} = 1 \\mid \\mathbf{X}_t = \\mathbf{x}_t)$, assuming class $2$ is the virginica class and the *true* class, whereas class $1$ is the versicolor class and the *false* class (i.e. we are testing the hypothesis\n",
    "that a flower is from the virginica class). <br>\n",
    "We can jump into the *log-domain* and express the comparison in\n",
    "terms of **class posterior log-ratio**, which is the log of the ratio between the two Posteriors:\n",
    "$$\n",
    "\\log \\text{r}(x_{t}) = \\log \\frac{P (C_{t} = 2 \\mid \\mathbf{X}_t = \\mathbf{x}_t)}{P (C_{t} = 1 \\mid \\mathbf{X}_t = \\mathbf{x}_t)}\n",
    "$$\n",
    "In the log domain this is the sum of two terms:\n",
    "$$\n",
    "\\log \\text{r}(x_{t}) = \\log \\frac{f_{X|C}(x_t | 2)}{f_{X|C}(x_t | 1)} +\n",
    "\\log \\frac{P(C= 2)}{P(C=1)}\n",
    "$$\n",
    "So, we can see that $\\log \\text{r}(x_{t})$ depends on the log of the ratio between the likelihoods of the two classes, plus the log of the priors of the two classes. <br>\n",
    "Since the priors do not depend on the dataset, our system should just focus on providing the first term\n",
    "which is the log of the ratio of the likelihoods, so the conditionals, of the two classes, also called **log-likelihood ratio**:\n",
    "$$\n",
    "s(x_t) = \\text{llr}(x_t) = \\log \\frac{f_{X|C}(x_t | 2)}{f_{X|C}(x_t | 1)} = \\log f_{X|C}(x_t | 2) - \\log f_{X|C}(x_t | 1) = \\log \\mathcal{N}(x_t | \\mu_2, \\Sigma_2) - \\log \\mathcal{N}(x_t | \\mu_1, \\Sigma_1)\n",
    "$$\n",
    "Then the classification rule is simple: we compare the $\\text{llr}(x_{t})$ to the **prior log-odds** $ \\left( \\log \\frac{P(C= 2)}{P(C=1)} \\right)$, which can be considered a selected *threshold* depending on the application. This generates a decision surfaces used to separate and classify our data.\n"
   ]
  },
  {
   "cell_type": "markdown",
   "metadata": {},
   "source": [
    "As always, given the labeled dataset, the parameters of the Gaussians are estimated using the Maximum Likelihood (ML) approach:"
   ]
  },
  {
   "cell_type": "code",
   "execution_count": 54,
   "metadata": {},
   "outputs": [
    {
     "name": "stdout",
     "output_type": "stream",
     "text": [
      "mu_1:\n",
      "[[5.95882353]\n",
      " [2.78529412]\n",
      " [4.32647059]\n",
      " [1.33823529]]\n",
      "Shape: (4, 1)\n",
      "mu_2:\n",
      "[[6.5875  ]\n",
      " [2.95625 ]\n",
      " [5.571875]\n",
      " [2.053125]]\n",
      "Shape: (4, 1)\n",
      "C_1:\n",
      "[[0.30948097 0.10851211 0.21991349 0.07186851]\n",
      " [0.10851211 0.10831315 0.09627163 0.04173875]\n",
      " [0.21991349 0.09627163 0.25018166 0.0807526 ]\n",
      " [0.07186851 0.04173875 0.0807526  0.04000865]]\n",
      "Shape: (4, 4)\n",
      "C_2:\n",
      "[[0.41296875 0.06226562 0.29058594 0.04691406]\n",
      " [0.06226562 0.06308594 0.04564453 0.03201172]\n",
      " [0.29058594 0.04564453 0.28764648 0.04868164]\n",
      " [0.04691406 0.03201172 0.04868164 0.05874023]]\n",
      "Shape: (4, 4)\n"
     ]
    }
   ],
   "source": [
    "#Compute the MLE estimators for class 1 and class 2\n",
    "mu_1, C_1, = compute_mu_C(DTR[:, LTR == 1])\n",
    "mu_2, C_2, = compute_mu_C(DTR[:, LTR == 2])\n",
    "print(f\"mu_1:\\n{mu_1}\\nShape: {mu_1.shape}\")\n",
    "print(f\"mu_2:\\n{mu_2}\\nShape: {mu_2.shape}\")\n",
    "print(f\"C_1:\\n{C_1}\\nShape: {C_1.shape}\")\n",
    "print(f\"C_2:\\n{C_2}\\nShape: {C_2.shape}\")"
   ]
  },
  {
   "cell_type": "code",
   "execution_count": 55,
   "metadata": {},
   "outputs": [
    {
     "name": "stdout",
     "output_type": "stream",
     "text": [
      "loglikelihood_1 Shape: (34,)\n",
      "loglikelihood_2 Shape: (34,)\n"
     ]
    }
   ],
   "source": [
    "#Then we can compute the log-likelihoods for class 1 and class 2 given the MLE parameters of the MVG distribution\n",
    "#Beware: we use the VALIDATION data to compute the log-likelihoods, not the training data!\n",
    "loglikelihood_1 = logpdf_GAU_ND(DVAL, mu_1, C_1)\n",
    "loglikelihood_2 = logpdf_GAU_ND(DVAL, mu_2, C_2)\n",
    "print(f\"loglikelihood_1 Shape: {loglikelihood_1.shape}\")\n",
    "print(f\"loglikelihood_2 Shape: {loglikelihood_2.shape}\")"
   ]
  },
  {
   "cell_type": "code",
   "execution_count": 56,
   "metadata": {},
   "outputs": [
    {
     "name": "stdout",
     "output_type": "stream",
     "text": [
      "llr Shape: (34,)\n"
     ]
    }
   ],
   "source": [
    "#Then we compute the 1-D array of the log-likelihood ratios\n",
    "#In the log-domain, we just need to subtract the log-likelihoods of the two classes\n",
    "llr_MVG = loglikelihood_2 - loglikelihood_1\n",
    "print(f\"llr Shape: {llr_MVG.shape}\")"
   ]
  },
  {
   "cell_type": "code",
   "execution_count": 57,
   "metadata": {},
   "outputs": [
    {
     "data": {
      "text/plain": [
       "True"
      ]
     },
     "execution_count": 57,
     "metadata": {},
     "output_type": "execute_result"
    }
   ],
   "source": [
    "llr_MVG_Sol = np.load(\"./solutions/llr_MVG.npy\")\n",
    "#Check if the log-likelihood ratios are equal to the solution\n",
    "np.allclose(llr_MVG, llr_MVG_Sol) #check if the log-likelihood ratios are equal to the solution"
   ]
  },
  {
   "cell_type": "markdown",
   "metadata": {},
   "source": [
    "For the threshold, given by the **prior log-odds** $ \\left( \\log \\frac{P(C= 2)}{P(C=1)} \\right)$, since we are treating a binary problem, we can rewrite it as follows:\n",
    "$$\n",
    "\\text{Treshold} = \\log \\frac{P(C= 2)}{P(C=1)} = \\log \\frac{\\pi}{1- \\pi}\n",
    "$$\n",
    "where $\\pi$ is the prior, application dependent, probability of observing class $2$. <br>\n",
    "In our case we can assume **uniform** priors so: $\\pi = P(C=2) = 1- \\pi = P(C=1) = \\frac{1}{2}$. <br>\n",
    "Given this assumption, we can rewrite the threshold as:\n",
    "$$\n",
    "\\text{Treshold} = \\log \\frac{\\pi}{1- \\pi} = \\log \\frac{1/2}{1-1/2} = 0\n",
    "$$\n",
    "To summarize, the classification rule is: \n",
    "$$\n",
    "\\text{llr}(x_{t}) = \\log \\mathcal{N}(x_t | \\mu_2, \\Sigma_2) - \\log \\mathcal{N}(x_t | \\mu_1, \\Sigma_1) \\gtrless 0 \\rightarrow\n",
    "\\begin{cases}\n",
    "\\text{class 2} \\space \\text{    if } \\text{llr}(x_{t}) \\geq 0 \\\\\n",
    "\\text{class 1} \\space \\text{    if } \\text{llr}(x_{t}) < 0\n",
    "\\end{cases}\n",
    "$$\n",
    "Geometrically, this means that the decision surface corresponds to the set of points $x_t$ where the two class-conditional densities are equal—i.e., where \n",
    "$f(x_t∣2)=f(x_t∣1)$. This surface acts as the boundary between the two regions of the feature space, each of which is assigned to one of the two classes based on which likelihood is higher. For MVG models, this decision surface is **quadratic** in general, and it partitions the space such that samples falling on one side are closer (in terms of *Mahalanobis* distance) to the class-$2$ distribution, while those on the other side are closer to the class-$1$ distribution. <br>\n",
    "The predictions are thus obtained by assigning label $2$ to samples whose log-likelihood ratio is greater or equal to 0,\n",
    "and label $1$ to the other samples:"
   ]
  },
  {
   "cell_type": "code",
   "execution_count": 58,
   "metadata": {},
   "outputs": [
    {
     "name": "stdout",
     "output_type": "stream",
     "text": [
      "Predictions shape: (34,)\n",
      "Predictions: [1 2 1 2 1 1 1 2 2 2 2 2 2 2 1 1 1 1 1 2 2 1 2 2 2 1 1 1 1 2 2 2 1 1]\n"
     ]
    }
   ],
   "source": [
    "#Classification rule: assign samples whose llr_MVG >= 0 to class 2 and samples whose llr_MVG < 0 to class 1\n",
    "PVAL_bin_MVG = np.where(llr_MVG >= 0, 2, 1) #assign samples whose llr_MVG >= 0 to class 2 and samples whose llr_MVG < 0 to class 1\n",
    "print(f\"Predictions shape: {PVAL_bin_MVG.shape}\")\n",
    "print(f\"Predictions: {PVAL_bin_MVG}\")\n",
    "\n"
   ]
  },
  {
   "cell_type": "markdown",
   "metadata": {},
   "source": [
    "Error Rate for Binary MVG Classifier:"
   ]
  },
  {
   "cell_type": "code",
   "execution_count": 59,
   "metadata": {},
   "outputs": [
    {
     "name": "stdout",
     "output_type": "stream",
     "text": [
      "Number of wrong predictions: 3\n",
      "Error Rate: 8.82%\n"
     ]
    }
   ],
   "source": [
    "error_count_bin_MVG = np.count_nonzero(PVAL_bin_MVG != LVAL)\n",
    "print(f\"Number of wrong predictions: {error_count_bin_MVG}\")\n",
    "error_rate_bin_MVG = np.mean(PVAL_bin_MVG != LVAL)\n",
    "print(f\"Error Rate: {error_rate_bin_MVG:.2%}\")"
   ]
  },
  {
   "cell_type": "markdown",
   "metadata": {},
   "source": [
    "Accuracy, Precision, Recall, F-1 Score for the Binary MVG Classifier:"
   ]
  },
  {
   "cell_type": "code",
   "execution_count": 60,
   "metadata": {},
   "outputs": [
    {
     "name": "stdout",
     "output_type": "stream",
     "text": [
      "              precision    recall  f1-score   support\n",
      "\n",
      "           1      0.882     0.938     0.909        16\n",
      "           2      0.941     0.889     0.914        18\n",
      "\n",
      "    accuracy                          0.912        34\n",
      "   macro avg      0.912     0.913     0.912        34\n",
      "weighted avg      0.913     0.912     0.912        34\n",
      "\n"
     ]
    }
   ],
   "source": [
    "print(classification_report(LVAL, PVAL_bin_MVG, digits=3))"
   ]
  },
  {
   "cell_type": "markdown",
   "metadata": {},
   "source": [
    "Now we try again to apply the same classification rule, based on the comparison of the log-likelihood ratio to an application dependent threhsold, but this time we use the **Tied Covariance MVG** model. <br>\n",
    "As we've seen before, the ML solution for the class means is again the same. The\n",
    "ML solution for the covariance matrix is given by the empirical within-class covariance matrix ($S_{w}$):\n",
    "$$\n",
    "\\Sigma^* = S_{w} = \\frac{1}{N} \\sum_c \\sum_i (x_{c,i} - \\mu_c^*) (x_{c,i} - \\mu_c^*)^T\n",
    "$$\n",
    "It's important again to note that, using (and **only using**) the ML estimators, the tied model provides the same classification\n",
    "rule of **LDA**.\n",
    "Additionally, if the priors are distributed **uniformly** (as in our case where we assume: $\\pi = P(C=2) = 1- \\pi = P(C=1) = \\frac{1}{2}$), the two models are exactly **equivalent**."
   ]
  },
  {
   "cell_type": "code",
   "execution_count": 61,
   "metadata": {},
   "outputs": [
    {
     "data": {
      "text/plain": [
       "(array([[5.95882353],\n",
       "        [2.78529412],\n",
       "        [4.32647059],\n",
       "        [1.33823529]]),\n",
       " array([[0.30948097, 0.10851211, 0.21991349, 0.07186851],\n",
       "        [0.10851211, 0.10831315, 0.09627163, 0.04173875],\n",
       "        [0.21991349, 0.09627163, 0.25018166, 0.0807526 ],\n",
       "        [0.07186851, 0.04173875, 0.0807526 , 0.04000865]]))"
      ]
     },
     "execution_count": 61,
     "metadata": {},
     "output_type": "execute_result"
    }
   ],
   "source": [
    "compute_mu_C(DTR[:, LTR == 1])"
   ]
  },
  {
   "cell_type": "code",
   "execution_count": 62,
   "metadata": {},
   "outputs": [
    {
     "name": "stdout",
     "output_type": "stream",
     "text": [
      "mu_1:\n",
      "[[5.95882353]\n",
      " [2.78529412]\n",
      " [4.32647059]\n",
      " [1.33823529]]\n",
      "Shape: (4, 1)\n",
      "mu_2:\n",
      "[[6.5875  ]\n",
      " [2.95625 ]\n",
      " [5.571875]\n",
      " [2.053125]]\n",
      "Shape: (4, 1)\n",
      "CTied:\n",
      "[[0.23637589 0.09525344 0.1364944  0.03614529]\n",
      " [0.09525344 0.11618517 0.05768855 0.0357726 ]\n",
      " [0.1364944  0.05768855 0.14992811 0.03746458]\n",
      " [0.03614529 0.0357726  0.03746458 0.04291763]]\n",
      "Shape: (4, 4)\n"
     ]
    }
   ],
   "source": [
    "TiedCov_Params_bin = computeParams_ML_TiedCov(DTR, LTR, True) #compute the CTied and muVect for the training data usign MLE\n",
    "CTied_bin = TiedCov_Params[0][1]\n",
    "print(f\"mu_1:\\n{TiedCov_Params_bin[0][0]}\\nShape: {TiedCov_Params_bin[0][0].shape}\")\n",
    "print(f\"mu_2:\\n{TiedCov_Params_bin[1][0]}\\nShape: {TiedCov_Params_bin[1][0].shape}\")\n",
    "print(f\"CTied:\\n{CTied_bin}\\nShape: {CTied_bin.shape}\")\n"
   ]
  },
  {
   "cell_type": "code",
   "execution_count": 63,
   "metadata": {},
   "outputs": [
    {
     "name": "stdout",
     "output_type": "stream",
     "text": [
      "loglikelihood_1 Shape: (34,)\n",
      "loglikelihood_2 Shape: (34,)\n"
     ]
    }
   ],
   "source": [
    "#Then we can compute the log-likelihoods for class 1 and class 2 given the MLE parameters of the MVG distribution\n",
    "#Beware: we use the VALIDATION data to compute the log-likelihoods, not the training data!\n",
    "loglikelihood_1_TiedCov = logpdf_GAU_ND(DVAL, TiedCov_Params_bin[0][0], CTied_bin)\n",
    "loglikelihood_2_TiedCov = logpdf_GAU_ND(DVAL, TiedCov_Params_bin[1][0], CTied_bin)\n",
    "print(f\"loglikelihood_1 Shape: {loglikelihood_1_TiedCov.shape}\")\n",
    "print(f\"loglikelihood_2 Shape: {loglikelihood_2_TiedCov.shape}\")"
   ]
  },
  {
   "cell_type": "code",
   "execution_count": 64,
   "metadata": {},
   "outputs": [
    {
     "name": "stdout",
     "output_type": "stream",
     "text": [
      "llr Shape: (34,)\n"
     ]
    }
   ],
   "source": [
    "#Then we compute the 1-D array of the log-likelihood ratios\n",
    "#In the log-domain, we just need to subtract the log-likelihoods of the two classes\n",
    "llr_TiedCov = loglikelihood_2_TiedCov - loglikelihood_1_TiedCov\n",
    "print(f\"llr Shape: {llr_TiedCov.shape}\")"
   ]
  },
  {
   "cell_type": "markdown",
   "metadata": {},
   "source": [
    "The classification rule remains the same:"
   ]
  },
  {
   "cell_type": "code",
   "execution_count": 65,
   "metadata": {},
   "outputs": [
    {
     "name": "stdout",
     "output_type": "stream",
     "text": [
      "Predictions shape: (34,)\n",
      "Predictions: [1 2 1 2 1 1 1 2 2 2 1 2 2 2 1 1 2 1 1 2 2 1 2 2 2 1 1 1 1 2 2 2 1 1]\n"
     ]
    }
   ],
   "source": [
    "#Classification rule: assign samples whose llr_MVG >= 0 to class 2 and samples whose llr_MVG < 0 to class 1\n",
    "PVAL_bin_TiedCov = np.where(llr_TiedCov >= 0, 2, 1) #assign samples whose llr_MVG >= 0 to class 2 and samples whose llr_MVG < 0 to class 1\n",
    "print(f\"Predictions shape: {PVAL_bin_TiedCov.shape}\")\n",
    "print(f\"Predictions: {PVAL_bin_TiedCov}\")"
   ]
  },
  {
   "cell_type": "markdown",
   "metadata": {},
   "source": [
    "Error Rate for Binary Tied Cov. MVG Classifier:"
   ]
  },
  {
   "cell_type": "code",
   "execution_count": 66,
   "metadata": {},
   "outputs": [
    {
     "name": "stdout",
     "output_type": "stream",
     "text": [
      "Number of wrong predictions: 1\n",
      "Error Rate: 2.94%\n"
     ]
    }
   ],
   "source": [
    "error_count_bin_TiedCov = np.count_nonzero(PVAL_bin_TiedCov != LVAL)\n",
    "print(f\"Number of wrong predictions: {error_count_bin_TiedCov}\")\n",
    "error_rate_bin_TiedCov = np.mean(PVAL_bin_TiedCov != LVAL)\n",
    "print(f\"Error Rate: {error_rate_bin_TiedCov:.2%}\")"
   ]
  },
  {
   "cell_type": "markdown",
   "metadata": {},
   "source": [
    "Accuracy, Precision, Recall, F-1 Score for the Binary Tied Cov. MVG Classifier:"
   ]
  },
  {
   "cell_type": "code",
   "execution_count": 67,
   "metadata": {},
   "outputs": [
    {
     "name": "stdout",
     "output_type": "stream",
     "text": [
      "              precision    recall  f1-score   support\n",
      "\n",
      "           1      0.941     1.000     0.970        16\n",
      "           2      1.000     0.944     0.971        18\n",
      "\n",
      "    accuracy                          0.971        34\n",
      "   macro avg      0.971     0.972     0.971        34\n",
      "weighted avg      0.972     0.971     0.971        34\n",
      "\n"
     ]
    }
   ],
   "source": [
    "print(classification_report(LVAL, PVAL_bin_TiedCov, digits=3))"
   ]
  },
  {
   "cell_type": "code",
   "execution_count": 68,
   "metadata": {},
   "outputs": [
    {
     "data": {
      "image/png": "[encoded data removed]",
      "text/plain": [
       "<Figure size 500x200 with 1 Axes>"
      ]
     },
     "metadata": {},
     "output_type": "display_data"
    }
   ],
   "source": [
    "error_rates = [\n",
    "    (\"Binary MVG\", error_rate_bin_MVG), \n",
    "    (\"Tied Covariance MVG\", error_rate_bin_TiedCov)\n",
    "]\n",
    "\n",
    "fig, ax = plt.subplots(figsize=(5, 2))\n",
    "ax.axis('tight')\n",
    "ax.axis('off')\n",
    "\n",
    "table_data = [[name, f\"{error:.2%}\"] for name, error in error_rates]\n",
    "table = ax.table(cellText=table_data, colLabels=[\"Classifier\", \"Error Rate\"], loc=\"center\")\n",
    "\n",
    "#center text in the cells\n",
    "for (i, j), cell in table.get_celld().items():\n",
    "    if i == 0:\n",
    "        cell.set_text_props(weight='bold')\n",
    "    else:\n",
    "        cell.set_text_props(ha='center', va='center')\n",
    "\n",
    "table.auto_set_font_size(False)\n",
    "table.set_fontsize(14)\n",
    "table.auto_set_column_width([0, 1])\n",
    "table.scale(1.5, 1.5)  # Adjust the scale for better visibility\n",
    "plt.title(\"Error Rates of Binary Generative Gaussian Classifiers on Iris Dataset (Just Class 1 and Class 2)\")\n",
    "plt.savefig(\"error_rates_binary.png\", bbox_inches='tight', dpi=300) #save the figure with a resolution of 300 dpi\n",
    "plt.show()"
   ]
  }
 ],
 "metadata": {
  "kernelspec": {
   "display_name": "Python 3",
   "language": "python",
   "name": "python3"
  },
  "language_info": {
   "codemirror_mode": {
    "name": "ipython",
    "version": 3
   },
   "file_extension": ".py",
   "mimetype": "text/x-python",
   "name": "python",
   "nbconvert_exporter": "python",
   "pygments_lexer": "ipython3",
   "version": "3.9.13"
  }
 },
 "nbformat": 4,
 "nbformat_minor": 2
}
